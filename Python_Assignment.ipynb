{
  "nbformat": 4,
  "nbformat_minor": 0,
  "metadata": {
    "colab": {
      "provenance": []
    },
    "kernelspec": {
      "name": "python3",
      "display_name": "Python 3"
    },
    "language_info": {
      "name": "python"
    }
  },
  "cells": [
    {
      "cell_type": "markdown",
      "source": [
        "# PYTHON ASSIGNMENT"
      ],
      "metadata": {
        "id": "tn0D_e9X_zAi"
      }
    },
    {
      "cell_type": "markdown",
      "source": [
        "**PythonControl Control structure**"
      ],
      "metadata": {
        "id": "FU57QaWprIKD"
      }
    },
    {
      "cell_type": "markdown",
      "source": [
        "1. Write a Python program to check whether a number is positive, negative, or zero using an if...elif...else\n",
        " statement"
      ],
      "metadata": {
        "id": "0DkzSbBN_48s"
      }
    },
    {
      "cell_type": "code",
      "source": [
        "num=int(input(\"Enter a Number:\"))\n",
        "if num>0:\n",
        "  print(\"The Number is positive\")\n",
        "elif num<0:\n",
        "  print(\"The number si negative\")\n",
        "else:\n",
        "  print(\"The number is zero\")"
      ],
      "metadata": {
        "colab": {
          "base_uri": "https://localhost:8080/"
        },
        "id": "uf69ifEu_7HM",
        "outputId": "5f8973db-6047-4a20-b00e-64831d1907de"
      },
      "execution_count": null,
      "outputs": [
        {
          "output_type": "stream",
          "name": "stdout",
          "text": [
            "Enter a Number:5\n",
            "The Number is positive\n"
          ]
        }
      ]
    },
    {
      "cell_type": "markdown",
      "source": [
        "2.Write a program to find the sum of all even numbers from 1 to 50 using a while loop"
      ],
      "metadata": {
        "id": "s9mz-63aDlHJ"
      }
    },
    {
      "cell_type": "code",
      "source": [
        "num=2\n",
        "sum=0\n",
        "while num <=50:\n",
        "  sum+=num\n",
        "  num+=2\n",
        "print(\"the sum of all even numbers from 1 to 50:\",sum)"
      ],
      "metadata": {
        "colab": {
          "base_uri": "https://localhost:8080/"
        },
        "id": "M9mdyYE4DmnL",
        "outputId": "8abcc69b-ad4b-4d64-b214-0237c4e3ded2"
      },
      "execution_count": null,
      "outputs": [
        {
          "output_type": "stream",
          "name": "stdout",
          "text": [
            "the sum of all even numbers from 1 to 50: 650\n"
          ]
        }
      ]
    },
    {
      "cell_type": "markdown",
      "source": [
        "3. Using a for loop, print all numbers from 1 to 100 that are divisible by both 3 and 5"
      ],
      "metadata": {
        "id": "XI0UO21gU-T4"
      }
    },
    {
      "cell_type": "code",
      "source": [
        "num=100\n",
        "for num in range(1,101):\n",
        "  if num%3==0 and num%5==0:\n",
        "    print(\"The numbers from 1 to 100 divisible by both 3 and 5:\",num)\n"
      ],
      "metadata": {
        "colab": {
          "base_uri": "https://localhost:8080/"
        },
        "id": "bjXqP2dVVFKi",
        "outputId": "0c1aaedb-6a3b-42ba-96d8-ed1615877ffa"
      },
      "execution_count": null,
      "outputs": [
        {
          "output_type": "stream",
          "name": "stdout",
          "text": [
            "The numbers from 1 to 100 divisible by both 3 and 5: 15\n",
            "The numbers from 1 to 100 divisible by both 3 and 5: 30\n",
            "The numbers from 1 to 100 divisible by both 3 and 5: 45\n",
            "The numbers from 1 to 100 divisible by both 3 and 5: 60\n",
            "The numbers from 1 to 100 divisible by both 3 and 5: 75\n",
            "The numbers from 1 to 100 divisible by both 3 and 5: 90\n"
          ]
        }
      ]
    },
    {
      "cell_type": "markdown",
      "source": [
        "4. Write a program to check whether a given year is a leap year or not using conditional statements"
      ],
      "metadata": {
        "id": "yZWUDKICYLUt"
      }
    },
    {
      "cell_type": "code",
      "source": [
        "x=int(input(\"Enter a Year:\"))\n",
        "if x%4==0 and x%100!=0 or x%400==0:\n",
        "  print(\"The year a leap year\")\n",
        "else:\n",
        "  print(\"The year is not a leap year\")\n",
        "\n",
        "\n"
      ],
      "metadata": {
        "colab": {
          "base_uri": "https://localhost:8080/"
        },
        "id": "Yv6BRbyAYb_h",
        "outputId": "7224be27-73b1-4d19-e2ee-4509135b01b9"
      },
      "execution_count": null,
      "outputs": [
        {
          "output_type": "stream",
          "name": "stdout",
          "text": [
            "Enter a Year:2017\n",
            "The year is not a leap year\n"
          ]
        }
      ]
    },
    {
      "cell_type": "markdown",
      "source": [
        "5. Implement a menu-driven program using while True and if...elif to perform basic arithmetic operations (+, -,\n",
        " *, /) based on user input."
      ],
      "metadata": {
        "id": "29BZidRRDK9g"
      }
    },
    {
      "cell_type": "code",
      "source": [
        "num = int(input(\"Enter a number:\"))\n",
        "while True:\n",
        "    print(\"Select operation:\\n\")\n",
        "    print(\"1.Addition\")\n",
        "    print(\"2.Subtraction\")\n",
        "    print(\"3.Multiplication\")\n",
        "    print(\"4.Division\")\n",
        "    print(\"5.Exit\")\n",
        "    choice = int(input(\"Enter a choice:\\n\"))\n",
        "    if choice  ==1:\n",
        "        print(\"Addition:\",num+num)\n",
        "    elif choice ==2:\n",
        "        print(\"Subtraction:\",num-num)\n",
        "    elif choice ==3:\n",
        "        print(\"Multiplication:\",num*num)\n",
        "    elif choice ==4:\n",
        "        print(\"Division:\",num/num)\n",
        "    else:\n",
        "        print(\"......Exit....\\nTry again.\")\n",
        "        break"
      ],
      "metadata": {
        "colab": {
          "base_uri": "https://localhost:8080/"
        },
        "id": "k9YbiJjwD-ps",
        "outputId": "92d3ce7f-b7d1-4c78-ba6f-6c10d231abc7"
      },
      "execution_count": null,
      "outputs": [
        {
          "output_type": "stream",
          "name": "stdout",
          "text": [
            "Enter a number:3\n",
            "Select operation:\n",
            "\n",
            "1.Addition\n",
            "2.Subtraction\n",
            "3.Multiplication\n",
            "4.Division\n",
            "5.Exit\n",
            "Enter a choice:\n",
            "1\n",
            "Addition: 6\n",
            "Select operation:\n",
            "\n",
            "1.Addition\n",
            "2.Subtraction\n",
            "3.Multiplication\n",
            "4.Division\n",
            "5.Exit\n",
            "Enter a choice:\n",
            "2\n",
            "Subtraction: 0\n",
            "Select operation:\n",
            "\n",
            "1.Addition\n",
            "2.Subtraction\n",
            "3.Multiplication\n",
            "4.Division\n",
            "5.Exit\n",
            "Enter a choice:\n",
            "3\n",
            "Multiplication: 9\n",
            "Select operation:\n",
            "\n",
            "1.Addition\n",
            "2.Subtraction\n",
            "3.Multiplication\n",
            "4.Division\n",
            "5.Exit\n",
            "Enter a choice:\n",
            "4\n",
            "Division: 1.0\n",
            "Select operation:\n",
            "\n",
            "1.Addition\n",
            "2.Subtraction\n",
            "3.Multiplication\n",
            "4.Division\n",
            "5.Exit\n",
            "Enter a choice:\n",
            "5\n",
            "......Exit....\n",
            "Try again.\n"
          ]
        }
      ]
    },
    {
      "cell_type": "markdown",
      "source": [
        "# Python Functions\n",
        "1. Write a function that accepts a number and returns its factorial."
      ],
      "metadata": {
        "id": "8YI-8c7YHV2C"
      }
    },
    {
      "cell_type": "code",
      "source": [
        "def factorial(n):\n",
        "  if n==0 or n==1:\n",
        "    return 1\n",
        "  else:\n",
        "    return n*factorial(n-1)\n",
        "num=int(input(\"Enter a number:\"))\n",
        "print(\"The factorial of\",num,\"is\",factorial(num))\n"
      ],
      "metadata": {
        "colab": {
          "base_uri": "https://localhost:8080/"
        },
        "id": "Iu4H-8_XHq-t",
        "outputId": "526d0a13-f886-4d7f-a371-0c4fda7156f8"
      },
      "execution_count": null,
      "outputs": [
        {
          "output_type": "stream",
          "name": "stdout",
          "text": [
            "Enter a number:5\n",
            "The factorial of 5 is 120\n"
          ]
        }
      ]
    },
    {
      "cell_type": "markdown",
      "source": [
        "2. Create a function that checks whether a string is a palindrome"
      ],
      "metadata": {
        "id": "U4wQ3KJhOBtc"
      }
    },
    {
      "cell_type": "code",
      "source": [
        "def is_palindrome(palindrome):\n",
        "  palindrome=palindrome.lower()\n",
        "  return palindrome == palindrome[::-1]\n",
        "\n",
        "word=input(\"Enter a String:\")\n",
        "if is_palindrome(word):\n",
        "  print(f'{word} is a palindrome')\n",
        "else:\n",
        "  print(f'{word} is not a palindrome')"
      ],
      "metadata": {
        "colab": {
          "base_uri": "https://localhost:8080/"
        },
        "id": "NK9k-cs_OFkm",
        "outputId": "cc958d2a-79a5-495b-fadf-340619cb4db1"
      },
      "execution_count": null,
      "outputs": [
        {
          "output_type": "stream",
          "name": "stdout",
          "text": [
            "Enter a String:wow\n",
            "wow is a palindrome\n"
          ]
        }
      ]
    },
    {
      "cell_type": "markdown",
      "source": [
        "3. Write a function that takes a list of numbers and returns the average"
      ],
      "metadata": {
        "id": "-Q9yxCpUQNuH"
      }
    },
    {
      "cell_type": "code",
      "source": [
        "def cal_num(numbers):\n",
        "  if not numbers:\n",
        "    return 0\n",
        "  return sum(numbers)/len(numbers)\n",
        "numbers=[9,8,7,6,5,4,3,2,1]\n",
        "average=cal_num(numbers)\n",
        "print(\"The average of the numbers is:\",average)"
      ],
      "metadata": {
        "id": "Tj0VRLpMsH7P",
        "colab": {
          "base_uri": "https://localhost:8080/"
        },
        "outputId": "1f811005-9e41-4175-b425-733aed4d8c2c"
      },
      "execution_count": null,
      "outputs": [
        {
          "output_type": "stream",
          "name": "stdout",
          "text": [
            "The average of the numbers is: 5.0\n"
          ]
        }
      ]
    },
    {
      "cell_type": "markdown",
      "source": [
        "4. Define a function with default arguments that prints a greeting message. Test it with and without passing\n",
        " arguments"
      ],
      "metadata": {
        "id": "-GXN7e8wAQmG"
      }
    },
    {
      "cell_type": "code",
      "source": [
        "def greet(Name=\"Guest\",Msg=\"Welcome!\"):\n",
        "  print(f\"Hello sir/md'm {Name}, {Msg}\")\n",
        "greet(\"kusuma\",\"Welcome to ANSRise!\")\n",
        "greet()"
      ],
      "metadata": {
        "colab": {
          "base_uri": "https://localhost:8080/"
        },
        "id": "tw_FTAFQBB07",
        "outputId": "ffdaba42-bba1-4827-eefe-068acb5c903b"
      },
      "execution_count": null,
      "outputs": [
        {
          "output_type": "stream",
          "name": "stdout",
          "text": [
            "Hello sir/md'm kusuma, Welcome to ANSRise!\n",
            "Hello sir/md'm Guest, Welcome!\n"
          ]
        }
      ]
    },
    {
      "cell_type": "markdown",
      "source": [
        "5.Create a function that accepts a string and returns a dictionary with the count of each character."
      ],
      "metadata": {
        "id": "NF7P-MDmMhRx"
      }
    },
    {
      "cell_type": "code",
      "source": [
        "def char_count(string):\n",
        "  count={}\n",
        "  for char in string:\n",
        "    if char in count:\n",
        "      count[char]+=1\n",
        "    else:\n",
        "      count[char]=1\n",
        "  return count\n",
        "string=input(\"Enter a string:\")\n",
        "result=char_count(string)\n",
        "print(result)"
      ],
      "metadata": {
        "colab": {
          "base_uri": "https://localhost:8080/"
        },
        "id": "MaunLvT1MtWa",
        "outputId": "75606ed3-c0d5-48d0-ce65-56f382b2be25"
      },
      "execution_count": null,
      "outputs": [
        {
          "output_type": "stream",
          "name": "stdout",
          "text": [
            "Enter a string:kusuma\n",
            "{'k': 1, 'u': 2, 's': 1, 'm': 1, 'a': 1}\n"
          ]
        }
      ]
    },
    {
      "cell_type": "markdown",
      "source": [
        "# python lambda functions"
      ],
      "metadata": {
        "id": "2tmOAFFbR6R_"
      }
    },
    {
      "cell_type": "markdown",
      "source": [
        "1.Use a lambda function to calculate the square of a number entered by the user"
      ],
      "metadata": {
        "id": "dhvh4SwfSEhN"
      }
    },
    {
      "cell_type": "code",
      "source": [
        "x = lambda a:a*a\n",
        "print(x(int(input(\"Enter a number:\"))))"
      ],
      "metadata": {
        "colab": {
          "base_uri": "https://localhost:8080/"
        },
        "id": "2ChWF_cpSD2F",
        "outputId": "54439d16-ebc0-4906-e1fa-6d30c7e91773"
      },
      "execution_count": null,
      "outputs": [
        {
          "output_type": "stream",
          "name": "stdout",
          "text": [
            "Enter a number:5\n",
            "25\n"
          ]
        }
      ]
    },
    {
      "cell_type": "markdown",
      "source": [
        "2. Given a list of integers, use map() and a lambda function to create a new list where each number is\n",
        " doubled"
      ],
      "metadata": {
        "id": "ZAXHUHvRVOF_"
      }
    },
    {
      "cell_type": "code",
      "source": [
        "number=[1,2,3,4,5,6,7,8,9]\n",
        "number=list(map(lambda x:x*2,number))\n",
        "print(f\"Doubled Numbers : {number}\")"
      ],
      "metadata": {
        "colab": {
          "base_uri": "https://localhost:8080/"
        },
        "id": "tpYBW1ARVTDo",
        "outputId": "1645970c-27bf-4efc-e1d7-7caa4023fbf9"
      },
      "execution_count": null,
      "outputs": [
        {
          "output_type": "stream",
          "name": "stdout",
          "text": [
            "Doubled Numbers [2, 4, 6, 8, 10, 12, 14, 16, 18]\n"
          ]
        }
      ]
    },
    {
      "cell_type": "markdown",
      "source": [
        "3.Use a lambda function inside filter() to find all numbers divisible by 3 in a list."
      ],
      "metadata": {
        "id": "OdxDgZBPWroS"
      }
    },
    {
      "cell_type": "code",
      "source": [
        "num=[1,2,3,4,5,6,7,8,9,10,11,12]\n",
        "filter_num=list(filter(lambda x:x%3==0 , num))\n",
        "print(f\"Numbers divisible by 3 : {filter_num}\")"
      ],
      "metadata": {
        "colab": {
          "base_uri": "https://localhost:8080/"
        },
        "id": "4_3B9OsxWvoF",
        "outputId": "0375496c-6a36-41eb-cf8e-0ad297230e87"
      },
      "execution_count": null,
      "outputs": [
        {
          "output_type": "stream",
          "name": "stdout",
          "text": [
            "Numbers divisible by 3 : [3, 6, 9, 12]\n"
          ]
        }
      ]
    },
    {
      "cell_type": "markdown",
      "source": [
        "4.Given a list of tuples with student names and marks, use sorted() and a lambda function to sort them by\n",
        " marks in descending order"
      ],
      "metadata": {
        "id": "mare9_rAYyLt"
      }
    },
    {
      "cell_type": "code",
      "source": [
        "import pandas as pd\n",
        "Data={\"students\":(\"kusuma\",\"Varshith\",\"Minnu\",\"sanjana\",\"Laddu\",\"Mahimunnisa\"),\n",
        "      \"Marks_scored\":(99,67,86,78,89,90)\n",
        "      }\n",
        "df=pd.DataFrame(Data)\n",
        "print(\"Before Sorting:\",df)\n",
        "print(\"*\"*30)\n",
        "print(\" \"*30)\n",
        "df.sorted=df.sort_values(by=\"Marks_scored\",ascending=False)\n",
        "print(\"After Sorting:\",df.sorted)\n"
      ],
      "metadata": {
        "colab": {
          "base_uri": "https://localhost:8080/"
        },
        "id": "fWPAxpnTY1hc",
        "outputId": "166e6d56-1f0a-42c3-adfa-4dea3f0aa302"
      },
      "execution_count": null,
      "outputs": [
        {
          "output_type": "stream",
          "name": "stdout",
          "text": [
            "Before Sorting:       students  Marks_scored\n",
            "0       kusuma            99\n",
            "1     Varshith            67\n",
            "2        Minnu            86\n",
            "3      sanjana            78\n",
            "4        Laddu            89\n",
            "5  Mahimunnisa            90\n",
            "******************************\n",
            "                              \n",
            "After Sorting:       students  Marks_scored\n",
            "0       kusuma            99\n",
            "5  Mahimunnisa            90\n",
            "4        Laddu            89\n",
            "2        Minnu            86\n",
            "3      sanjana            78\n",
            "1     Varshith            67\n"
          ]
        },
        {
          "output_type": "stream",
          "name": "stderr",
          "text": [
            "<ipython-input-33-dbae9666db58>:9: UserWarning: Pandas doesn't allow columns to be created via a new attribute name - see https://pandas.pydata.org/pandas-docs/stable/indexing.html#attribute-access\n",
            "  df.sorted=df.sort_values(by=\"Marks_scored\",ascending=False)\n"
          ]
        }
      ]
    },
    {
      "cell_type": "markdown",
      "source": [
        "5. Create a list of strings and use sorted() with a lambda function to sort the list by string length"
      ],
      "metadata": {
        "id": "QIDvpeb2gUU9"
      }
    },
    {
      "cell_type": "code",
      "source": [
        "import pandas as pd\n",
        "lst={\"Names\":[\"kusuma\",\"Mahender\",\"Varshitha\",\"Mahimunnisa\",\"Jhansi\",\"Meenakshi\",\"Pavan\",\"Kaveri\"]}\n",
        "df=pd.DataFrame(lst,columns=[\"Names\"])\n",
        "print(\"Before Sorting:\",df)\n",
        "print(\"*\"*30)\n",
        "print(\" \"*30)\n",
        "df.sorted=df.sort_values(by=\"Names\",key=lambda x:x.str.len())\n",
        "print(\"After sorting :\",df.sorted)"
      ],
      "metadata": {
        "colab": {
          "base_uri": "https://localhost:8080/"
        },
        "id": "hhbcWqSggXW5",
        "outputId": "372e8834-fbba-44f9-8e72-25d12bec153d"
      },
      "execution_count": null,
      "outputs": [
        {
          "output_type": "stream",
          "name": "stdout",
          "text": [
            "Before Sorting:          Names\n",
            "0       kusuma\n",
            "1     Mahender\n",
            "2    Varshitha\n",
            "3  Mahimunnisa\n",
            "4       Jhansi\n",
            "5    Meenakshi\n",
            "6        Pavan\n",
            "7       Kaveri\n",
            "******************************\n",
            "                              \n",
            "After sorting :          Names\n",
            "6        Pavan\n",
            "0       kusuma\n",
            "4       Jhansi\n",
            "7       Kaveri\n",
            "1     Mahender\n",
            "2    Varshitha\n",
            "5    Meenakshi\n",
            "3  Mahimunnisa\n"
          ]
        },
        {
          "output_type": "stream",
          "name": "stderr",
          "text": [
            "<ipython-input-34-90e993263ec6>:7: UserWarning: Pandas doesn't allow columns to be created via a new attribute name - see https://pandas.pydata.org/pandas-docs/stable/indexing.html#attribute-access\n",
            "  df.sorted=df.sort_values(by=\"Names\",key=lambda x:x.str.len())\n"
          ]
        }
      ]
    }
  ]
}