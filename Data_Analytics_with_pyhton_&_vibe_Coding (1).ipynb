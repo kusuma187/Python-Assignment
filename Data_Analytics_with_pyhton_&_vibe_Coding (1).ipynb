{
  "cells": [
    {
      "cell_type": "markdown",
      "source": [
        "**DAY-1**"
      ],
      "metadata": {
        "id": "W_8JEnojEO9I"
      }
    },
    {
      "cell_type": "code",
      "execution_count": null,
      "metadata": {
        "colab": {
          "base_uri": "https://localhost:8080/"
        },
        "id": "ahie50qaBPW-",
        "outputId": "d1f85d06-f3fa-4cad-8aa2-c885f5c22c4d"
      },
      "outputs": [
        {
          "name": "stdout",
          "output_type": "stream",
          "text": [
            "Welcome to ANSRise\n",
            "welcome to python\n"
          ]
        }
      ],
      "source": [
        "# data analytics with python on 12-05-1025 at 20:10 hrs IST by ANSRise\n",
        "print (\"Welcome to ANSRise\")\n",
        "print('welcome to python')"
      ]
    },
    {
      "cell_type": "code",
      "execution_count": null,
      "metadata": {
        "colab": {
          "base_uri": "https://localhost:8080/"
        },
        "id": "qknjLzrwC0nZ",
        "outputId": "57c281cb-8979-4abf-9e9c-1f9fbea24651"
      },
      "outputs": [
        {
          "name": "stdout",
          "output_type": "stream",
          "text": [
            "39\n",
            "my age is  39\n",
            "My age is  39 years\n"
          ]
        }
      ],
      "source": [
        "age=39\n",
        "print(age)\n",
        "print('my age is ',age)\n",
        "print('My age is ',age,'years')\n"
      ]
    },
    {
      "cell_type": "markdown",
      "metadata": {
        "id": "g-4xHjl-ERmz"
      },
      "source": [
        "Formatted string literals - f-string\n",
        "first in python version 3.6 - Dec 23,2016 by a fomous python developer  Eric.V smith\n"
      ]
    },
    {
      "cell_type": "code",
      "execution_count": null,
      "metadata": {
        "colab": {
          "base_uri": "https://localhost:8080/"
        },
        "id": "UOGqgGMXEzGS",
        "outputId": "4f6b7e65-19bb-4bc1-e1d8-fbc59115dcdc"
      },
      "outputs": [
        {
          "name": "stdout",
          "output_type": "stream",
          "text": [
            "My age is 39 years\n"
          ]
        }
      ],
      "source": [
        "age=39\n",
        "print(f'My age is {age} years')\n"
      ]
    },
    {
      "cell_type": "code",
      "execution_count": null,
      "metadata": {
        "colab": {
          "base_uri": "https://localhost:8080/"
        },
        "id": "6gHjS0xkFZhj",
        "outputId": "2203d48a-e1f8-4599-c7e7-fe643b88c66b"
      },
      "outputs": [
        {
          "name": "stdout",
          "output_type": "stream",
          "text": [
            ",y name is Ashish and my friend name is kusuma\n"
          ]
        }
      ],
      "source": [
        "name1=\"Ashish\"\n",
        "name2='kusuma'\n",
        "print(f',my name is {name1} and my friend name is {name2}')"
      ]
    },
    {
      "cell_type": "code",
      "execution_count": null,
      "metadata": {
        "colab": {
          "base_uri": "https://localhost:8080/"
        },
        "id": "s1oI6QH7GYtM",
        "outputId": "c6717cfa-2ad9-4771-a8c2-ce0a47119f54"
      },
      "outputs": [
        {
          "name": "stdout",
          "output_type": "stream",
          "text": [
            "my name is Ashish and my friend name is Eshwar\n"
          ]
        }
      ],
      "source": [
        "name1=\"Ashish\"\n",
        "name2=\"Eshwar\"\n",
        "message=f'my name is {name1} and my friend name is {name2}'\n",
        "print(message)"
      ]
    },
    {
      "cell_type": "code",
      "execution_count": null,
      "metadata": {
        "colab": {
          "base_uri": "https://localhost:8080/"
        },
        "id": "_9Z20ypxIb4t",
        "outputId": "e896c39f-cf09-4f6c-ccec-6c9e47e770a7"
      },
      "outputs": [
        {
          "name": "stdout",
          "output_type": "stream",
          "text": [
            "40\n"
          ]
        }
      ],
      "source": [
        "age=40\n",
        "print(age)"
      ]
    },
    {
      "cell_type": "code",
      "execution_count": null,
      "metadata": {
        "colab": {
          "base_uri": "https://localhost:8080/"
        },
        "id": "ULxg_T7bIs5x",
        "outputId": "d5ec86e5-f01d-4cbe-96d3-3ef6cadef2b4"
      },
      "outputs": [
        {
          "name": "stdout",
          "output_type": "stream",
          "text": [
            "my name is sameer same as my friends name Kusuma\n"
          ]
        }
      ],
      "source": [
        "name='sameer'\n",
        "Name=\"Kusuma\"\n",
        "msg=f'my name is {name} same as my friends name {Name}'\n",
        "print(msg)"
      ]
    },
    {
      "cell_type": "markdown",
      "source": [
        "**DAY-2**"
      ],
      "metadata": {
        "id": "9mprdBzzEVSh"
      }
    },
    {
      "cell_type": "code",
      "execution_count": null,
      "metadata": {
        "colab": {
          "base_uri": "https://localhost:8080/"
        },
        "id": "0s4SKWYe-iid",
        "outputId": "3967a7cf-10b9-47c6-9323-1fb7627595a3"
      },
      "outputs": [
        {
          "name": "stdout",
          "output_type": "stream",
          "text": [
            "age=25\n",
            "<class 'int'>\n"
          ]
        }
      ],
      "source": [
        "#data types on 13-05-2025 at 19:39 hrs IST by ANSRise\n",
        "age=25\n",
        "print(f'age={age}')\n",
        "print(type(age))"
      ]
    },
    {
      "cell_type": "code",
      "execution_count": null,
      "metadata": {
        "colab": {
          "base_uri": "https://localhost:8080/"
        },
        "id": "k02TjrY5_J64",
        "outputId": "d2871618-0caa-4e63-e695-1edc3e3ea508"
      },
      "outputs": [
        {
          "name": "stdout",
          "output_type": "stream",
          "text": [
            "revenue=Rs.10000.00\n"
          ]
        }
      ],
      "source": [
        "product_sold=200\n",
        "price=50\n",
        "total_price=product_sold*price\n",
        "print(f'revenue=Rs.{total_price}.00')"
      ]
    },
    {
      "cell_type": "code",
      "execution_count": null,
      "metadata": {
        "colab": {
          "base_uri": "https://localhost:8080/"
        },
        "id": "ytVYoo0RAPPg",
        "outputId": "2f1ddef1-2e74-4531-d706-d93fff7944c1"
      },
      "outputs": [
        {
          "name": "stdout",
          "output_type": "stream",
          "text": [
            "revenue=Rs.10,000.00\n"
          ]
        }
      ],
      "source": [
        "product_sold=200\n",
        "price=50\n",
        "total_price=product_sold*price\n",
        "print(f'revenue=Rs.{total_price:,.2f}')"
      ]
    },
    {
      "cell_type": "code",
      "execution_count": null,
      "metadata": {
        "colab": {
          "base_uri": "https://localhost:8080/"
        },
        "id": "EHBAY0_mBE3A",
        "outputId": "b35cde56-6690-434f-824b-1c562b7339ed"
      },
      "outputs": [
        {
          "name": "stdout",
          "output_type": "stream",
          "text": [
            "temperature=98.60\n"
          ]
        }
      ],
      "source": [
        "temperature=98.6\n",
        "print(f'temperature={temperature:.2f}')"
      ]
    },
    {
      "cell_type": "code",
      "execution_count": null,
      "metadata": {
        "colab": {
          "base_uri": "https://localhost:8080/"
        },
        "id": "044p4aZMBD_u",
        "outputId": "0c9bdc39-f00a-4be1-f296-8d96c3cdd541"
      },
      "outputs": [
        {
          "name": "stdout",
          "output_type": "stream",
          "text": [
            "impedance=(3+4j)\n",
            "<class 'complex'>\n"
          ]
        }
      ],
      "source": [
        "impedance=3+4j\n",
        "print(f'impedance={impedance}')\n",
        "print(type(impedance))"
      ]
    },
    {
      "cell_type": "code",
      "execution_count": null,
      "metadata": {
        "colab": {
          "base_uri": "https://localhost:8080/"
        },
        "id": "IWrYavS4ItFa",
        "outputId": "2c49533c-ad72-40f6-ca8c-a36221622886"
      },
      "outputs": [
        {
          "name": "stdout",
          "output_type": "stream",
          "text": [
            "name=kusuma\n",
            "<class 'str'>\n",
            "welcome to kusuma\n"
          ]
        }
      ],
      "source": [
        "name=\"kusuma\"\n",
        "print(f'name={name}')\n",
        "print(type(name))\n",
        "msg=f'welcome to {name}'\n",
        "print(msg)"
      ]
    },
    {
      "cell_type": "code",
      "execution_count": null,
      "metadata": {
        "colab": {
          "base_uri": "https://localhost:8080/"
        },
        "id": "AMI1R-E5KBUA",
        "outputId": "86043046-1f1d-49d2-c889-69c81e62a718"
      },
      "outputs": [
        {
          "name": "stdout",
          "output_type": "stream",
          "text": [
            "length of the data=10\n",
            "data[1]=98.5\n",
            "ans=(3+4j)\n",
            "data[3:7]=(10, 98.5, 'alice', (3+4j), 10, 25, 36, 'kiran', 'swamy', 25.9)\n",
            "data tuple slice from index 3 to 7=((3+4j), 10, 25, 36, 'kiran')\n",
            "data to print=(10, 98.5, 'alice', (3+4j), 10, 25, 36, 'kiran', 'swamy', 25.9)\n",
            "data to print=(10, 98.5, 'alice', (3+4j), 10, 25, 36, 'kiran', 'swamy', 25.9)\n",
            "printinmg the data to print :(10, 10, 'swamy')\n",
            "data to print=(25.9,)\n",
            "data to print 1=(10, 98.5, 'alice', (3+4j), 10, 25, 36, 'kiran', 'swamy')\n",
            "data to print =(10, 98.5, 'alice', (3+4j), 10, 25, 36, 'kiran', 'swamy', 25.9)\n",
            "data=(25, 36, 'kiran', 'swamy')\n"
          ]
        }
      ],
      "source": [
        "#various basic operations on tuple\n",
        "data=(10,98.5,'alice',3+4j,10,25,36,'kiran',\"swamy\",25.9)\n",
        "\n",
        "#lenth of the tuple\n",
        "print(f'length of the data={len(data)}') #method called \"len()\"\n",
        "\n",
        "#tp print specific element of the tuple use INDEXING\n",
        "#to print \"98.5\" and which index is 1\n",
        "print(f'data[1]={data[1]}')\n",
        "print(f'ans={data[3]}')\n",
        "\n",
        "#to print the particular elements we want\n",
        "#we use slicing\n",
        "#SLICING=dividing the tuple as per the requirment using indexing\n",
        "print(f'data[3:7]={data[0:10]}')\n",
        "print(f'data tuple slice from index 3 to 7={data[3:8]}')\n",
        "print(f'data to print={data[0:]}')#when we dont kmow the end point\n",
        "print(f'data to print={data[:]}')#when we dont know the both start &end point\n",
        "\n",
        "#when we want to print the elements alternatly\n",
        "print(f'printinmg the data to print :{data[::4]}')\n",
        "\n",
        "# python can also support backward indexing\n",
        "print(f'data to print={data[-1:]}') #to print only last element\n",
        "\n",
        "# to print all th elements using backward indexing\n",
        "print(f'data to print 1={data[-10:-1]}')\n",
        "\n",
        "print(f'data to print ={data[-10:]}')\n",
        "\n",
        "# to print the lements by using\n",
        "print(f'data={data[-5:-1]}')\n"
      ]
    },
    {
      "cell_type": "code",
      "execution_count": null,
      "metadata": {
        "colab": {
          "base_uri": "https://localhost:8080/"
        },
        "id": "MvjX8mvxPg3Y",
        "outputId": "f5b4f61d-1c26-46fc-88e0-ba8236ef4544"
      },
      "outputs": [
        {
          "name": "stdout",
          "output_type": "stream",
          "text": [
            "Welcome to Data analytrics with python & vibe coding platform\n",
            "I am Laddu and my sister  is Minnu\n",
            "kusuma gave me 2,000.00 to purchase a Air cooler\n"
          ]
        }
      ],
      "source": [
        "# My experiments on data types on 14-05-2025 at 11:32\n",
        "print('Welcome to Data analytrics with python & vibe coding platform')\n",
        "\n",
        "person1='Laddu'\n",
        "person2='Minnu'\n",
        "msg=f'I am {person1} and my sister  is {person2}'\n",
        "print(msg)\n",
        "\n",
        "#product_purchase\n",
        "a='kusuma'\n",
        "b=2000\n",
        "print(f'{a} gave me {b:,.2f} to purchase a Air cooler')\n"
      ]
    },
    {
      "cell_type": "code",
      "execution_count": null,
      "metadata": {
        "colab": {
          "base_uri": "https://localhost:8080/",
          "height": 106
        },
        "id": "bhXCmRBo6b61",
        "outputId": "6d7dcaac-e1a6-4976-e068-0ba37352a762"
      },
      "outputs": [
        {
          "ename": "SyntaxError",
          "evalue": "invalid decimal literal (<ipython-input-10-0c292f2f3ee4>, line 1)",
          "output_type": "error",
          "traceback": [
            "\u001b[0;36m  File \u001b[0;32m\"<ipython-input-10-0c292f2f3ee4>\"\u001b[0;36m, line \u001b[0;32m1\u001b[0m\n\u001b[0;31m    print(f'{a} gave me {b.2f} to purchase a Air cooler')\u001b[0m\n\u001b[0m       ^\u001b[0m\n\u001b[0;31mSyntaxError\u001b[0m\u001b[0;31m:\u001b[0m invalid decimal literal\n"
          ]
        }
      ],
      "source": [
        "print(f'{a} gave me {b.2f} to purchase a Air cooler')\n"
      ]
    },
    {
      "cell_type": "code",
      "execution_count": null,
      "metadata": {
        "colab": {
          "base_uri": "https://localhost:8080/"
        },
        "id": "ghuRt5Fd6-Hm",
        "outputId": "179e46d0-a5b6-4ebc-dbe5-5c19e55b08a1"
      },
      "outputs": [
        {
          "name": "stdout",
          "output_type": "stream",
          "text": [
            "revenue=50,000.00\n",
            "revenue=50,000.00\n",
            "revenue=50000.000\n",
            "price=(50000,).00\n",
            "<class 'int'>\n",
            "temperature at current location=98.600 degrees\n",
            "temperature according to the weather report=98.60 degrees\n",
            "<class 'float'>\n",
            "impedance=(4+6j)\n",
            "False\n"
          ]
        }
      ],
      "source": [
        "product_sold=1000\n",
        "price=50\n",
        "total_price=product_sold*price\n",
        "print(f'revenue={total_price:,.2f}')\n",
        "print(f'revenue={total_price:,}.00')\n",
        "print(f'revenue={total_price}.000')\n",
        "print(f'price={total_price,:}.00')\n",
        "print(type(total_price))\n",
        "\n",
        "\n",
        "\n",
        "\n",
        "#temperatue....\n",
        "temp=98.6\n",
        "print(f'temperature at current location={temp:.3f} degrees')\n",
        "msg=f'temperature according to the weather report={temp:.2f} degrees'\n",
        "print(msg)\n",
        "print(type(temp))\n",
        "\n",
        "\n",
        "\n",
        "#impedance\n",
        "impedance=4+6j\n",
        "print(f'impedance={impedance}')\n",
        "print('impedance'==impedance)\n",
        "\n"
      ]
    },
    {
      "cell_type": "markdown",
      "source": [
        "**DAY-3**"
      ],
      "metadata": {
        "id": "CtbOzvuZEmnR"
      }
    },
    {
      "cell_type": "code",
      "execution_count": null,
      "metadata": {
        "colab": {
          "background_save": true,
          "base_uri": "https://localhost:8080/"
        },
        "id": "BYXQZs4hJX1r",
        "outputId": "093e58da-314b-4274-c44b-fa0bde23b9cf"
      },
      "outputs": [
        {
          "name": "stdout",
          "output_type": "stream",
          "text": [
            "length of the tuple=9 elements\n",
            "element=10.5\n",
            "elemenet=Kiran\n",
            "element=(10.5, 98, 256.0, 'Kusuma', 'Kiran', 56, 'a', 'abhi', 10.5)\n",
            "data=(10.5, 256.0, 'Kiran', 'a', 10.5)\n",
            "answer=(10.5, 256.0, 'Kiran', 'a', 10.5)\n",
            "data=('Kusuma', 'Kiran', 56, 'a', 'abhi', 10.5)\n",
            "data=10.5\n",
            "ele=10.5\n",
            "ele=Kusuma\n",
            "data=256.0\n",
            "data=98\n",
            "answer=(10.5, 98, 256.0, 'Kusuma', 'Kiran', 56, 'a', 'abhi')\n",
            "data=(10.5, 98, 256.0, 'Kusuma', 'Kiran', 56, 'a', 'abhi', 10.5)\n",
            "element=(10.5, 98, 256.0, 'Kusuma', 'Kiran', 56, 'a', 'abhi', 10.5)\n",
            "data=(10.5,)\n",
            "data=(10.5, 98, 256.0, 'Kusuma', 'Kiran', 56, 'a', 'abhi')\n",
            "data=(10.5, 256.0, 'Kiran', 'a', 10.5)\n",
            "data=(10.5, 98, 256.0, 'Kusuma', 'Kiran', 56, 'a', 'abhi', 10.5)\n",
            "element=(10.5, 98, 256.0, 'Kusuma', 'Kiran', 56, 'a', 'abhi', 10.5)\n",
            "tuple=(10.5, 98, 256.0, 'Kusuma')\n",
            "tuple=()\n"
          ]
        }
      ],
      "source": [
        "# data type tuple\n",
        "tup=(10.50,98,256.000,\"Kusuma\",\"Kiran\",56,'a',\"abhi\",10.50)\n",
        "\n",
        "# calculate the length of the of the tup\n",
        "print(f'length of the tuple={len(tup)} elements')\n",
        "# to print one lement by using forward inedexing\n",
        "print(f'element={tup[0]}')\n",
        "print(f'elemenet={tup[4]}')\n",
        "\n",
        "\n",
        "\n",
        "# to print the elements using slicing\n",
        "print(f'element={tup[0:10]}')\n",
        "print(f'data={tup[0:10:2]}')  # similiar answer printed\n",
        "print(f'answer={tup[::2]}')\n",
        "print(f'data={tup[3:9]}')\n",
        "\n",
        "\n",
        "# to print the data using backward indexing\n",
        "print(f'data={tup[-1]}')\n",
        "print(f'ele={tup[-9]}')\n",
        "print(f'ele={tup[-6]}')\n",
        "print(f'data={tup[-7]}')\n",
        "print(f'data={tup[-8]}')\n",
        "\n",
        "\n",
        "#to print th elements using backward slicing\n",
        "print(f'answer={tup[-9:-1]}')\n",
        "print(f'data={tup[-9:]}')\n",
        "print(f'element={tup[:]}')\n",
        "print(f'data={tup[-9:1]}')\n",
        "print(f'data={tup[:-1]}')\n",
        "\n",
        "# to print the tuple ele bu using backward slicing with step grade\n",
        "print(f'data={tup[::2]}')\n",
        "print(f'data={tup[-9::1]}') # to print all the data\n",
        "print(f'element={tup[::]}') # to print all the data elements\n",
        "print(f'tuple={tup[-9:-5:1]}')\n",
        "print(f'tuple={tup[]}')"
      ]
    },
    {
      "cell_type": "code",
      "execution_count": null,
      "metadata": {
        "colab": {
          "base_uri": "https://localhost:8080/"
        },
        "id": "04rtRvlfTsma",
        "outputId": "a14c79b3-28d0-40d6-b8a1-9212937089e0"
      },
      "outputs": [
        {
          "output_type": "stream",
          "name": "stdout",
          "text": [
            "data=(10.5, 'abhi', 'a', 56, 'Kiran', 'Kusuma', 256.0, 98, 10.5)\n",
            "element=(10.5, 'a', 'Kiran', 256.0, 10.5)\n"
          ]
        }
      ],
      "source": [
        "# Assignment to print all the elements of tuple by using backward slicing\n",
        "tup=(10.50,98,256.000,\"Kusuma\",\"Kiran\",56,'a',\"abhi\",10.50)\n",
        "print(f'data={tup[::-1]}') # to print all the data in reverse order\n",
        "print(f'element={tup[::-2]}') # to print all the data elements\n",
        "print(f'element={tup[::]}')"
      ]
    },
    {
      "cell_type": "code",
      "source": [
        "#tuple Data type on 14-05-2025 at 19:31hrs\n",
        "tup=(10.50,98,256.000,\"Kusuma\",\"Kiran\",56,'a',\"abhi\",10.50)\n",
        "print(tup[4:8])\n",
        "print(tup[-5:5])\n",
        "print(tup[-5:])\n",
        "print(tup[-5:-1])\n",
        "\n",
        "\n",
        "\n",
        "\n",
        "# list concept\n",
        "shopping_list=['apple',\"sugar\",'10.00',25.78,3+8j,'banana']\n",
        "print(f'shopping_list={shopping_list}')\n",
        "print(type(shopping_list))"
      ],
      "metadata": {
        "colab": {
          "base_uri": "https://localhost:8080/"
        },
        "id": "DJIZ3aUkGNAV",
        "outputId": "7e37eabc-0590-4726-e942-6decc2a83924"
      },
      "execution_count": null,
      "outputs": [
        {
          "output_type": "stream",
          "name": "stdout",
          "text": [
            "('Kiran', 56, 'a', 'abhi')\n",
            "('Kiran',)\n",
            "('Kiran', 56, 'a', 'abhi', 10.5)\n",
            "('Kiran', 56, 'a', 'abhi')\n",
            "shopping_list=['apple', 'sugar', '10.00', 25.78, (3+8j), 'banana']\n",
            "<class 'list'>\n"
          ]
        }
      ]
    },
    {
      "cell_type": "code",
      "source": [
        "#LIST\n",
        "data=[10,20,30,40,'ramana',65.4,\"keerthi\",78,88.4]\n",
        "#list operations\n",
        "#1.Indexing\n",
        "print(f'data[3]={data[3]}')\n",
        "print(f'data[-3]={data[-3]}')\n",
        "\n",
        "#2.slicing\n",
        "print(f'data[3:6]={data[3:6]}')\n",
        "print(f'data[3:]={data[3:]}')\n",
        "print(f'data[:6]={data[:6]}')\n",
        "print(f'data[::2]={data[::2]}')\n",
        "print(f'data[::-1]={data[::-1]}')\n"
      ],
      "metadata": {
        "colab": {
          "base_uri": "https://localhost:8080/"
        },
        "id": "PybYnoNOKqqG",
        "outputId": "c7cd4829-dd86-4340-d6fd-f3feb59796de"
      },
      "execution_count": null,
      "outputs": [
        {
          "output_type": "stream",
          "name": "stdout",
          "text": [
            "data[3]=40\n",
            "data[-3]=keerthi\n",
            "data[3:6]=[40, 'ramana', 65.4]\n",
            "data[3:]=[40, 'ramana', 65.4, 'keerthi', 78, 88.4]\n",
            "data[:6]=[10, 20, 30, 40, 'ramana', 65.4]\n",
            "data[::2]=[10, 30, 'ramana', 'keerthi', 88.4]\n",
            "data[::-1]=[88.4, 78, 'keerthi', 65.4, 'ramana', 40, 30, 20, 10]\n"
          ]
        }
      ]
    },
    {
      "cell_type": "code",
      "source": [
        "#dictionary set=key :value\n",
        "student={\"Name\":\"Raghu\",\"Roll no\":2011,\"Marks\":95}\n",
        "print(f'student={student}')\n",
        "print(type(student))\n",
        "\n",
        "#print with key\n",
        "print(f'Name of the student ={student[\"Name\"]}')\n",
        "print(f'Roll no of the student ={student[\"Roll no\"]}')\n",
        "print(f'Marks of the student ={student[\"Marks\"]}')"
      ],
      "metadata": {
        "colab": {
          "base_uri": "https://localhost:8080/"
        },
        "id": "GjaO004nPxBj",
        "outputId": "39cb686a-7e06-45ea-8e84-1d965192b3f0"
      },
      "execution_count": null,
      "outputs": [
        {
          "output_type": "stream",
          "name": "stdout",
          "text": [
            "student={'Name': 'Raghu', 'Roll no': 2011, 'Marks': 95}\n",
            "<class 'dict'>\n",
            "Name of the student =Raghu\n",
            "Roll no of the student =2011\n",
            "Marks of the student =95\n"
          ]
        }
      ]
    },
    {
      "cell_type": "code",
      "source": [
        "#Use case on Dictionary,list,tuple\n",
        "\n",
        "fruit_shop={\"fruit_names\":['mango','apple','grapes','pineapple'],\n",
        "            \"fruit_price\":[100,200,250,300],\n",
        "            \"fruit_quantity\":[10,20,30,40],\n",
        "            \"frui_color\":('red','yellow','green','orange'),\n",
        "            \"fruit_taste\":('sweet','sour','bitter'),\n",
        "            \"customer_names\":['akash','kiran','laddu','rahul','veena'],\n",
        "            \"orders\":[10,20,30,40]}\n",
        "\n",
        "\n",
        "print(f'fruit_shop={fruit_shop}')\n",
        "print(type(fruit_shop))\n",
        "#Use case on Dictionary,list,tuple\n",
        "\n",
        "fruit_shop={\"fruit_names\":['mango','apple','grapes','pineapple'],\n",
        "            \"fruit_price\":[100,200,250,300],\n",
        "            \"fruit_quantity\":[10,20,30,40],\n",
        "            \"fruit_color\":('red','yellow','green','orange'),\n",
        "            \"fruit_taste\":('sweet','sour','bitter'),\n",
        "            \"customer_names\":['akash','kiran','laddu','rahul','veena'],\n",
        "            \"orders\":[10,20,30,40]}\n",
        "\n",
        "\n",
        "print(f'fruit_shop={fruit_shop}')\n",
        "print(type(fruit_shop))\n",
        "\n",
        "print(f'fruit_names={fruit_shop[\"fruit_names\"]}')\n",
        "print(f'fruit at index 0 is {fruit_shop[\"fruit_names\"][0]} ')\n",
        "print(f'fruit at index 1 is {fruit_shop[\"fruit_names\"][1]}')\n",
        "print(f'fruit at index 2 is {fruit_shop[\"fruit_names\"][2]}')\n",
        "\n",
        "print(f'fruit at index 0 to 1 is {fruit_shop[\"fruit_names\"][0:2]}')\n",
        "\n",
        "print(f'fruit_price={fruit_shop[\"fruit_price\"]}')\n",
        "print(f'fruit_quantity={fruit_shop[\"fruit_quantity\"]}')\n",
        "print(f'fruit_color={fruit_shop[\"fruit_color\"]}')\n",
        "print(f'fruit_taste={fruit_shop[\"fruit_taste\"]}')\n",
        "\n",
        "\n",
        "print(f'customer_names={fruit_shop[\"customer_names\"]}')\n",
        "print(f'orders={fruit_shop[\"orders\"]}')\n"
      ],
      "metadata": {
        "colab": {
          "base_uri": "https://localhost:8080/"
        },
        "id": "EnnZ4VNkS0Rc",
        "outputId": "a053751a-b53b-4467-9a8b-16a9b60ea018"
      },
      "execution_count": null,
      "outputs": [
        {
          "output_type": "stream",
          "name": "stdout",
          "text": [
            "fruit_shop={'fruit_names': ['mango', 'apple', 'grapes', 'pineapple'], 'fruit_price': [100, 200, 250, 300], 'fruit_quantity': [10, 20, 30, 40], 'frui_color': ('red', 'yellow', 'green', 'orange'), 'fruit_taste': ('sweet', 'sour', 'bitter'), 'customer_names': ['akash', 'kiran', 'laddu', 'rahul', 'veena'], 'orders': [10, 20, 30, 40]}\n",
            "<class 'dict'>\n",
            "fruit_shop={'fruit_names': ['mango', 'apple', 'grapes', 'pineapple'], 'fruit_price': [100, 200, 250, 300], 'fruit_quantity': [10, 20, 30, 40], 'fruit_color': ('red', 'yellow', 'green', 'orange'), 'fruit_taste': ('sweet', 'sour', 'bitter'), 'customer_names': ['akash', 'kiran', 'laddu', 'rahul', 'veena'], 'orders': [10, 20, 30, 40]}\n",
            "<class 'dict'>\n",
            "fruit_names=['mango', 'apple', 'grapes', 'pineapple']\n",
            "fruit at index 0 is mango \n",
            "fruit at index 1 is apple\n",
            "fruit at index 2 is grapes\n",
            "fruit at index 0 to 1 is ['mango', 'apple']\n",
            "fruit_price=[100, 200, 250, 300]\n",
            "fruit_quantity=[10, 20, 30, 40]\n",
            "fruit_color=('red', 'yellow', 'green', 'orange')\n",
            "fruit_taste=('sweet', 'sour', 'bitter')\n",
            "customer_names=['akash', 'kiran', 'laddu', 'rahul', 'veena']\n",
            "orders=[10, 20, 30, 40]\n"
          ]
        }
      ]
    },
    {
      "cell_type": "markdown",
      "source": [
        "MY EXPO ON 15-05-2025 ( List Dict)"
      ],
      "metadata": {
        "id": "Mdn1jfxUkTn1"
      }
    },
    {
      "cell_type": "code",
      "source": [
        "#list\n",
        "lst=[10,20,30,'kusuma','laddu','lucky',96.5,'40.5','Sweety','a']\n",
        "\n",
        "#length of the list\n",
        "print(len(lst))\n",
        "#print(lst)\n",
        "print(lst)\n",
        "print(f'elments in the list={lst}')\n",
        "print(f'data={lst[0]}') #1st ele\n",
        "\n",
        "print(f'element at index 1={lst[1]}')\n",
        "print(f'element at index 2={lst[2]}')\n",
        "print(f'element at index 9={lst[9]}')\n",
        "\n",
        "print(f'elements from index 3 to 9={lst[3:10]}')\n",
        "print(f'elements from index 4 to 7={lst[4:7]}')\n",
        "\n",
        "\n",
        "print(f'element at index -5={lst[-5]}')\n",
        "print(f'element at index -1={lst[-1]}')\n",
        "print(f'elements from start to end={lst[-10:]}')\n",
        "print(f'elements from reverse={lst[::-1]}') # priinting in reverse\n",
        "print(f'data={lst[-5:-10:-1]}') # printing in reverse"
      ],
      "metadata": {
        "colab": {
          "base_uri": "https://localhost:8080/"
        },
        "id": "tky4BtC5kfYB",
        "outputId": "54316622-fee5-40dd-ac35-d80b1acc8d08"
      },
      "execution_count": null,
      "outputs": [
        {
          "output_type": "stream",
          "name": "stdout",
          "text": [
            "10\n",
            "[10, 20, 30, 'kusuma', 'laddu', 'lucky', 96.5, '40.5', 'Sweety', 'a']\n",
            "elments in the list=[10, 20, 30, 'kusuma', 'laddu', 'lucky', 96.5, '40.5', 'Sweety', 'a']\n",
            "data=10\n",
            "element at index 1=20\n",
            "element at index 2=30\n",
            "element at index 9=a\n",
            "elements from index 3 to 9=['kusuma', 'laddu', 'lucky', 96.5, '40.5', 'Sweety', 'a']\n",
            "elements from index 4 to 7=['laddu', 'lucky', 96.5]\n",
            "element at index -5=lucky\n",
            "element at index -1=a\n",
            "elements from start to end=[10, 20, 30, 'kusuma', 'laddu', 'lucky', 96.5, '40.5', 'Sweety', 'a']\n",
            "elements from reverse=['a', 'Sweety', '40.5', 96.5, 'lucky', 'laddu', 'kusuma', 30, 20, 10]\n",
            "data=['lucky', 'laddu', 'kusuma', 30, 20]\n"
          ]
        }
      ]
    },
    {
      "cell_type": "code",
      "source": [
        "##DICTIONARY\n",
        "dict={\"Employee name\":\"Kusuma\",\"Employee ID\":\"KCP1022\",\"Age\":28,\"salary\":90000}\n",
        "print(f'empolyee details={dict}')\n",
        "print(type(dict))\n",
        "\n",
        "print(f'employee name={dict[\"Employee name\"]}')\n",
        "print(f'employee id={dict[\"Employee ID\"]}')\n",
        "print(f'employee age={dict[\"Age\"]}')\n",
        "print(f'employee salary={dict[\"salary\"]}')"
      ],
      "metadata": {
        "colab": {
          "base_uri": "https://localhost:8080/"
        },
        "id": "td8fwJEIo7MF",
        "outputId": "5e9cb600-cea1-4331-9fdb-f63f8fb801c6"
      },
      "execution_count": null,
      "outputs": [
        {
          "output_type": "stream",
          "name": "stdout",
          "text": [
            "empolyee details={'Employee name': 'Kusuma', 'Employee ID': 'KCP1022', 'Age': 28, 'salary': 90000}\n",
            "<class 'dict'>\n",
            "employee name=Kusuma\n",
            "employee id=KCP1022\n",
            "employee age=28\n",
            "employee salary=90000\n"
          ]
        }
      ]
    },
    {
      "cell_type": "markdown",
      "source": [
        "**DAY-4**"
      ],
      "metadata": {
        "id": "YvQnHG8DEv9J"
      }
    },
    {
      "cell_type": "markdown",
      "source": [
        "# 15-05-2025  A SMALL DATA BASE OPERATIONS [SUM,LEN,AVG,MIN,MAX]"
      ],
      "metadata": {
        "id": "krKUB2t2A2E7"
      }
    },
    {
      "cell_type": "code",
      "source": [
        "#15-05-2025 use case\n",
        "Walmart={\"store\":[1,1,1],\n",
        "         \"Date\":('05-05-2025','06-05-2025','07-05-2025'),\n",
        "         \"weekly_sales\":(1643690.9,1641957.44,1611968),\n",
        "         \"holiday_flag\":(0,1,0),\n",
        "         \"temperature\":[42.31,38.51,39.93],\n",
        "         \"fuel_price\":[2.572,2.548,2.514],\n",
        "         \"CPI\":[211.09,211.24,244.28],\n",
        "         \"unempolyment\":[8.1,8.1,8.1]\n",
        "         }\n",
        "\n",
        "#manager want the total of the weekly_sales\n",
        "total_weekly_sales=Walmart['weekly_sales'][0]+Walmart['weekly_sales'][1]+Walmart['weekly_sales'][2]\n",
        "print(f'total_weekly_sales={total_weekly_sales}')\n",
        "\n",
        "#manager want the average of the weekly sales\n",
        "average_weekly_sales=total_weekly_sales/3\n",
        "print(f'average_weekly_sales={average_weekly_sales}')\n",
        "\n",
        "#manager want to know the minimum weekly sales[min()]\n",
        "minimum_weekly_sales=min(Walmart['weekly_sales'])\n",
        "print(f'minimum_weekly_sales={minimum_weekly_sales}')\n",
        "\n",
        "#manager want to know the maximum weekly sales  [max()]\n",
        "maximum_weekly_sales=max(Walmart['weekly_sales'])\n",
        "print(f'maximum_weekly_sales={maximum_weekly_sales}')\n",
        "\n",
        "#manager want to know average weekly sales {sum(walmart['weekly_sales])/len(walmart['weekly_sales'])}\n",
        "average_weekly_sales=sum(Walmart['weekly_sales'])/len(Walmart['weekly_sales'])\n",
        "print(f'average_weekly_sales by sum and len method={average_weekly_sales}')\n",
        "\n",
        "\n",
        "#manager want the total of the weekly_sales\n",
        "total_weekly_sales=Walmart['weekly_sales'][0]+Walmart['weekly_sales'][1]+Walmart['weekly_sales'][2]\n",
        "print(f'total_weekly_sales={total_weekly_sales}')\n",
        "\n",
        "#manager want the average of the weekly sales\n",
        "average_weekly_sales=total_weekly_sales/3\n",
        "print(f'average_weekly_sales={average_weekly_sales}')\n",
        "\n",
        "#manager want to know the minimum weekly sales[min()]\n",
        "minimum_weekly_sales=min(Walmart['weekly_sales'])\n",
        "print(f'minimum_weekly_sales={minimum_weekly_sales}')\n",
        "\n",
        "#manager want to know the maximum weekly sales  [max()]\n",
        "maximum_weekly_sales=max(Walmart['weekly_sales'])\n",
        "print(f'maximum_weekly_sales={maximum_weekly_sales}')\n",
        "\n",
        "#manager want to know average weekly sales {sum(walmart['weekly_sales])/len(walmart['weekly_sales'])}\n",
        "average_weekly_sales=sum(Walmart['weekly_sales'])/len(Walmart['weekly_sales'])\n",
        "print(f'average_weekly_sales by sum and len method={average_weekly_sales}')\n",
        "\n",
        "\n",
        "#15-05-2025 use case\n",
        "Walmart={\"store\":[1,1,1],\n",
        "         \"Date\":('05-05-2025','06-05-2025','07-05-2025'),\n",
        "         \"weekly_sales\":(1643690.9,1641957.44,1611968),\n",
        "         \"holiday_flag\":(0,1,0),\n",
        "         \"temperature\":[42.31,38.51,39.93],\n",
        "         \"fuel_price\":[2.572,2.548,2.514],\n",
        "         \"CPI\":[211.09,211.24,244.28],\n",
        "         \"unempolyment\":[8.1,8.1,8.1]\n",
        "         }\n",
        "\n",
        "#manager want the total of the weekly_sales\n",
        "total_weekly_sales=Walmart['weekly_sales'][0]+Walmart['weekly_sales'][1]+Walmart['weekly_sales'][2]\n",
        "print(f'total_weekly_sales={total_weekly_sales}')\n",
        "\n",
        "#manager want the average of the weekly sales\n",
        "average_weekly_sales=total_weekly_sales/3\n",
        "print(f'average_weekly_sales={average_weekly_sales}')\n",
        "\n",
        "#manager want to know the minimum weekly sales[min()]\n",
        "minimum_weekly_sales=min(Walmart['weekly_sales'])\n",
        "print(f'minimum_weekly_sales={minimum_weekly_sales}')\n",
        "\n",
        "#manager want to know the maximum weekly sales  [max()]\n",
        "maximum_weekly_sales=max(Walmart['weekly_sales'])\n",
        "print(f'maximum_weekly_sales={maximum_weekly_sales}')\n",
        "\n",
        "#manager want to know average weekly sales {sum(walmart['weekly_sales])/len(walmart['weekly_sales'])}\n",
        "average_weekly_sales=sum(Walmart['weekly_sales'])/len(Walmart['weekly_sales'])\n",
        "print(f'average_weekly_sales by sum and len method={average_weekly_sales}')\n",
        "\n",
        "\n",
        "#manager want the total of the weekly_sales\n",
        "total_weekly_sales=Walmart['weekly_sales'][0]+Walmart['weekly_sales'][1]+Walmart['weekly_sales'][2]\n",
        "print(f'total_weekly_sales={total_weekly_sales}')\n",
        "\n",
        "#manager want the average of the weekly sales\n",
        "average_weekly_sales=total_weekly_sales/3\n",
        "print(f'average_weekly_sales={average_weekly_sales}')\n",
        "\n",
        "#manager want to know the minimum weekly sales[min()]\n",
        "minimum_weekly_sales=min(Walmart['weekly_sales'])\n",
        "print(f'minimum_weekly_sales={minimum_weekly_sales}')\n",
        "\n",
        "#manager want to know the maximum weekly sales  [max()]\n",
        "maximum_weekly_sales=max(Walmart['weekly_sales'])\n",
        "print(f'maximum_weekly_sales={maximum_weekly_sales}')\n",
        "\n",
        "#manager want to know average weekly sales {sum(walmart['weekly_sales])/len(walmart['weekly_sales'])}\n",
        "average_weekly_sales=sum(Walmart['weekly_sales'])/len(Walmart['weekly_sales'])\n",
        "print(f'average_weekly_sales by sum and len method={average_weekly_sales}')\n",
        "\n",
        "\n",
        "#manager want know average weekly sales vs temperature\n",
        "\n",
        "print(f\"average_weekly_sales={sum(Walmart['weekly_sales'])/len(Walmart['weekly_sales'])} vs temperature={sum(Walmart['temperature'])}\")\n",
        "\n",
        "\n"
      ],
      "metadata": {
        "colab": {
          "base_uri": "https://localhost:8080/"
        },
        "id": "YzBb1bpMy4KI",
        "outputId": "c4cfce55-3c59-4a3d-9643-6f41989335a8"
      },
      "execution_count": null,
      "outputs": [
        {
          "output_type": "stream",
          "name": "stdout",
          "text": [
            "total_weekly_sales=4897616.34\n",
            "average_weekly_sales=1632538.78\n",
            "minimum_weekly_sales=1611968\n",
            "maximum_weekly_sales=1643690.9\n",
            "average_weekly_sales by sum and len method=1632538.78\n",
            "total_weekly_sales=4897616.34\n",
            "average_weekly_sales=1632538.78\n",
            "minimum_weekly_sales=1611968\n",
            "maximum_weekly_sales=1643690.9\n",
            "average_weekly_sales by sum and len method=1632538.78\n",
            "total_weekly_sales=4897616.34\n",
            "average_weekly_sales=1632538.78\n",
            "minimum_weekly_sales=1611968\n",
            "maximum_weekly_sales=1643690.9\n",
            "average_weekly_sales by sum and len method=1632538.78\n",
            "total_weekly_sales=4897616.34\n",
            "average_weekly_sales=1632538.78\n",
            "minimum_weekly_sales=1611968\n",
            "maximum_weekly_sales=1643690.9\n",
            "average_weekly_sales by sum and len method=1632538.78\n",
            "average_weekly_sales=1632538.78 vs temperature=120.75\n"
          ]
        }
      ]
    },
    {
      "cell_type": "markdown",
      "source": [
        "In pandas ,we have \"Data Frame\"-- is a two dimensional data structure ,mutable,and also allows the heterogeneous data(diiferenet data)\n",
        "it can also label the data in rows and columns"
      ],
      "metadata": {
        "id": "UXrQKxuoDB3N"
      }
    },
    {
      "cell_type": "markdown",
      "source": [
        "if we want to use any data frame,we need to import the ds frst"
      ],
      "metadata": {
        "id": "s71HTZI2DwXG"
      }
    },
    {
      "cell_type": "code",
      "source": [
        "import pandas as pd\n",
        "\n",
        "Walmart={\"store\":[1,1,1],\n",
        "         \"Date\":('05-05-2025','06-05-2025','07-05-2025'),\n",
        "         \"weekly_sales\":(1643690.9,1641957.44,1611968),\n",
        "         \"holiday_flag\":(0,1,0),\n",
        "         \"temperature\":[42.31,38.51,39.93],\n",
        "         \"fuel_price\":[2.572,2.548,2.514],\n",
        "         \"CPI\":[211.09,211.24,244.28],\n",
        "         \"unempolyment\":[8.1,8.1,8.1]\n",
        "         }\n",
        "df=pd.DataFrame(Walmart)\n",
        "print(df)"
      ],
      "metadata": {
        "colab": {
          "base_uri": "https://localhost:8080/"
        },
        "id": "T_i--CChD16x",
        "outputId": "a8192b38-f083-4f6c-b24e-29007af5b54f"
      },
      "execution_count": null,
      "outputs": [
        {
          "output_type": "stream",
          "name": "stdout",
          "text": [
            "   store        Date  weekly_sales  holiday_flag  temperature  fuel_price  \\\n",
            "0      1  05-05-2025    1643690.90             0        42.31       2.572   \n",
            "1      1  06-05-2025    1641957.44             1        38.51       2.548   \n",
            "2      1  07-05-2025    1611968.00             0        39.93       2.514   \n",
            "\n",
            "      CPI  unempolyment  \n",
            "0  211.09           8.1  \n",
            "1  211.24           8.1  \n",
            "2  244.28           8.1  \n"
          ]
        }
      ]
    },
    {
      "cell_type": "code",
      "source": [
        "#to print weekly_sales\n",
        "print(df['weekly_sales'])\n",
        "print(\"*************************************\")\n",
        "# to print a row at index 0\n",
        "print(df.loc[0])\n",
        "\n",
        "\n",
        "\n",
        "#to print weekly_sales\n",
        "print(df['weekly_sales'])\n",
        "print(\"*************************************\")\n",
        "# to print a row at index 0\n",
        "print(df.loc[0])\n",
        "\n",
        "\n",
        "\n",
        "print('******************************************************************')\n",
        "\n",
        "print(\"**********Basic operations on Data Frame*********\")\n",
        "\n",
        "print(f'Shape={df.shape}')\n",
        "print(f'Info={df.info()}')\n",
        "print(f'describe={df.describe()}')\n",
        "print(f'head={df.head()}')\n",
        "print(f'tail={df.tail()}')"
      ],
      "metadata": {
        "colab": {
          "base_uri": "https://localhost:8080/"
        },
        "id": "Ubzoa6mXGdtZ",
        "outputId": "aab472fc-953f-4c2a-99ed-bd532e237a7f"
      },
      "execution_count": null,
      "outputs": [
        {
          "output_type": "stream",
          "name": "stdout",
          "text": [
            "0    1643690.90\n",
            "1    1641957.44\n",
            "2    1611968.00\n",
            "Name: weekly_sales, dtype: float64\n",
            "*************************************\n",
            "store                    1\n",
            "Date            05-05-2025\n",
            "weekly_sales     1643690.9\n",
            "holiday_flag             0\n",
            "temperature          42.31\n",
            "fuel_price           2.572\n",
            "CPI                 211.09\n",
            "unempolyment           8.1\n",
            "Name: 0, dtype: object\n",
            "0    1643690.90\n",
            "1    1641957.44\n",
            "2    1611968.00\n",
            "Name: weekly_sales, dtype: float64\n",
            "*************************************\n",
            "store                    1\n",
            "Date            05-05-2025\n",
            "weekly_sales     1643690.9\n",
            "holiday_flag             0\n",
            "temperature          42.31\n",
            "fuel_price           2.572\n",
            "CPI                 211.09\n",
            "unempolyment           8.1\n",
            "Name: 0, dtype: object\n",
            "******************************************************************\n",
            "**********Basic operations on Data Frame*********\n",
            "Shape=(3, 8)\n",
            "<class 'pandas.core.frame.DataFrame'>\n",
            "RangeIndex: 3 entries, 0 to 2\n",
            "Data columns (total 8 columns):\n",
            " #   Column        Non-Null Count  Dtype  \n",
            "---  ------        --------------  -----  \n",
            " 0   store         3 non-null      int64  \n",
            " 1   Date          3 non-null      object \n",
            " 2   weekly_sales  3 non-null      float64\n",
            " 3   holiday_flag  3 non-null      int64  \n",
            " 4   temperature   3 non-null      float64\n",
            " 5   fuel_price    3 non-null      float64\n",
            " 6   CPI           3 non-null      float64\n",
            " 7   unempolyment  3 non-null      float64\n",
            "dtypes: float64(5), int64(2), object(1)\n",
            "memory usage: 324.0+ bytes\n",
            "Info=None\n",
            "describe=       store  weekly_sales  holiday_flag  temperature  fuel_price         CPI  \\\n",
            "count    3.0  3.000000e+00      3.000000     3.000000    3.000000    3.000000   \n",
            "mean     1.0  1.632539e+06      0.333333    40.250000    2.544667  222.203333   \n",
            "std      0.0  1.783589e+04      0.577350     1.920104    0.029143   19.119101   \n",
            "min      1.0  1.611968e+06      0.000000    38.510000    2.514000  211.090000   \n",
            "25%      1.0  1.626963e+06      0.000000    39.220000    2.531000  211.165000   \n",
            "50%      1.0  1.641957e+06      0.000000    39.930000    2.548000  211.240000   \n",
            "75%      1.0  1.642824e+06      0.500000    41.120000    2.560000  227.760000   \n",
            "max      1.0  1.643691e+06      1.000000    42.310000    2.572000  244.280000   \n",
            "\n",
            "       unempolyment  \n",
            "count           3.0  \n",
            "mean            8.1  \n",
            "std             0.0  \n",
            "min             8.1  \n",
            "25%             8.1  \n",
            "50%             8.1  \n",
            "75%             8.1  \n",
            "max             8.1  \n",
            "head=   store        Date  weekly_sales  holiday_flag  temperature  fuel_price  \\\n",
            "0      1  05-05-2025    1643690.90             0        42.31       2.572   \n",
            "1      1  06-05-2025    1641957.44             1        38.51       2.548   \n",
            "2      1  07-05-2025    1611968.00             0        39.93       2.514   \n",
            "\n",
            "      CPI  unempolyment  \n",
            "0  211.09           8.1  \n",
            "1  211.24           8.1  \n",
            "2  244.28           8.1  \n",
            "tail=   store        Date  weekly_sales  holiday_flag  temperature  fuel_price  \\\n",
            "0      1  05-05-2025    1643690.90             0        42.31       2.572   \n",
            "1      1  06-05-2025    1641957.44             1        38.51       2.548   \n",
            "2      1  07-05-2025    1611968.00             0        39.93       2.514   \n",
            "\n",
            "      CPI  unempolyment  \n",
            "0  211.09           8.1  \n",
            "1  211.24           8.1  \n",
            "2  244.28           8.1  \n"
          ]
        }
      ]
    },
    {
      "cell_type": "markdown",
      "source": [
        "MY EXPO ON 16-05-2025 at 1:09"
      ],
      "metadata": {
        "id": "hZOU-WCsCB7v"
      }
    },
    {
      "cell_type": "code",
      "source": [
        "#storing the data by using Dictionary\n",
        "\n",
        "walmart={\"store\":[1,1,1,1,1,1,1,1,1,1],\n",
        "         \"Date\":('05-02-2010','12-02-2010','19-02-2010','26-02-2010','02-04-2010','09-04-2010','16-02-2010','23-04-2010','30-04-2010','07-05-2010'),\n",
        "         \"weekly_sales\":[1643690.9,1641957.44,1611968.17,1409727.59,1554806.68,1439541.59,1472515.79,1404429.92,1594968.28,1545419.56],\n",
        "         \"holiday_flag\":(0,1,0,0,0,0,0,0,0,0),\n",
        "         \"temperature\":[42.31,38.51,39.93,46.63,46.5,57.79,54.58,51.45,62.27,65.86],\n",
        "         \"furl_price\":[2.572,2.548,2.514,2.516,2,625,2.667,2.72,2.732,2.719,2.77],\n",
        "         \"CPI\":[211.0964,211.2422,211.2891,211.3192,211.3501,211.3806,211.2156,211.018,210.8204,211.6224],\n",
        "         \"unemployment\":[8.106,8.106,8.106,8.106,8.106,8.106,8.106,8.106,7.808,7.808]\n",
        "         }\n",
        "print(walmart)\n",
        "\n",
        "# manager want to know the total weekly_sales\n",
        "total_weekly_sales=walmart['weekly_sales'][0]+walmart['weekly_sales'][1]+walmart['weekly_sales'][2]+walmart['weekly_sales'][3]+walmart['weekly_sales'][4]+walmart['weekly_sales'][5]+walmart['weekly_sales'][6]+walmart['weekly_sales'][7]+walmart['weekly_sales'][8]+walmart['weekly_sales'][9]\n",
        "print(f'total weekly_sales={total_weekly_sales}')\n",
        "\n",
        "#manager want to know the total no of holidays\n",
        "total_holidays=sum(walmart['holiday_flag'])\n",
        "print(f' number of holidays={total_holidays}')\n",
        "\n",
        "#to print the sum of cpi\n",
        "total_cpi=sum(walmart['CPI'])\n",
        "print(f'total cpi={total_cpi}')\n",
        "\n",
        "# manager want to know the average of weekly_sales\n",
        "average_weekly_sales=total_weekly_sales/10\n",
        "print(f'average_weekly sales={average_weekly_sales}')\n",
        "\n",
        "#manager want to know the min and max of the eekly_sales\n",
        "minimum_weekly_sales=min(walmart['weekly_sales'])\n",
        "print(f'minimum_weekly_sales={minimum_weekly_sales}')\n",
        "\n",
        "maximum_weekly_sales=max(walmart['weekly_sales'])\n",
        "print(f'max weekly_sales={maximum_weekly_sales}')\n",
        "\n",
        "# sum of weekly_sales\n",
        "sum_of_weekly_sales=sum(walmart['weekly_sales'])\n",
        "print(f'sum of the weekly_sales={sum_of_weekly_sales}')\n",
        "\n",
        "# average of weekly_sales by using avg=sum(walmart[''])/len(walmart[''])\n",
        "average_of_weekly_sales=sum(walmart['weekly_sales'])/len(walmart['weekly_sales'])\n",
        "print(f'average_of_weekly_sales={average_of_weekly_sales}')\n",
        "\n",
        "#storing the data by using Dictionary\n",
        "\n",
        "walmart={\"store\":[1,1,1,1,1,1,1,1,1,1],\n",
        "         \"Date\":('05-02-2010','12-02-2010','19-02-2010','26-02-2010','02-04-2010','09-04-2010','16-02-2010','23-04-2010','30-04-2010','07-05-2010'),\n",
        "         \"weekly_sales\":[1643690.9,1641957.44,1611968.17,1409727.59,1554806.68,1439541.59,1472515.79,1404429.92,1594968.28,1545419.56],\n",
        "         \"holiday_flag\":(0,1,0,0,0,0,0,0,0,0),\n",
        "         \"temperature\":[42.31,38.51,39.93,46.63,46.5,57.79,54.58,51.45,62.27,65.86],\n",
        "         \"furl_price\":[2.572,2.548,2.514,2.516,2.625,2.667,2.72,2.732,2.719,2.77],\n",
        "         \"CPI\":[211.0964,211.2422,211.2891,211.3192,211.3501,211.3806,211.2156,211.018,210.8204,211.6224],\n",
        "         \"unemployment\":[8.106,8.106,8.106,8.106,8.106,8.106,8.106,8.106,7.808,7.808]\n",
        "         }\n",
        "print(walmart)\n",
        "\n",
        "# manager want to know the total weekly_sales\n",
        "total_weekly_sales=walmart['weekly_sales'][0]+walmart['weekly_sales'][1]+walmart['weekly_sales'][2]+walmart['weekly_sales'][3]+walmart['weekly_sales'][4]+walmart['weekly_sales'][5]+walmart['weekly_sales'][6]+walmart['weekly_sales'][7]+walmart['weekly_sales'][8]+walmart['weekly_sales'][9]\n",
        "print(f'total weekly_sales={total_weekly_sales}')\n",
        "\n",
        "#manager want to know the total no of holidays\n",
        "total_holidays=sum(walmart['holiday_flag'])\n",
        "print(f' number of holidays={total_holidays}')\n",
        "\n",
        "#to print the sum of cpi\n",
        "total_cpi=sum(walmart['CPI'])\n",
        "print(f'total cpi={total_cpi}')\n",
        "\n",
        "# manager want to know the average of weekly_sales\n",
        "average_weekly_sales=total_weekly_sales/10\n",
        "print(f'average_weekly sales={average_weekly_sales}')\n",
        "\n",
        "#manager want to know the min and max of the eekly_sales\n",
        "minimum_weekly_sales=min(walmart['weekly_sales'])\n",
        "print(f'minimum_weekly_sales={minimum_weekly_sales}')\n",
        "\n",
        "maximum_weekly_sales=max(walmart['weekly_sales'])\n",
        "print(f'max weekly_sales={maximum_weekly_sales}')\n",
        "\n",
        "# sum of weekly_sales\n",
        "sum_of_weekly_sales=sum(walmart['weekly_sales'])\n",
        "print(f'sum of the weekly_sales={sum_of_weekly_sales}')\n",
        "\n",
        "# average of weekly_sales by using avg=sum(walmart[''])/len(walmart[''])\n",
        "average_of_weekly_sales=sum(walmart['weekly_sales'])/len(walmart['weekly_sales'])\n",
        "print(f'average_of_weekly_sales={average_of_weekly_sales}')\n",
        "\n",
        "\n",
        "# manager want to know the average of wweekly_sales  vs  holiday flags\n",
        "print(f'average_weekly_sales={sum(walmart[\"weekly_sales\"])/len(walmart[\"weekly_sales\"])} vs holiday_flag={sum(walmart[\"holiday_flag\"])/len(walmart[\"holiday_flag\"])}')\n",
        "\n",
        "print('*************************************************************')\n"
      ],
      "metadata": {
        "colab": {
          "base_uri": "https://localhost:8080/"
        },
        "id": "dN7TxXHJCLR8",
        "outputId": "9217034e-1a30-46e9-9ca7-d9a54fdb8ae5"
      },
      "execution_count": null,
      "outputs": [
        {
          "output_type": "stream",
          "name": "stdout",
          "text": [
            "{'store': [1, 1, 1, 1, 1, 1, 1, 1, 1, 1], 'Date': ('05-02-2010', '12-02-2010', '19-02-2010', '26-02-2010', '02-04-2010', '09-04-2010', '16-02-2010', '23-04-2010', '30-04-2010', '07-05-2010'), 'weekly_sales': [1643690.9, 1641957.44, 1611968.17, 1409727.59, 1554806.68, 1439541.59, 1472515.79, 1404429.92, 1594968.28, 1545419.56], 'holiday_flag': (0, 1, 0, 0, 0, 0, 0, 0, 0, 0), 'temperature': [42.31, 38.51, 39.93, 46.63, 46.5, 57.79, 54.58, 51.45, 62.27, 65.86], 'furl_price': [2.572, 2.548, 2.514, 2.516, 2, 625, 2.667, 2.72, 2.732, 2.719, 2.77], 'CPI': [211.0964, 211.2422, 211.2891, 211.3192, 211.3501, 211.3806, 211.2156, 211.018, 210.8204, 211.6224], 'unemployment': [8.106, 8.106, 8.106, 8.106, 8.106, 8.106, 8.106, 8.106, 7.808, 7.808]}\n",
            "total weekly_sales=15319025.92\n",
            " number of holidays=1\n",
            "total cpi=2112.3540000000003\n",
            "average_weekly sales=1531902.592\n",
            "minimum_weekly_sales=1404429.92\n",
            "max weekly_sales=1643690.9\n",
            "sum of the weekly_sales=15319025.92\n",
            "average_of_weekly_sales=1531902.592\n",
            "{'store': [1, 1, 1, 1, 1, 1, 1, 1, 1, 1], 'Date': ('05-02-2010', '12-02-2010', '19-02-2010', '26-02-2010', '02-04-2010', '09-04-2010', '16-02-2010', '23-04-2010', '30-04-2010', '07-05-2010'), 'weekly_sales': [1643690.9, 1641957.44, 1611968.17, 1409727.59, 1554806.68, 1439541.59, 1472515.79, 1404429.92, 1594968.28, 1545419.56], 'holiday_flag': (0, 1, 0, 0, 0, 0, 0, 0, 0, 0), 'temperature': [42.31, 38.51, 39.93, 46.63, 46.5, 57.79, 54.58, 51.45, 62.27, 65.86], 'furl_price': [2.572, 2.548, 2.514, 2.516, 2.625, 2.667, 2.72, 2.732, 2.719, 2.77], 'CPI': [211.0964, 211.2422, 211.2891, 211.3192, 211.3501, 211.3806, 211.2156, 211.018, 210.8204, 211.6224], 'unemployment': [8.106, 8.106, 8.106, 8.106, 8.106, 8.106, 8.106, 8.106, 7.808, 7.808]}\n",
            "total weekly_sales=15319025.92\n",
            " number of holidays=1\n",
            "total cpi=2112.3540000000003\n",
            "average_weekly sales=1531902.592\n",
            "minimum_weekly_sales=1404429.92\n",
            "max weekly_sales=1643690.9\n",
            "sum of the weekly_sales=15319025.92\n",
            "average_of_weekly_sales=1531902.592\n",
            "average_weekly_sales=1531902.592 vs holiday_flag=0.1\n",
            "*************************************************************\n"
          ]
        }
      ]
    },
    {
      "cell_type": "code",
      "source": [],
      "metadata": {
        "id": "ZnK6ZQ_mP6Cc"
      },
      "execution_count": null,
      "outputs": []
    },
    {
      "cell_type": "code",
      "source": [
        "import pandas as pd\n",
        "walmart={\"store\":[1,1,1,1,1,1,1,1,1,1],\n",
        "         \"Date\":('05-02-2010','12-02-2010','19-02-2010','26-02-2010','02-04-2010','09-04-2010','16-02-2010','23-04-2010','30-04-2010','07-05-2010'),\n",
        "         \"weekly_sales\":[1643690.9,1641957.44,1611968.17,1409727.59,1554806.68,1439541.59,1472515.79,1404429.92,1594968.28,1545419.56],\n",
        "         \"holiday_flag\":(0,1,0,0,0,0,0,0,0,0),\n",
        "         \"temperature\":[42.31,38.51,39.93,46.63,46.5,57.79,54.58,51.45,62.27,65.86],\n",
        "         \"furl_price\":[2.572,2.548,2.514,2.516,2.625,2.667,2.72,2.732,2.719,2.77],\n",
        "         \"CPI\":[211.0964,211.2422,211.2891,211.3192,211.3501,211.3806,211.2156,211.018,210.8204,211.6224],\n",
        "         \"unemployment\":[8.106,8.106,8.106,8.106,8.106,8.106,8.106,8.106,7.808,7.808]\n",
        "         }\n",
        "df=pd.DataFrame(walmart)\n",
        "print(df)\n",
        "# to print  weekly_sales\n",
        "print(df['weekly_sales'])\n",
        "\n",
        "# to print  a row at index 0\n",
        "print(df.loc[0])\n",
        "print('**********************')\n",
        "print(df.loc[1])\n",
        "print('**************************************')\n",
        "print(df.loc[9])\n",
        "print('@@@@@@@@@@@@@@@@@@@@@@@@@@@@@@@@@@@@@@@@@@@@@@@@@')\n",
        "print(f'print the rows from 0 to 4')\n",
        "print(df.loc[0:5])\n",
        "\n",
        "print('.........................................................')\n",
        "print(f'print the rows from 0 to 4')\n",
        "print(df.loc[5:9])\n",
        "\n",
        "\n",
        "# some basic operations on data Frame\n",
        "print(f'shape={df.shape}')\n",
        "print(f'info={df.info()}')\n",
        "print(f'describe={df.describe()}')\n",
        "print(f'head={df.head()}')\n",
        "print(f'tail={df.tail()}')\n",
        "\n",
        "\n",
        "print('0000000000000000000000000000000000000000000000000000000000000000000000')\n",
        "#print(f'shape={df.shape}')\n",
        "print(f'info={df.info()}')\n",
        "#print(f'describe={df.describe(5)}')\n",
        "print(f'head={df.head(8)}')\n",
        "print(f'tail={df.tail(6)}')"
      ],
      "metadata": {
        "colab": {
          "base_uri": "https://localhost:8080/"
        },
        "id": "e7MAN45ZeEYi",
        "outputId": "f162595d-5def-40c4-e5b5-4837d9b35ac1"
      },
      "execution_count": null,
      "outputs": [
        {
          "output_type": "stream",
          "name": "stdout",
          "text": [
            "   store        Date  weekly_sales  holiday_flag  temperature  furl_price  \\\n",
            "0      1  05-02-2010    1643690.90             0        42.31       2.572   \n",
            "1      1  12-02-2010    1641957.44             1        38.51       2.548   \n",
            "2      1  19-02-2010    1611968.17             0        39.93       2.514   \n",
            "3      1  26-02-2010    1409727.59             0        46.63       2.516   \n",
            "4      1  02-04-2010    1554806.68             0        46.50       2.625   \n",
            "5      1  09-04-2010    1439541.59             0        57.79       2.667   \n",
            "6      1  16-02-2010    1472515.79             0        54.58       2.720   \n",
            "7      1  23-04-2010    1404429.92             0        51.45       2.732   \n",
            "8      1  30-04-2010    1594968.28             0        62.27       2.719   \n",
            "9      1  07-05-2010    1545419.56             0        65.86       2.770   \n",
            "\n",
            "        CPI  unemployment  \n",
            "0  211.0964         8.106  \n",
            "1  211.2422         8.106  \n",
            "2  211.2891         8.106  \n",
            "3  211.3192         8.106  \n",
            "4  211.3501         8.106  \n",
            "5  211.3806         8.106  \n",
            "6  211.2156         8.106  \n",
            "7  211.0180         8.106  \n",
            "8  210.8204         7.808  \n",
            "9  211.6224         7.808  \n",
            "0    1643690.90\n",
            "1    1641957.44\n",
            "2    1611968.17\n",
            "3    1409727.59\n",
            "4    1554806.68\n",
            "5    1439541.59\n",
            "6    1472515.79\n",
            "7    1404429.92\n",
            "8    1594968.28\n",
            "9    1545419.56\n",
            "Name: weekly_sales, dtype: float64\n",
            "store                    1\n",
            "Date            05-02-2010\n",
            "weekly_sales     1643690.9\n",
            "holiday_flag             0\n",
            "temperature          42.31\n",
            "furl_price           2.572\n",
            "CPI               211.0964\n",
            "unemployment         8.106\n",
            "Name: 0, dtype: object\n",
            "**********************\n",
            "store                    1\n",
            "Date            12-02-2010\n",
            "weekly_sales    1641957.44\n",
            "holiday_flag             1\n",
            "temperature          38.51\n",
            "furl_price           2.548\n",
            "CPI               211.2422\n",
            "unemployment         8.106\n",
            "Name: 1, dtype: object\n",
            "**************************************\n",
            "store                    1\n",
            "Date            07-05-2010\n",
            "weekly_sales    1545419.56\n",
            "holiday_flag             0\n",
            "temperature          65.86\n",
            "furl_price            2.77\n",
            "CPI               211.6224\n",
            "unemployment         7.808\n",
            "Name: 9, dtype: object\n",
            "@@@@@@@@@@@@@@@@@@@@@@@@@@@@@@@@@@@@@@@@@@@@@@@@@\n",
            "print the rows from 0 to 4\n",
            "   store        Date  weekly_sales  holiday_flag  temperature  furl_price  \\\n",
            "0      1  05-02-2010    1643690.90             0        42.31       2.572   \n",
            "1      1  12-02-2010    1641957.44             1        38.51       2.548   \n",
            "2      1  19-02-2010    1611968.17             0        39.93       2.514   \n",
            "3      1  26-02-2010    1409727.59             0        46.63       2.516   \n",
            "4      1  02-04-2010    1554806.68             0        46.50       2.625   \n",
            "5      1  09-04-2010    1439541.59             0        57.79       2.667   \n",
            "\n",
            "        CPI  unemployment  \n",
            "0  211.0964         8.106  \n",
            "1  211.2422         8.106  \n",
            "2  211.2891         8.106  \n",
            "3  211.3192         8.106  \n",
            "4  211.3501         8.106  \n",
            "5  211.3806         8.106  \n",
            ".........................................................\n",
            "print the rows from 0 to 4\n",
            "   store        Date  weekly_sales  holiday_flag  temperature  furl_price  \\\n",
            "5      1  09-04-2010    1439541.59             0        57.79       2.667   \n",
            "6      1  16-02-2010    1472515.79             0        54.58       2.720   \n",
            "7      1  23-04-2010    1404429.92             0        51.45       2.732   \n",
            "8      1  30-04-2010    1594968.28             0        62.27       2.719   \n",
            "9      1  07-05-2010    1545419.56             0        65.86       2.770   \n",
            "\n",
            "        CPI  unemployment  \n",
            "5  211.3806         8.106  \n",
            "6  211.2156         8.106  \n",
            "7  211.0180         8.106  \n",
            "8  210.8204         7.808  \n",
            "9  211.6224         7.808  \n",
            "shape=(10, 8)\n",
            "<class 'pandas.core.frame.DataFrame'>\n",
            "RangeIndex: 10 entries, 0 to 9\n",
            "Data columns (total 8 columns):\n",
            " #   Column        Non-Null Count  Dtype  \n",
            "---  ------        --------------  -----  \n",
            " 0   store         10 non-null     int64  \n",
            " 1   Date          10 non-null     object \n",
            " 2   weekly_sales  10 non-null     float64\n",
            " 3   holiday_flag  10 non-null     int64  \n",
            " 4   temperature   10 non-null     float64\n",
            " 5   furl_price    10 non-null     float64\n",
            " 6   CPI           10 non-null     float64\n",
            " 7   unemployment  10 non-null     float64\n",
            "dtypes: float64(5), int64(2), object(1)\n",
            "memory usage: 772.0+ bytes\n",
            "info=None\n",
            "describe=       store  weekly_sales  holiday_flag  temperature  furl_price         CPI  \\\n",
            "count   10.0  1.000000e+01     10.000000    10.000000   10.000000   10.000000   \n",
            "mean     1.0  1.531903e+06      0.100000    50.583000    2.638300  211.235400   \n",
            "std      0.0  9.365251e+04      0.316228     9.419982    0.096189    0.219383   \n",
            "min      1.0  1.404430e+06      0.000000    38.510000    2.514000  210.820400   \n",
            "25%      1.0  1.447785e+06      0.000000    43.357500    2.554000  211.126200   \n",
            "50%      1.0  1.550113e+06      0.000000    49.040000    2.646000  211.265650   \n",
            "75%      1.0  1.607718e+06      0.000000    56.987500    2.719750  211.342375   \n",
            "max      1.0  1.643691e+06      1.000000    65.860000    2.770000  211.622400   \n",
            "\n",
            "       unemployment  \n",
            "count     10.000000  \n",
            "mean       8.046400  \n",
            "std        0.125648  \n",
            "min        7.808000  \n",
            "25%        8.106000  \n",
            "50%        8.106000  \n",
            "75%        8.106000  \n",
            "max        8.106000  \n",
            "head=   store        Date  weekly_sales  holiday_flag  temperature  furl_price  \\\n",
            "0      1  05-02-2010    1643690.90             0        42.31       2.572   \n",
            "1      1  12-02-2010    1641957.44             1        38.51       2.548   \n",
            "2      1  19-02-2010    1611968.17             0        39.93       2.514   \n",
            "3      1  26-02-2010    1409727.59             0        46.63       2.516   \n",
            "4      1  02-04-2010    1554806.68             0        46.50       2.625   \n",
            "\n",
            "        CPI  unemployment  \n",
            "0  211.0964         8.106  \n",
            "1  211.2422         8.106  \n",
            "2  211.2891         8.106  \n",
            "3  211.3192         8.106  \n",
            "4  211.3501         8.106  \n",
            "tail=   store        Date  weekly_sales  holiday_flag  temperature  furl_price  \\\n",
            "5      1  09-04-2010    1439541.59             0        57.79       2.667   \n",
            "6      1  16-02-2010    1472515.79             0        54.58       2.720   \n",
            "7      1  23-04-2010    1404429.92             0        51.45       2.732   \n",
            "8      1  30-04-2010    1594968.28             0        62.27       2.719   \n",
            "9      1  07-05-2010    1545419.56             0        65.86       2.770   \n",
            "\n",
            "        CPI  unemployment  \n",
            "5  211.3806         8.106  \n",
            "6  211.2156         8.106  \n",
            "7  211.0180         8.106  \n",
            "8  210.8204         7.808  \n",
            "9  211.6224         7.808  \n",
            "0000000000000000000000000000000000000000000000000000000000000000000000\n",
            "<class 'pandas.core.frame.DataFrame'>\n",
            "RangeIndex: 10 entries, 0 to 9\n",
            "Data columns (total 8 columns):\n",
            " #   Column        Non-Null Count  Dtype  \n",
            "---  ------        --------------  -----  \n",
            " 0   store         10 non-null     int64  \n",
            " 1   Date          10 non-null     object \n",
            " 2   weekly_sales  10 non-null     float64\n",
            " 3   holiday_flag  10 non-null     int64  \n",
            " 4   temperature   10 non-null     float64\n",
            " 5   furl_price    10 non-null     float64\n",
            " 6   CPI           10 non-null     float64\n",
            " 7   unemployment  10 non-null     float64\n",
            "dtypes: float64(5), int64(2), object(1)\n",
            "memory usage: 772.0+ bytes\n",
            "info=None\n",
            "head=   store        Date  weekly_sales  holiday_flag  temperature  furl_price  \\\n",
            "0      1  05-02-2010    1643690.90             0        42.31       2.572   \n",
            "1      1  12-02-2010    1641957.44             1        38.51       2.548   \n",
            "2      1  19-02-2010    1611968.17             0        39.93       2.514   \n",
            "3      1  26-02-2010    1409727.59             0        46.63       2.516   \n",
            "4      1  02-04-2010    1554806.68             0        46.50       2.625   \n",
            "5      1  09-04-2010    1439541.59             0        57.79       2.667   \n",
            "6      1  16-02-2010    1472515.79             0        54.58       2.720   \n",
            "7      1  23-04-2010    1404429.92             0        51.45       2.732   \n",
            "\n",
            "        CPI  unemployment  \n",
            "0  211.0964         8.106  \n",
            "1  211.2422         8.106  \n",
            "2  211.2891         8.106  \n",
            "3  211.3192         8.106  \n",
            "4  211.3501         8.106  \n",
            "5  211.3806         8.106  \n",
            "6  211.2156         8.106  \n",
            "7  211.0180         8.106  \n",
            "tail=   store        Date  weekly_sales  holiday_flag  temperature  furl_price  \\\n",
            "4      1  02-04-2010    1554806.68             0        46.50       2.625   \n",
            "5      1  09-04-2010    1439541.59             0        57.79       2.667   \n",
            "6      1  16-02-2010    1472515.79             0        54.58       2.720   \n",
            "7      1  23-04-2010    1404429.92             0        51.45       2.732   \n",
            "8      1  30-04-2010    1594968.28             0        62.27       2.719   \n",
            "9      1  07-05-2010    1545419.56             0        65.86       2.770   \n",
            "\n",
            "        CPI  unemployment  \n",
            "4  211.3501         8.106  \n",
            "5  211.3806         8.106  \n",
            "6  211.2156         8.106  \n",
            "7  211.0180         8.106  \n",
            "8  210.8204         7.808  \n",
            "9  211.6224         7.808  \n"
          ]
        }
      ]
    },
    {
      "cell_type": "markdown",
      "source": [
        "**DAY-5**"
      ],
      "metadata": {
        "id": "1_Rbzi_mE8jM"
      }
    },
    {
      "cell_type": "markdown",
      "source": [
        "Data types in python on 16-05-2025 at IST ASNRise"
      ],
      "metadata": {
        "id": "32pS_iy341hz"
      }
    },
    {
      "cell_type": "markdown",
      "source": [
        "set data -in sets only numbers can be written and denoted by '{}'.in dictionary we can write key value pairs.."
      ],
      "metadata": {
        "id": "Ic16i9IG5QD3"
      }
    },
    {
      "cell_type": "code",
      "source": [
        "#SETS DATA TYPE\n",
        "set={1,2,3,4,5,6,7,8}\n",
        "#SETS DATA TYPE\n",
        "set={1,2,3,4,5,6,7,8}\n",
        "print(set)\n",
        "print(type(set))\n",
        "st={1,2,2,3,3,4,5,5,6,7,8,9,0}\n",
        "print(st)"
      ],
      "metadata": {
        "colab": {
          "base_uri": "https://localhost:8080/"
        },
        "id": "ZqGz_PNZ5h-A",
        "outputId": "de9606ab-eb7a-4e3c-e2e5-c762c169e324"
      },
      "execution_count": null,
      "outputs": [
        {
          "output_type": "stream",
          "name": "stdout",
          "text": [
            "{1, 2, 3, 4, 5, 6, 7, 8}\n",
            "<class 'set'>\n",
            "{0, 1, 2, 3, 4, 5, 6, 7, 8, 9}\n"
          ]
        }
      ]
    },
    {
      "cell_type": "code",
      "source": [
        "#BOOLEAN\n",
        "is_raining=False\n",
        "print(\"Is it raining?\",is_raining)\n",
        "print(type(is_raining))\n",
        "print(is_raining)"
      ],
      "metadata": {
        "colab": {
          "base_uri": "https://localhost:8080/"
        },
        "id": "l80vYDWz6ByW",
        "outputId": "97f4323f-31a9-4202-93c3-69ccbedfdfa1"
      },
      "execution_count": null,
      "outputs": [
        {
          "output_type": "stream",
          "name": "stdout",
          "text": [
            "Is it raining? False\n",
            "<class 'bool'>\n",
            "False\n"
          ]
        }
      ]
    },
    {
      "cell_type": "code",
      "source": [
        "#BINARY TYPES (BYTES)\n",
        "binary_data=b'Hello'\n",
        "print('Binary data:',binary_data)\n",
        "\n",
        "####\n",
        "mutable_binary_data=bytearray(b'Hello')\n",
        "print(\"mutable_binary_data :\",mutable_binary_data)\n",
        "## MEMORY VIEW METHOD\n",
        "data = memoryview(b'Hello')\n",
        "print(\"Memory View:\" , data)"
      ],
      "metadata": {
        "colab": {
          "base_uri": "https://localhost:8080/"
        },
        "id": "FvBd7YXq6iPW",
        "outputId": "6e8fc626-b2a8-4b74-b265-6615afcbb2fa"
      },
      "execution_count": null,
      "outputs": [
        {
          "output_type": "stream",
          "name": "stdout",
          "text": [
            "Binary data: b'Hello'\n",
            "mutable_binary_data : bytearray(b'Hello')\n",
            "Memory View: <memory at 0x7ac1ed18a740>\n"
          ]
        }
      ]
    },
    {
      "cell_type": "markdown",
      "source": [],
      "metadata": {
        "id": "CIKLU_oC999l"
      }
    },
    {
      "cell_type": "code",
      "source": [
        "#want to read some data from\n",
        "import pandas as pd\n",
        "df="
      ],
      "metadata": {
        "id": "ls9pcWY69azs"
      },
      "execution_count": null,
      "outputs": []
    },
    {
      "cell_type": "markdown",
      "source": [
        "**CSV=COMMON SEPARTED VALUES**(XCEL)"
      ],
      "metadata": {
        "id": "qC5C-KuBDBhB"
      }
    },
    {
      "cell_type": "code",
      "source": [
        "#loading from the computer\n",
        "import pandas as pd\n",
        "df=pd.read_csv('/content/archive (1).zip')\n",
        "df.head()"
      ],
      "metadata": {
        "colab": {
          "base_uri": "https://localhost:8080/",
          "height": 399
        },
        "id": "ru94Z3a8_pCJ",
        "outputId": "8c071218-bf95-45b3-fbbd-7a8341519ba6"
      },
      "execution_count": null,
      "outputs": [
        {
          "output_type": "execute_result",
          "data": {
            "text/plain": [
              "   Store        Date  Weekly_Sales  Holiday_Flag  Temperature  Fuel_Price  \\\n",
              "0      1  05-02-2010    1643690.90             0        42.31       2.572   \n",
              "1      1  12-02-2010    1641957.44             1        38.51       2.548   \n",
              "2      1  19-02-2010    1611968.17             0        39.93       2.514   \n",
              "3      1  26-02-2010    1409727.59             0        46.63       2.561   \n",
              "4      1  05-03-2010    1554806.68             0        46.50       2.625   \n",
              "\n",
              "          CPI  Unemployment  \n",
              "0  211.096358         8.106  \n",
              "1  211.242170         8.106  \n",
              "2  211.289143         8.106  \n",
              "3  211.319643         8.106  \n",
              "4  211.350143         8.106  "
            ],
            "text/html": [
              "\n",
              "  <div id=\"df-fd634801-d2cb-4f88-b1b8-27f383e24045\" class=\"colab-df-container\">\n",
              "    <div>\n",
              "<style scoped>\n",
              "    .dataframe tbody tr th:only-of-type {\n",
              "        vertical-align: middle;\n",
              "    }\n",
              "\n",
              "    .dataframe tbody tr th {\n",
              "        vertical-align: top;\n",
              "    }\n",
              "\n",
              "    .dataframe thead th {\n",
              "        text-align: right;\n",
              "    }\n",
              "</style>\n",
              "<table border=\"1\" class=\"dataframe\">\n",
              "  <thead>\n",
              "    <tr style=\"text-align: right;\">\n",
              "      <th></th>\n",
              "      <th>Store</th>\n",
              "      <th>Date</th>\n",
              "      <th>Weekly_Sales</th>\n",
              "      <th>Holiday_Flag</th>\n",
              "      <th>Temperature</th>\n",
              "      <th>Fuel_Price</th>\n",
              "      <th>CPI</th>\n",
              "      <th>Unemployment</th>\n",
              "    </tr>\n",
              "  </thead>\n",
              "  <tbody>\n",
              "    <tr>\n",
              "      <th>0</th>\n",
              "      <td>1</td>\n",
              "      <td>05-02-2010</td>\n",
              "      <td>1643690.90</td>\n",
              "      <td>0</td>\n",
              "      <td>42.31</td>\n",
              "      <td>2.572</td>\n",
              "      <td>211.096358</td>\n",
              "      <td>8.106</td>\n",
              "    </tr>\n",
              "    <tr>\n",
              "      <th>1</th>\n",
              "      <td>1</td>\n",
              "      <td>12-02-2010</td>\n",
              "      <td>1641957.44</td>\n",
              "      <td>1</td>\n",
              "      <td>38.51</td>\n",
              "      <td>2.548</td>\n",
              "      <td>211.242170</td>\n",
              "      <td>8.106</td>\n",
              "    </tr>\n",
              "    <tr>\n",
              "      <th>2</th>\n",
              "      <td>1</td>\n",
              "      <td>19-02-2010</td>\n",
              "      <td>1611968.17</td>\n",
              "      <td>0</td>\n",
              "      <td>39.93</td>\n",
              "      <td>2.514</td>\n",
              "      <td>211.289143</td>\n",
              "      <td>8.106</td>\n",
              "    </tr>\n",
              "    <tr>\n",
              "      <th>3</th>\n",
              "      <td>1</td>\n",
              "      <td>26-02-2010</td>\n",
              "      <td>1409727.59</td>\n",
              "      <td>0</td>\n",
              "      <td>46.63</td>\n",
              "      <td>2.561</td>\n",
              "      <td>211.319643</td>\n",
              "      <td>8.106</td>\n",
              "    </tr>\n",
              "    <tr>\n",
              "      <th>4</th>\n",
              "      <td>1</td>\n",
              "      <td>05-03-2010</td>\n",
              "      <td>1554806.68</td>\n",
              "      <td>0</td>\n",
              "      <td>46.50</td>\n",
              "      <td>2.625</td>\n",
              "      <td>211.350143</td>\n",
              "      <td>8.106</td>\n",
              "    </tr>\n",
              "  </tbody>\n",
              "</table>\n",
              "</div>\n",
              "    <div class=\"colab-df-buttons\">\n",
              "\n",
              "  <div class=\"colab-df-container\">\n",
              "    <button class=\"colab-df-convert\" onclick=\"convertToInteractive('df-fd634801-d2cb-4f88-b1b8-27f383e24045')\"\n",
              "            title=\"Convert this dataframe to an interactive table.\"\n",
              "            style=\"display:none;\">\n",
              "\n",
              "  <svg xmlns=\"http://www.w3.org/2000/svg\" height=\"24px\" viewBox=\"0 -960 960 960\">\n",
              "    <path d=\"M120-120v-720h720v720H120Zm60-500h600v-160H180v160Zm220 220h160v-160H400v160Zm0 220h160v-160H400v160ZM180-400h160v-160H180v160Zm440 0h160v-160H620v160ZM180-180h160v-160H180v160Zm440 0h160v-160H620v160Z\"/>\n",
              "  </svg>\n",
              "    </button>\n",
              "\n",
              "  <style>\n",
              "    .colab-df-container {\n",
              "      display:flex;\n",
              "      gap: 12px;\n",
              "    }\n",
              "\n",
              "    .colab-df-convert {\n",
              "      background-color: #E8F0FE;\n",
              "      border: none;\n",
              "      border-radius: 50%;\n",
              "      cursor: pointer;\n",
              "      display: none;\n",
              "      fill: #1967D2;\n",
              "      height: 32px;\n",
              "      padding: 0 0 0 0;\n",
              "      width: 32px;\n",
              "    }\n",
              "\n",
              "    .colab-df-convert:hover {\n",
              "      background-color: #E2EBFA;\n",
              "      box-shadow: 0px 1px 2px rgba(60, 64, 67, 0.3), 0px 1px 3px 1px rgba(60, 64, 67, 0.15);\n",
              "      fill: #174EA6;\n",
              "    }\n",
              "\n",
              "    .colab-df-buttons div {\n",
              "      margin-bottom: 4px;\n",
              "    }\n",
              "\n",
              "    [theme=dark] .colab-df-convert {\n",
              "      background-color: #3B4455;\n",
              "      fill: #D2E3FC;\n",
              "    }\n",
              "\n",
              "    [theme=dark] .colab-df-convert:hover {\n",
              "      background-color: #434B5C;\n",
              "      box-shadow: 0px 1px 3px 1px rgba(0, 0, 0, 0.15);\n",
              "      filter: drop-shadow(0px 1px 2px rgba(0, 0, 0, 0.3));\n",
              "      fill: #FFFFFF;\n",
              "    }\n",
              "  </style>\n",
              "\n",
              "    <script>\n",
              "      const buttonEl =\n",
              "        document.querySelector('#df-fd634801-d2cb-4f88-b1b8-27f383e24045 button.colab-df-convert');\n",
              "      buttonEl.style.display =\n",
              "        google.colab.kernel.accessAllowed ? 'block' : 'none';\n",
              "\n",
              "      async function convertToInteractive(key) {\n",
              "        const element = document.querySelector('#df-fd634801-d2cb-4f88-b1b8-27f383e24045');\n",
              "        const dataTable =\n",
              "          await google.colab.kernel.invokeFunction('convertToInteractive',\n",
              "                                                    [key], {});\n",
              "        if (!dataTable) return;\n",
              "\n",
              "        const docLinkHtml = 'Like what you see? Visit the ' +\n",
              "          '<a target=\"_blank\" href=https://colab.research.google.com/notebooks/data_table.ipynb>data table notebook</a>'\n",
              "          + ' to learn more about interactive tables.';\n",
              "        element.innerHTML = '';\n",
              "        dataTable['output_type'] = 'display_data';\n",
              "        await google.colab.output.renderOutput(dataTable, element);\n",
              "        const docLink = document.createElement('div');\n",
              "        docLink.innerHTML = docLinkHtml;\n",
              "        element.appendChild(docLink);\n",
              "      }\n",
              "    </script>\n",
              "  </div>\n",
              "\n",
              "\n",
              "    <div id=\"df-d98b060c-4d17-4414-877f-366aaa226a38\">\n",
              "      <button class=\"colab-df-quickchart\" onclick=\"quickchart('df-d98b060c-4d17-4414-877f-366aaa226a38')\"\n",
              "                title=\"Suggest charts\"\n",
              "                style=\"display:none;\">\n",
              "\n",
              "<svg xmlns=\"http://www.w3.org/2000/svg\" height=\"24px\"viewBox=\"0 0 24 24\"\n",
              "     width=\"24px\">\n",
              "    <g>\n",
              "        <path d=\"M19 3H5c-1.1 0-2 .9-2 2v14c0 1.1.9 2 2 2h14c1.1 0 2-.9 2-2V5c0-1.1-.9-2-2-2zM9 17H7v-7h2v7zm4 0h-2V7h2v10zm4 0h-2v-4h2v4z\"/>\n",
              "    </g>\n",
              "</svg>\n",
              "      </button>\n",
              "\n",
              "<style>\n",
              "  .colab-df-quickchart {\n",
              "      --bg-color: #E8F0FE;\n",
              "      --fill-color: #1967D2;\n",
              "      --hover-bg-color: #E2EBFA;\n",
              "      --hover-fill-color: #174EA6;\n",
              "      --disabled-fill-color: #AAA;\n",
              "      --disabled-bg-color: #DDD;\n",
              "  }\n",
              "\n",
              "  [theme=dark] .colab-df-quickchart {\n",
              "      --bg-color: #3B4455;\n",
              "      --fill-color: #D2E3FC;\n",
              "      --hover-bg-color: #434B5C;\n",
              "      --hover-fill-color: #FFFFFF;\n",
              "      --disabled-bg-color: #3B4455;\n",
              "      --disabled-fill-color: #666;\n",
              "  }\n",
              "\n",
              "  .colab-df-quickchart {\n",
              "    background-color: var(--bg-color);\n",
              "    border: none;\n",
              "    border-radius: 50%;\n",
              "    cursor: pointer;\n",
              "    display: none;\n",
              "    fill: var(--fill-color);\n",
              "    height: 32px;\n",
              "    padding: 0;\n",
              "    width: 32px;\n",
              "  }\n",
              "\n",
              "  .colab-df-quickchart:hover {\n",
              "    background-color: var(--hover-bg-color);\n",
              "    box-shadow: 0 1px 2px rgba(60, 64, 67, 0.3), 0 1px 3px 1px rgba(60, 64, 67, 0.15);\n",
              "    fill: var(--button-hover-fill-color);\n",
              "  }\n",
              "\n",
              "  .colab-df-quickchart-complete:disabled,\n",
              "  .colab-df-quickchart-complete:disabled:hover {\n",
              "    background-color: var(--disabled-bg-color);\n",
              "    fill: var(--disabled-fill-color);\n",
              "    box-shadow: none;\n",
              "  }\n",
              "\n",
              "  .colab-df-spinner {\n",
              "    border: 2px solid var(--fill-color);\n",
              "    border-color: transparent;\n",
              "    border-bottom-color: var(--fill-color);\n",
              "    animation:\n",
              "      spin 1s steps(1) infinite;\n",
              "  }\n",
              "\n",
              "  @keyframes spin {\n",
              "    0% {\n",
              "      border-color: transparent;\n",
              "      border-bottom-color: var(--fill-color);\n",
              "      border-left-color: var(--fill-color);\n",
              "    }\n",
              "    20% {\n",
              "      border-color: transparent;\n",
              "      border-left-color: var(--fill-color);\n",
              "      border-top-color: var(--fill-color);\n",
              "    }\n",
              "    30% {\n",
              "      border-color: transparent;\n",
              "      border-left-color: var(--fill-color);\n",
              "      border-top-color: var(--fill-color);\n",
              "      border-right-color: var(--fill-color);\n",
              "    }\n",
              "    40% {\n",
              "      border-color: transparent;\n",
              "      border-right-color: var(--fill-color);\n",
              "      border-top-color: var(--fill-color);\n",
              "    }\n",
              "    60% {\n",
              "      border-color: transparent;\n",
              "      border-right-color: var(--fill-color);\n",
              "    }\n",
              "    80% {\n",
              "      border-color: transparent;\n",
              "      border-right-color: var(--fill-color);\n",
              "      border-bottom-color: var(--fill-color);\n",
              "    }\n",
              "    90% {\n",
              "      border-color: transparent;\n",
              "      border-bottom-color: var(--fill-color);\n",
              "    }\n",
              "  }\n",
              "</style>\n",
              "\n",
              "      <script>\n",
              "        async function quickchart(key) {\n",
              "          const quickchartButtonEl =\n",
              "            document.querySelector('#' + key + ' button');\n",
              "          quickchartButtonEl.disabled = true;  // To prevent multiple clicks.\n",
              "          quickchartButtonEl.classList.add('colab-df-spinner');\n",
              "          try {\n",
              "            const charts = await google.colab.kernel.invokeFunction(\n",
              "                'suggestCharts', [key], {});\n",
              "          } catch (error) {\n",
              "            console.error('Error during call to suggestCharts:', error);\n",
              "          }\n",
              "          quickchartButtonEl.classList.remove('colab-df-spinner');\n",
              "          quickchartButtonEl.classList.add('colab-df-quickchart-complete');\n",
              "        }\n",
              "        (() => {\n",
              "          let quickchartButtonEl =\n",
              "            document.querySelector('#df-d98b060c-4d17-4414-877f-366aaa226a38 button');\n",
              "          quickchartButtonEl.style.display =\n",
              "            google.colab.kernel.accessAllowed ? 'block' : 'none';\n",
              "        })();\n",
              "      </script>\n",
              "    </div>\n",
              "\n",
              "    </div>\n",
              "  </div>\n"
            ],
            "application/vnd.google.colaboratory.intrinsic+json": {
              "type": "dataframe",
              "variable_name": "df",
              "summary": "{\n  \"name\": \"df\",\n  \"rows\": 6435,\n  \"fields\": [\n    {\n      \"column\": \"Store\",\n      \"properties\": {\n        \"dtype\": \"number\",\n        \"std\": 12,\n        \"min\": 1,\n        \"max\": 45,\n        \"num_unique_values\": 45,\n        \"samples\": [\n          40,\n          26,\n          27\n        ],\n        \"semantic_type\": \"\",\n        \"description\": \"\"\n      }\n    },\n    {\n      \"column\": \"Date\",\n      \"properties\": {\n        \"dtype\": \"category\",\n        \"num_unique_values\": 143,\n        \"samples\": [\n          \"04-05-2012\",\n          \"18-06-2010\",\n          \"02-09-2011\"\n        ],\n        \"semantic_type\": \"\",\n        \"description\": \"\"\n      }\n    },\n    {\n      \"column\": \"Weekly_Sales\",\n      \"properties\": {\n        \"dtype\": \"number\",\n        \"std\": 564366.6220536974,\n        \"min\": 209986.25,\n        \"max\": 3818686.45,\n        \"num_unique_values\": 6435,\n        \"samples\": [\n          1138800.32,\n          1304850.67,\n          1769296.25\n        ],\n        \"semantic_type\": \"\",\n        \"description\": \"\"\n      }\n    },\n    {\n      \"column\": \"Holiday_Flag\",\n      \"properties\": {\n        \"dtype\": \"number\",\n        \"std\": 0,\n        \"min\": 0,\n        \"max\": 1,\n        \"num_unique_values\": 2,\n        \"samples\": [\n          1,\n          0\n        ],\n        \"semantic_type\": \"\",\n        \"description\": \"\"\n      }\n    },\n    {\n      \"column\": \"Temperature\",\n      \"properties\": {\n        \"dtype\": \"number\",\n        \"std\": 18.444932875811585,\n        \"min\": -2.06,\n        \"max\": 100.14,\n        \"num_unique_values\": 3528,\n        \"samples\": [\n          51.13,\n          98.15\n        ],\n        \"semantic_type\": \"\",\n        \"description\": \"\"\n      }\n    },\n    {\n      \"column\": \"Fuel_Price\",\n      \"properties\": {\n        \"dtype\": \"number\",\n        \"std\": 0.4590197071928516,\n        \"min\": 2.472,\n        \"max\": 4.468,\n        \"num_unique_values\": 892,\n        \"samples\": [\n          2.84,\n          3.95\n        ],\n        \"semantic_type\": \"\",\n        \"description\": \"\"\n      }\n    },\n    {\n      \"column\": \"CPI\",\n      \"properties\": {\n        \"dtype\": \"number\",\n        \"std\": 39.35671229566413,\n        \"min\": 126.064,\n        \"max\": 227.2328068,\n        \"num_unique_values\": 2145,\n        \"samples\": [\n          184.613419,\n          214.1083654\n        ],\n        \"semantic_type\": \"\",\n        \"description\": \"\"\n      }\n    },\n    {\n      \"column\": \"Unemployment\",\n      \"properties\": {\n        \"dtype\": \"number\",\n        \"std\": 1.8758847818628084,\n        \"min\": 3.879,\n        \"max\": 14.313,\n        \"num_unique_values\": 349,\n        \"samples\": [\n          8.185,\n          7.804\n        ],\n        \"semantic_type\": \"\",\n        \"description\": \"\"\n      }\n    }\n  ]\n}"
            }
          },
          "metadata": {},
          "execution_count": 50
        }
      ]
    },
    {
      "cell_type": "code",
      "source": [
        "#Stock historical data\n",
        "import yfinance as yf\n",
        "\n",
        "df=yf.download('AMZN',start='2025-01-01',end='2025-05-15')\n",
        "\n",
        "df.shape\n",
        "df.info()\n",
        "df.head()\n",
        "df.tail()"
      ],
      "metadata": {
        "colab": {
          "base_uri": "https://localhost:8080/",
          "height": 514
        },
        "id": "zGXrlCXFKmMs",
        "outputId": "06fd17f5-2a19-4e6b-e0a8-0ef92d32b01e"
      },
      "execution_count": null,
      "outputs": [
        {
          "output_type": "stream",
          "name": "stderr",
          "text": [
            "\r[*********************100%***********************]  1 of 1 completed"
          ]
        },
        {
          "output_type": "stream",
          "name": "stdout",
          "text": [
            "<class 'pandas.core.frame.DataFrame'>\n",
            "DatetimeIndex: 91 entries, 2025-01-02 to 2025-05-14\n",
            "Data columns (total 5 columns):\n",
            " #   Column          Non-Null Count  Dtype  \n",
            "---  ------          --------------  -----  \n",
            " 0   (Close, AMZN)   91 non-null     float64\n",
            " 1   (High, AMZN)    91 non-null     float64\n",
            " 2   (Low, AMZN)     91 non-null     float64\n",
            " 3   (Open, AMZN)    91 non-null     float64\n",
            " 4   (Volume, AMZN)  91 non-null     int64  \n",
            "dtypes: float64(4), int64(1)\n",
            "memory usage: 4.3 KB\n"
          ]
        },
        {
          "output_type": "stream",
          "name": "stderr",
          "text": [
            "\n"
          ]
        },
        {
          "output_type": "execute_result",
          "data": {
            "text/plain": [
              "Price            Close        High         Low        Open    Volume\n",
              "Ticker            AMZN        AMZN        AMZN        AMZN      AMZN\n",
              "Date                                                                \n",
              "2025-05-08  192.080002  194.330002  188.820007  191.429993  41043600\n",
              "2025-05-09  193.059998  194.690002  191.160004  193.380005  29663100\n",
              "2025-05-12  208.639999  211.660004  205.750000  210.710007  75205000\n",
              "2025-05-13  211.369995  214.839996  210.100006  211.080002  56193700\n",
              "2025-05-14  210.250000  211.929993  208.850006  211.449997  38492100"
            ],
            "text/html": [
              "\n",
              "  <div id=\"df-3fca26b9-9257-4cef-95fd-bfd5d44591bf\" class=\"colab-df-container\">\n",
              "    <div>\n",
              "<style scoped>\n",
              "    .dataframe tbody tr th:only-of-type {\n",
              "        vertical-align: middle;\n",
              "    }\n",
              "\n",
              "    .dataframe tbody tr th {\n",
              "        vertical-align: top;\n",
              "    }\n",
              "\n",
              "    .dataframe thead tr th {\n",
              "        text-align: left;\n",
              "    }\n",
              "\n",
              "    .dataframe thead tr:last-of-type th {\n",
              "        text-align: right;\n",
              "    }\n",
              "</style>\n",
              "<table border=\"1\" class=\"dataframe\">\n",
              "  <thead>\n",
              "    <tr>\n",
              "      <th>Price</th>\n",
              "      <th>Close</th>\n",
              "      <th>High</th>\n",
              "      <th>Low</th>\n",
              "      <th>Open</th>\n",
              "      <th>Volume</th>\n",
              "    </tr>\n",
              "    <tr>\n",
              "      <th>Ticker</th>\n",
              "      <th>AMZN</th>\n",
              "      <th>AMZN</th>\n",
              "      <th>AMZN</th>\n",
              "      <th>AMZN</th>\n",
              "      <th>AMZN</th>\n",
              "    </tr>\n",
              "    <tr>\n",
              "      <th>Date</th>\n",
              "      <th></th>\n",
              "      <th></th>\n",
              "      <th></th>\n",
              "      <th></th>\n",
              "      <th></th>\n",
              "    </tr>\n",
              "  </thead>\n",
              "  <tbody>\n",
              "    <tr>\n",
              "      <th>2025-05-08</th>\n",
              "      <td>192.080002</td>\n",
              "      <td>194.330002</td>\n",
              "      <td>188.820007</td>\n",
              "      <td>191.429993</td>\n",
              "      <td>41043600</td>\n",
              "    </tr>\n",
              "    <tr>\n",
              "      <th>2025-05-09</th>\n",
              "      <td>193.059998</td>\n",
              "      <td>194.690002</td>\n",
              "      <td>191.160004</td>\n",
              "      <td>193.380005</td>\n",
              "      <td>29663100</td>\n",
              "    </tr>\n",
              "    <tr>\n",
              "      <th>2025-05-12</th>\n",
              "      <td>208.639999</td>\n",
              "      <td>211.660004</td>\n",
              "      <td>205.750000</td>\n",
              "      <td>210.710007</td>\n",
              "      <td>75205000</td>\n",
              "    </tr>\n",
              "    <tr>\n",
              "      <th>2025-05-13</th>\n",
              "      <td>211.369995</td>\n",
              "      <td>214.839996</td>\n",
              "      <td>210.100006</td>\n",
              "      <td>211.080002</td>\n",
              "      <td>56193700</td>\n",
              "    </tr>\n",
              "    <tr>\n",
              "      <th>2025-05-14</th>\n",
              "      <td>210.250000</td>\n",
              "      <td>211.929993</td>\n",
              "      <td>208.850006</td>\n",
              "      <td>211.449997</td>\n",
              "      <td>38492100</td>\n",
              "    </tr>\n",
              "  </tbody>\n",
              "</table>\n",
              "</div>\n",
              "    <div class=\"colab-df-buttons\">\n",
              "\n",
              "  <div class=\"colab-df-container\">\n",
              "    <button class=\"colab-df-convert\" onclick=\"convertToInteractive('df-3fca26b9-9257-4cef-95fd-bfd5d44591bf')\"\n",
              "            title=\"Convert this dataframe to an interactive table.\"\n",
              "            style=\"display:none;\">\n",
              "\n",
              "  <svg xmlns=\"http://www.w3.org/2000/svg\" height=\"24px\" viewBox=\"0 -960 960 960\">\n",
              "    <path d=\"M120-120v-720h720v720H120Zm60-500h600v-160H180v160Zm220 220h160v-160H400v160Zm0 220h160v-160H400v160ZM180-400h160v-160H180v160Zm440 0h160v-160H620v160ZM180-180h160v-160H180v160Zm440 0h160v-160H620v160Z\"/>\n",
              "  </svg>\n",
              "    </button>\n",
              "\n",
              "  <style>\n",
              "    .colab-df-container {\n",
              "      display:flex;\n",
              "      gap: 12px;\n",
              "    }\n",
              "\n",
              "    .colab-df-convert {\n",
              "      background-color: #E8F0FE;\n",
              "      border: none;\n",
              "      border-radius: 50%;\n",
              "      cursor: pointer;\n",
              "      display: none;\n",
              "      fill: #1967D2;\n",
              "      height: 32px;\n",
              "      padding: 0 0 0 0;\n",
              "      width: 32px;\n",
              "    }\n",
              "\n",
              "    .colab-df-convert:hover {\n",
              "      background-color: #E2EBFA;\n",
              "      box-shadow: 0px 1px 2px rgba(60, 64, 67, 0.3), 0px 1px 3px 1px rgba(60, 64, 67, 0.15);\n",
              "      fill: #174EA6;\n",
              "    }\n",
              "\n",
              "    .colab-df-buttons div {\n",
              "      margin-bottom: 4px;\n",
              "    }\n",
              "\n",
              "    [theme=dark] .colab-df-convert {\n",
              "      background-color: #3B4455;\n",
              "      fill: #D2E3FC;\n",
              "    }\n",
              "\n",
              "    [theme=dark] .colab-df-convert:hover {\n",
              "      background-color: #434B5C;\n",
              "      box-shadow: 0px 1px 3px 1px rgba(0, 0, 0, 0.15);\n",
              "      filter: drop-shadow(0px 1px 2px rgba(0, 0, 0, 0.3));\n",
              "      fill: #FFFFFF;\n",
              "    }\n",
              "  </style>\n",
              "\n",
              "    <script>\n",
              "      const buttonEl =\n",
              "        document.querySelector('#df-3fca26b9-9257-4cef-95fd-bfd5d44591bf button.colab-df-convert');\n",
              "      buttonEl.style.display =\n",
              "        google.colab.kernel.accessAllowed ? 'block' : 'none';\n",
              "\n",
              "      async function convertToInteractive(key) {\n",
              "        const element = document.querySelector('#df-3fca26b9-9257-4cef-95fd-bfd5d44591bf');\n",
              "        const dataTable =\n",
              "          await google.colab.kernel.invokeFunction('convertToInteractive',\n",
              "                                                    [key], {});\n",
              "        if (!dataTable) return;\n",
              "\n",
              "        const docLinkHtml = 'Like what you see? Visit the ' +\n",
              "          '<a target=\"_blank\" href=https://colab.research.google.com/notebooks/data_table.ipynb>data table notebook</a>'\n",
              "          + ' to learn more about interactive tables.';\n",
              "        element.innerHTML = '';\n",
              "        dataTable['output_type'] = 'display_data';\n",
              "        await google.colab.output.renderOutput(dataTable, element);\n",
              "        const docLink = document.createElement('div');\n",
              "        docLink.innerHTML = docLinkHtml;\n",
              "        element.appendChild(docLink);\n",
              "      }\n",
              "    </script>\n",
              "  </div>\n",
              "\n",
              "\n",
              "    <div id=\"df-61452ec1-df84-4598-b35a-4755b4b7c74e\">\n",
              "      <button class=\"colab-df-quickchart\" onclick=\"quickchart('df-61452ec1-df84-4598-b35a-4755b4b7c74e')\"\n",
              "                title=\"Suggest charts\"\n",
              "                style=\"display:none;\">\n",
              "\n",
              "<svg xmlns=\"http://www.w3.org/2000/svg\" height=\"24px\"viewBox=\"0 0 24 24\"\n",
              "     width=\"24px\">\n",
              "    <g>\n",
              "        <path d=\"M19 3H5c-1.1 0-2 .9-2 2v14c0 1.1.9 2 2 2h14c1.1 0 2-.9 2-2V5c0-1.1-.9-2-2-2zM9 17H7v-7h2v7zm4 0h-2V7h2v10zm4 0h-2v-4h2v4z\"/>\n",
              "    </g>\n",
              "</svg>\n",
              "      </button>\n",
              "\n",
              "<style>\n",
              "  .colab-df-quickchart {\n",
              "      --bg-color: #E8F0FE;\n",
              "      --fill-color: #1967D2;\n",
              "      --hover-bg-color: #E2EBFA;\n",
              "      --hover-fill-color: #174EA6;\n",
              "      --disabled-fill-color: #AAA;\n",
              "      --disabled-bg-color: #DDD;\n",
              "  }\n",
              "\n",
              "  [theme=dark] .colab-df-quickchart {\n",
              "      --bg-color: #3B4455;\n",
              "      --fill-color: #D2E3FC;\n",
              "      --hover-bg-color: #434B5C;\n",
              "      --hover-fill-color: #FFFFFF;\n",
              "      --disabled-bg-color: #3B4455;\n",
              "      --disabled-fill-color: #666;\n",
              "  }\n",
              "\n",
              "  .colab-df-quickchart {\n",
              "    background-color: var(--bg-color);\n",
              "    border: none;\n",
              "    border-radius: 50%;\n",
              "    cursor: pointer;\n",
              "    display: none;\n",
              "    fill: var(--fill-color);\n",
              "    height: 32px;\n",
              "    padding: 0;\n",
              "    width: 32px;\n",
              "  }\n",
              "\n",
              "  .colab-df-quickchart:hover {\n",
              "    background-color: var(--hover-bg-color);\n",
              "    box-shadow: 0 1px 2px rgba(60, 64, 67, 0.3), 0 1px 3px 1px rgba(60, 64, 67, 0.15);\n",
              "    fill: var(--button-hover-fill-color);\n",
              "  }\n",
              "\n",
              "  .colab-df-quickchart-complete:disabled,\n",
              "  .colab-df-quickchart-complete:disabled:hover {\n",
              "    background-color: var(--disabled-bg-color);\n",
              "    fill: var(--disabled-fill-color);\n",
              "    box-shadow: none;\n",
              "  }\n",
              "\n",
              "  .colab-df-spinner {\n",
              "    border: 2px solid var(--fill-color);\n",
              "    border-color: transparent;\n",
              "    border-bottom-color: var(--fill-color);\n",
              "    animation:\n",
              "      spin 1s steps(1) infinite;\n",
              "  }\n",
              "\n",
              "  @keyframes spin {\n",
              "    0% {\n",
              "      border-color: transparent;\n",
              "      border-bottom-color: var(--fill-color);\n",
              "      border-left-color: var(--fill-color);\n",
              "    }\n",
              "    20% {\n",
              "      border-color: transparent;\n",
              "      border-left-color: var(--fill-color);\n",
              "      border-top-color: var(--fill-color);\n",
              "    }\n",
              "    30% {\n",
              "      border-color: transparent;\n",
              "      border-left-color: var(--fill-color);\n",
              "      border-top-color: var(--fill-color);\n",
              "      border-right-color: var(--fill-color);\n",
              "    }\n",
              "    40% {\n",
              "      border-color: transparent;\n",
              "      border-right-color: var(--fill-color);\n",
              "      border-top-color: var(--fill-color);\n",
              "    }\n",
              "    60% {\n",
              "      border-color: transparent;\n",
              "      border-right-color: var(--fill-color);\n",
              "    }\n",
              "    80% {\n",
              "      border-color: transparent;\n",
              "      border-right-color: var(--fill-color);\n",
              "      border-bottom-color: var(--fill-color);\n",
              "    }\n",
              "    90% {\n",
              "      border-color: transparent;\n",
              "      border-bottom-color: var(--fill-color);\n",
              "    }\n",
              "  }\n",
              "</style>\n",
              "\n",
              "      <script>\n",
              "        async function quickchart(key) {\n",
              "          const quickchartButtonEl =\n",
              "            document.querySelector('#' + key + ' button');\n",
              "          quickchartButtonEl.disabled = true;  // To prevent multiple clicks.\n",
              "          quickchartButtonEl.classList.add('colab-df-spinner');\n",
              "          try {\n",
              "            const charts = await google.colab.kernel.invokeFunction(\n",
              "                'suggestCharts', [key], {});\n",
              "          } catch (error) {\n",
              "            console.error('Error during call to suggestCharts:', error);\n",
              "          }\n",
              "          quickchartButtonEl.classList.remove('colab-df-spinner');\n",
              "          quickchartButtonEl.classList.add('colab-df-quickchart-complete');\n",
              "        }\n",
              "        (() => {\n",
              "          let quickchartButtonEl =\n",
              "            document.querySelector('#df-61452ec1-df84-4598-b35a-4755b4b7c74e button');\n",
              "          quickchartButtonEl.style.display =\n",
              "            google.colab.kernel.accessAllowed ? 'block' : 'none';\n",
              "        })();\n",
              "      </script>\n",
              "    </div>\n",
              "\n",
              "    </div>\n",
              "  </div>\n"
            ],
            "application/vnd.google.colaboratory.intrinsic+json": {
              "type": "dataframe",
              "summary": "{\n  \"name\": \"df\",\n  \"rows\": 5,\n  \"fields\": [\n    {\n      \"column\": [\n        \"Date\",\n        \"\"\n      ],\n      \"properties\": {\n        \"dtype\": \"date\",\n        \"min\": \"2025-05-08 00:00:00\",\n        \"max\": \"2025-05-14 00:00:00\",\n        \"num_unique_values\": 5,\n        \"samples\": [\n          \"2025-05-09 00:00:00\",\n          \"2025-05-14 00:00:00\",\n          \"2025-05-12 00:00:00\"\n        ],\n        \"semantic_type\": \"\",\n        \"description\": \"\"\n      }\n    },\n    {\n      \"column\": [\n        \"Close\",\n        \"AMZN\"\n      ],\n      \"properties\": {\n        \"dtype\": \"number\",\n        \"std\": 9.649441964415137,\n        \"min\": 192.0800018310547,\n        \"max\": 211.3699951171875,\n        \"num_unique_values\": 5,\n        \"samples\": [\n          193.05999755859375,\n          210.25,\n          208.63999938964844\n        ],\n        \"semantic_type\": \"\",\n        \"description\": \"\"\n      }\n    },\n    {\n      \"column\": [\n        \"High\",\n        \"AMZN\"\n      ],\n      \"properties\": {\n        \"dtype\": \"number\",\n        \"std\": 10.101366105255506,\n        \"min\": 194.3300018310547,\n        \"max\": 214.83999633789062,\n        \"num_unique_values\": 5,\n        \"samples\": [\n          194.69000244140625,\n          211.92999267578125,\n          211.66000366210938\n        ],\n        \"semantic_type\": \"\",\n        \"description\": \"\"\n      }\n    },\n    {\n      \"column\": [\n        \"Low\",\n        \"AMZN\"\n      ],\n      \"properties\": {\n        \"dtype\": \"number\",\n        \"std\": 10.15076942144883,\n        \"min\": 188.82000732421875,\n        \"max\": 210.10000610351562,\n        \"num_unique_values\": 5,\n        \"samples\": [\n          191.16000366210938,\n          208.85000610351562,\n          205.75\n        ],\n        \"semantic_type\": \"\",\n        \"description\": \"\"\n      }\n    },\n    {\n      \"column\": [\n        \"Open\",\n        \"AMZN\"\n      ],\n      \"properties\": {\n        \"dtype\": \"number\",\n        \"std\": 10.255266370956278,\n        \"min\": 191.42999267578125,\n        \"max\": 211.4499969482422,\n        \"num_unique_values\": 5,\n        \"samples\": [\n          193.3800048828125,\n          211.4499969482422,\n          210.7100067138672\n        ],\n        \"semantic_type\": \"\",\n        \"description\": \"\"\n      }\n    },\n    {\n      \"column\": [\n        \"Volume\",\n        \"AMZN\"\n      ],\n      \"properties\": {\n        \"dtype\": \"number\",\n        \"std\": 17903986,\n        \"min\": 29663100,\n        \"max\": 75205000,\n        \"num_unique_values\": 5,\n        \"samples\": [\n          29663100,\n          38492100,\n          75205000\n        ],\n        \"semantic_type\": \"\",\n        \"description\": \"\"\n      }\n    }\n  ]\n}"
            }
          },
          "metadata": {},
          "execution_count": 56
        }
      ]
    },
    {
      "cell_type": "code",
      "source": [
        "import yfinance as yf\n",
        "\n",
        "df=yf.download('INFY',start='2025-01-01',end='2025-05-15')\n",
        "#df.shape\n",
        "df.info()\n",
        "print(df.head(6))\n",
        "#print(f'Date={Date}')\n",
        "#max_value=df['High']\n",
        "#print(max_value)\n",
        "#print(df.loc(4))\n",
        "#print(f'Date={df.loc(4)}')"
      ],
      "metadata": {
        "colab": {
          "base_uri": "https://localhost:8080/"
        },
        "id": "Zk3XCaIuP9J-",
        "outputId": "fcbc2b5f-dfcb-4801-c0c2-ad8a45f979bd"
      },
      "execution_count": null,
      "outputs": [
        {
          "output_type": "stream",
          "name": "stderr",
          "text": [
            "\r[*********************100%***********************]  1 of 1 completed"
          ]
        },
        {
          "output_type": "stream",
          "name": "stdout",
          "text": [
            "<class 'pandas.core.frame.DataFrame'>\n",
            "DatetimeIndex: 91 entries, 2025-01-02 to 2025-05-14\n",
            "Data columns (total 5 columns):\n",
            " #   Column          Non-Null Count  Dtype  \n",
            "---  ------          --------------  -----  \n",
            " 0   (Close, INFY)   91 non-null     float64\n",
            " 1   (High, INFY)    91 non-null     float64\n",
            " 2   (Low, INFY)     91 non-null     float64\n",
            " 3   (Open, INFY)    91 non-null     float64\n",
            " 4   (Volume, INFY)  91 non-null     int64  \n",
            "dtypes: float64(4), int64(1)\n",
            "memory usage: 4.3 KB\n",
            "Price           Close       High        Low   Open   Volume\n",
            "Ticker           INFY       INFY       INFY   INFY     INFY\n",
            "Date                                                       \n",
            "2025-01-02  22.620001  22.820000  22.490000  22.75  6556200\n",
            "2025-01-03  22.629999  22.660000  22.450001  22.52  3810700\n",
            "2025-01-06  22.750000  22.809999  22.580000  22.58  4862600\n",
            "2025-01-07  22.610001  22.879999  22.530001  22.67  5150400\n",
            "2025-01-08  22.780001  22.809999  22.549999  22.59  6199700\n",
            "2025-01-10  22.700001  23.190001  22.700001  22.85  7409000\n"
          ]
        },
        {
          "output_type": "stream",
          "name": "stderr",
          "text": [
            "\n"
          ]
        }
      ]
    },
    {
      "cell_type": "markdown",
      "source": [
        "null valyes\n",
        "adding new rows\n",
        "cloumns\n",
        "rename the columns\n",
        "high value with date"
      ],
      "metadata": {
        "id": "RIpAPhjaUEQ1"
      }
    },
    {
      "cell_type": "markdown",
      "source": [
        "**MY EXPO ON PANDAS , DF AND OPERATIONS ON 17-05-2025**"
      ],
      "metadata": {
        "id": "O7Hniq1ki-ZG"
      }
    },
    {
      "cell_type": "code",
      "source": [
        "#import pandas as pd\n",
        "import yfinance as yf\n",
        "\n",
        "df=yf.download('TCSA3.SA',start='2025-01-01',end='2025-05-16')\n",
        "df.shape\n",
        "df.info()\n",
        "df.head()\n"
      ],
      "metadata": {
        "colab": {
          "base_uri": "https://localhost:8080/",
          "height": 514
        },
        "id": "cNbqYzmdi-Cu",
        "outputId": "980f7bff-703a-4545-981b-4aeccda2bef0"
      },
      "execution_count": null,
      "outputs": [
        {
          "output_type": "stream",
          "name": "stderr",
          "text": [
            "\r[*********************100%***********************]  1 of 1 completed"
          ]
        },
        {
          "output_type": "stream",
          "name": "stdout",
          "text": [
            "<class 'pandas.core.frame.DataFrame'>\n",
            "DatetimeIndex: 91 entries, 2025-01-02 to 2025-05-15\n",
            "Data columns (total 5 columns):\n",
            " #   Column              Non-Null Count  Dtype  \n",
            "---  ------              --------------  -----  \n",
            " 0   (Close, TCSA3.SA)   91 non-null     float64\n",
            " 1   (High, TCSA3.SA)    91 non-null     float64\n",
            " 2   (Low, TCSA3.SA)     91 non-null     float64\n",
            " 3   (Open, TCSA3.SA)    91 non-null     float64\n",
            " 4   (Volume, TCSA3.SA)  91 non-null     int64  \n",
            "dtypes: float64(4), int64(1)\n",
            "memory usage: 4.3 KB\n"
          ]
        },
        {
          "output_type": "stream",
          "name": "stderr",
          "text": [
            "\n"
          ]
        },
        {
          "output_type": "execute_result",
          "data": {
            "text/plain": [
              "Price         Close     High      Low     Open   Volume\n",
              "Ticker     TCSA3.SA TCSA3.SA TCSA3.SA TCSA3.SA TCSA3.SA\n",
              "Date                                                   \n",
              "2025-01-02     1.26     1.35     1.25     1.33    77200\n",
              "2025-01-03     1.26     1.31     1.26     1.26    38800\n",
              "2025-01-06     1.37     1.38     1.26     1.26   180600\n",
              "2025-01-07     1.40     1.40     1.36     1.40    35900\n",
              "2025-01-08     1.40     1.40     1.34     1.40    34000"
            ],
            "text/html": [
              "\n",
              "  <div id=\"df-15919626-6660-4129-b56a-7f1c19e4d4c1\" class=\"colab-df-container\">\n",
              "    <div>\n",
              "<style scoped>\n",
              "    .dataframe tbody tr th:only-of-type {\n",
              "        vertical-align: middle;\n",
              "    }\n",
              "\n",
              "    .dataframe tbody tr th {\n",
              "        vertical-align: top;\n",
              "    }\n",
              "\n",
              "    .dataframe thead tr th {\n",
              "        text-align: left;\n",
              "    }\n",
              "\n",
              "    .dataframe thead tr:last-of-type th {\n",
              "        text-align: right;\n",
              "    }\n",
              "</style>\n",
              "<table border=\"1\" class=\"dataframe\">\n",
              "  <thead>\n",
              "    <tr>\n",
              "      <th>Price</th>\n",
              "      <th>Close</th>\n",
              "      <th>High</th>\n",
              "      <th>Low</th>\n",
              "      <th>Open</th>\n",
              "      <th>Volume</th>\n",
              "    </tr>\n",
              "    <tr>\n",
              "      <th>Ticker</th>\n",
              "      <th>TCSA3.SA</th>\n",
              "      <th>TCSA3.SA</th>\n",
              "      <th>TCSA3.SA</th>\n",
              "      <th>TCSA3.SA</th>\n",
              "      <th>TCSA3.SA</th>\n",
              "    </tr>\n",
              "    <tr>\n",
              "      <th>Date</th>\n",
              "      <th></th>\n",
              "      <th></th>\n",
              "      <th></th>\n",
              "      <th></th>\n",
              "      <th></th>\n",
              "    </tr>\n",
              "  </thead>\n",
              "  <tbody>\n",
              "    <tr>\n",
              "      <th>2025-01-02</th>\n",
              "      <td>1.26</td>\n",
              "      <td>1.35</td>\n",
              "      <td>1.25</td>\n",
              "      <td>1.33</td>\n",
              "      <td>77200</td>\n",
              "    </tr>\n",
              "    <tr>\n",
              "      <th>2025-01-03</th>\n",
              "      <td>1.26</td>\n",
              "      <td>1.31</td>\n",
              "      <td>1.26</td>\n",
              "      <td>1.26</td>\n",
              "      <td>38800</td>\n",
              "    </tr>\n",
              "    <tr>\n",
              "      <th>2025-01-06</th>\n",
              "      <td>1.37</td>\n",
              "      <td>1.38</td>\n",
              "      <td>1.26</td>\n",
              "      <td>1.26</td>\n",
              "      <td>180600</td>\n",
              "    </tr>\n",
              "    <tr>\n",
              "      <th>2025-01-07</th>\n",
              "      <td>1.40</td>\n",
              "      <td>1.40</td>\n",
              "      <td>1.36</td>\n",
              "      <td>1.40</td>\n",
              "      <td>35900</td>\n",
              "    </tr>\n",
              "    <tr>\n",
              "      <th>2025-01-08</th>\n",
              "      <td>1.40</td>\n",
              "      <td>1.40</td>\n",
              "      <td>1.34</td>\n",
              "      <td>1.40</td>\n",
              "      <td>34000</td>\n",
              "    </tr>\n",
              "  </tbody>\n",
              "</table>\n",
              "</div>\n",
              "    <div class=\"colab-df-buttons\">\n",
              "\n",
              "  <div class=\"colab-df-container\">\n",
              "    <button class=\"colab-df-convert\" onclick=\"convertToInteractive('df-15919626-6660-4129-b56a-7f1c19e4d4c1')\"\n",
              "            title=\"Convert this dataframe to an interactive table.\"\n",
              "            style=\"display:none;\">\n",
              "\n",
              "  <svg xmlns=\"http://www.w3.org/2000/svg\" height=\"24px\" viewBox=\"0 -960 960 960\">\n",
              "    <path d=\"M120-120v-720h720v720H120Zm60-500h600v-160H180v160Zm220 220h160v-160H400v160Zm0 220h160v-160H400v160ZM180-400h160v-160H180v160Zm440 0h160v-160H620v160ZM180-180h160v-160H180v160Zm440 0h160v-160H620v160Z\"/>\n",
              "  </svg>\n",
              "    </button>\n",
              "\n",
              "  <style>\n",
              "    .colab-df-container {\n",
              "      display:flex;\n",
              "      gap: 12px;\n",
              "    }\n",
              "\n",
              "    .colab-df-convert {\n",
              "      background-color: #E8F0FE;\n",
              "      border: none;\n",
              "      border-radius: 50%;\n",
              "      cursor: pointer;\n",
              "      display: none;\n",
              "      fill: #1967D2;\n",
              "      height: 32px;\n",
              "      padding: 0 0 0 0;\n",
              "      width: 32px;\n",
              "    }\n",
              "\n",
              "    .colab-df-convert:hover {\n",
              "      background-color: #E2EBFA;\n",
              "      box-shadow: 0px 1px 2px rgba(60, 64, 67, 0.3), 0px 1px 3px 1px rgba(60, 64, 67, 0.15);\n",
              "      fill: #174EA6;\n",
              "    }\n",
              "\n",
              "    .colab-df-buttons div {\n",
              "      margin-bottom: 4px;\n",
              "    }\n",
              "\n",
              "    [theme=dark] .colab-df-convert {\n",
              "      background-color: #3B4455;\n",
              "      fill: #D2E3FC;\n",
              "    }\n",
              "\n",
              "    [theme=dark] .colab-df-convert:hover {\n",
              "      background-color: #434B5C;\n",
              "      box-shadow: 0px 1px 3px 1px rgba(0, 0, 0, 0.15);\n",
              "      filter: drop-shadow(0px 1px 2px rgba(0, 0, 0, 0.3));\n",
              "      fill: #FFFFFF;\n",
              "    }\n",
              "  </style>\n",
              "\n",
              "    <script>\n",
              "      const buttonEl =\n",
              "        document.querySelector('#df-15919626-6660-4129-b56a-7f1c19e4d4c1 button.colab-df-convert');\n",
              "      buttonEl.style.display =\n",
              "        google.colab.kernel.accessAllowed ? 'block' : 'none';\n",
              "\n",
              "      async function convertToInteractive(key) {\n",
              "        const element = document.querySelector('#df-15919626-6660-4129-b56a-7f1c19e4d4c1');\n",
              "        const dataTable =\n",
              "          await google.colab.kernel.invokeFunction('convertToInteractive',\n",
              "                                                    [key], {});\n",
              "        if (!dataTable) return;\n",
              "\n",
              "        const docLinkHtml = 'Like what you see? Visit the ' +\n",
              "          '<a target=\"_blank\" href=https://colab.research.google.com/notebooks/data_table.ipynb>data table notebook</a>'\n",
              "          + ' to learn more about interactive tables.';\n",
              "        element.innerHTML = '';\n",
              "        dataTable['output_type'] = 'display_data';\n",
              "        await google.colab.output.renderOutput(dataTable, element);\n",
              "        const docLink = document.createElement('div');\n",
              "        docLink.innerHTML = docLinkHtml;\n",
              "        element.appendChild(docLink);\n",
              "      }\n",
              "    </script>\n",
              "  </div>\n",
              "\n",
              "\n",
              "    <div id=\"df-7710d831-b12c-4195-9407-46037c310625\">\n",
              "      <button class=\"colab-df-quickchart\" onclick=\"quickchart('df-7710d831-b12c-4195-9407-46037c310625')\"\n",
              "                title=\"Suggest charts\"\n",
              "                style=\"display:none;\">\n",
              "\n",
              "<svg xmlns=\"http://www.w3.org/2000/svg\" height=\"24px\"viewBox=\"0 0 24 24\"\n",
              "     width=\"24px\">\n",
              "    <g>\n",
              "        <path d=\"M19 3H5c-1.1 0-2 .9-2 2v14c0 1.1.9 2 2 2h14c1.1 0 2-.9 2-2V5c0-1.1-.9-2-2-2zM9 17H7v-7h2v7zm4 0h-2V7h2v10zm4 0h-2v-4h2v4z\"/>\n",
              "    </g>\n",
              "</svg>\n",
              "      </button>\n",
              "\n",
              "<style>\n",
              "  .colab-df-quickchart {\n",
              "      --bg-color: #E8F0FE;\n",
              "      --fill-color: #1967D2;\n",
              "      --hover-bg-color: #E2EBFA;\n",
              "      --hover-fill-color: #174EA6;\n",
              "      --disabled-fill-color: #AAA;\n",
              "      --disabled-bg-color: #DDD;\n",
              "  }\n",
              "\n",
              "  [theme=dark] .colab-df-quickchart {\n",
              "      --bg-color: #3B4455;\n",
              "      --fill-color: #D2E3FC;\n",
              "      --hover-bg-color: #434B5C;\n",
              "      --hover-fill-color: #FFFFFF;\n",
              "      --disabled-bg-color: #3B4455;\n",
              "      --disabled-fill-color: #666;\n",
              "  }\n",
              "\n",
              "  .colab-df-quickchart {\n",
              "    background-color: var(--bg-color);\n",
              "    border: none;\n",
              "    border-radius: 50%;\n",
              "    cursor: pointer;\n",
              "    display: none;\n",
              "    fill: var(--fill-color);\n",
              "    height: 32px;\n",
              "    padding: 0;\n",
              "    width: 32px;\n",
              "  }\n",
              "\n",
              "  .colab-df-quickchart:hover {\n",
              "    background-color: var(--hover-bg-color);\n",
              "    box-shadow: 0 1px 2px rgba(60, 64, 67, 0.3), 0 1px 3px 1px rgba(60, 64, 67, 0.15);\n",
              "    fill: var(--button-hover-fill-color);\n",
              "  }\n",
              "\n",
              "  .colab-df-quickchart-complete:disabled,\n",
              "  .colab-df-quickchart-complete:disabled:hover {\n",
              "    background-color: var(--disabled-bg-color);\n",
              "    fill: var(--disabled-fill-color);\n",
              "    box-shadow: none;\n",
              "  }\n",
              "\n",
              "  .colab-df-spinner {\n",
              "    border: 2px solid var(--fill-color);\n",
              "    border-color: transparent;\n",
              "    border-bottom-color: var(--fill-color);\n",
              "    animation:\n",
              "      spin 1s steps(1) infinite;\n",
              "  }\n",
              "\n",
              "  @keyframes spin {\n",
              "    0% {\n",
              "      border-color: transparent;\n",
              "      border-bottom-color: var(--fill-color);\n",
              "      border-left-color: var(--fill-color);\n",
              "    }\n",
              "    20% {\n",
              "      border-color: transparent;\n",
              "      border-left-color: var(--fill-color);\n",
              "      border-top-color: var(--fill-color);\n",
              "    }\n",
              "    30% {\n",
              "      border-color: transparent;\n",
              "      border-left-color: var(--fill-color);\n",
              "      border-top-color: var(--fill-color);\n",
              "      border-right-color: var(--fill-color);\n",
              "    }\n",
              "    40% {\n",
              "      border-color: transparent;\n",
              "      border-right-color: var(--fill-color);\n",
              "      border-top-color: var(--fill-color);\n",
              "    }\n",
              "    60% {\n",
              "      border-color: transparent;\n",
              "      border-right-color: var(--fill-color);\n",
              "    }\n",
              "    80% {\n",
              "      border-color: transparent;\n",
              "      border-right-color: var(--fill-color);\n",
              "      border-bottom-color: var(--fill-color);\n",
              "    }\n",
              "    90% {\n",
              "      border-color: transparent;\n",
              "      border-bottom-color: var(--fill-color);\n",
              "    }\n",
              "  }\n",
              "</style>\n",
              "\n",
              "      <script>\n",
              "        async function quickchart(key) {\n",
              "          const quickchartButtonEl =\n",
              "            document.querySelector('#' + key + ' button');\n",
              "          quickchartButtonEl.disabled = true;  // To prevent multiple clicks.\n",
              "          quickchartButtonEl.classList.add('colab-df-spinner');\n",
              "          try {\n",
              "            const charts = await google.colab.kernel.invokeFunction(\n",
              "                'suggestCharts', [key], {});\n",
              "          } catch (error) {\n",
              "            console.error('Error during call to suggestCharts:', error);\n",
              "          }\n",
              "          quickchartButtonEl.classList.remove('colab-df-spinner');\n",
              "          quickchartButtonEl.classList.add('colab-df-quickchart-complete');\n",
              "        }\n",
              "        (() => {\n",
              "          let quickchartButtonEl =\n",
              "            document.querySelector('#df-7710d831-b12c-4195-9407-46037c310625 button');\n",
              "          quickchartButtonEl.style.display =\n",
              "            google.colab.kernel.accessAllowed ? 'block' : 'none';\n",
              "        })();\n",
              "      </script>\n",
              "    </div>\n",
              "\n",
              "    </div>\n",
              "  </div>\n"
            ],
            "application/vnd.google.colaboratory.intrinsic+json": {
              "type": "dataframe",
              "variable_name": "df",
              "summary": "{\n  \"name\": \"df\",\n  \"rows\": 91,\n  \"fields\": [\n    {\n      \"column\": [\n        \"Date\",\n        \"\"\n      ],\n      \"properties\": {\n        \"dtype\": \"date\",\n        \"min\": \"2025-01-02 00:00:00\",\n        \"max\": \"2025-05-15 00:00:00\",\n        \"num_unique_values\": 91,\n        \"samples\": [\n          \"2025-02-27 00:00:00\",\n          \"2025-02-03 00:00:00\",\n          \"2025-03-24 00:00:00\"\n        ],\n        \"semantic_type\": \"\",\n        \"description\": \"\"\n      }\n    },\n    {\n      \"column\": [\n        \"Close\",\n        \"TCSA3.SA\"\n      ],\n      \"properties\": {\n        \"dtype\": \"number\",\n        \"std\": 0.08436026738530904,\n        \"min\": 1.25,\n        \"max\": 1.600000023841858,\n        \"num_unique_values\": 30,\n        \"samples\": [\n          1.2899999618530273,\n          1.559999942779541,\n          1.3799999952316284\n        ],\n        \"semantic_type\": \"\",\n        \"description\": \"\"\n      }\n    },\n    {\n      \"column\": [\n        \"High\",\n        \"TCSA3.SA\"\n      ],\n      \"properties\": {\n        \"dtype\": \"number\",\n        \"std\": 0.08931062163096286,\n        \"min\": 1.2699999809265137,\n        \"max\": 1.6299999952316284,\n        \"num_unique_values\": 33,\n        \"samples\": [\n          1.2799999713897705,\n          1.6299999952316284,\n          1.3600000143051147\n        ],\n        \"semantic_type\": \"\",\n        \"description\": \"\"\n      }\n    },\n    {\n      \"column\": [\n        \"Low\",\n        \"TCSA3.SA\"\n      ],\n      \"properties\": {\n        \"dtype\": \"number\",\n        \"std\": 0.07389643896016405,\n        \"min\": 1.25,\n        \"max\": 1.5499999523162842,\n        \"num_unique_values\": 26,\n        \"samples\": [\n          1.4199999570846558,\n          1.4900000095367432,\n          1.25\n        ],\n        \"semantic_type\": \"\",\n        \"description\": \"\"\n      }\n    },\n    {\n      \"column\": [\n        \"Open\",\n        \"TCSA3.SA\"\n      ],\n      \"properties\": {\n        \"dtype\": \"number\",\n        \"std\": 0.08151077065831089,\n        \"min\": 1.2599999904632568,\n        \"max\": 1.600000023841858,\n        \"num_unique_values\": 29,\n        \"samples\": [\n          1.2699999809265137,\n          1.5,\n          1.5800000429153442\n        ],\n        \"semantic_type\": \"\",\n        \"description\": \"\"\n      }\n    },\n    {\n      \"column\": [\n        \"Volume\",\n        \"TCSA3.SA\"\n      ],\n      \"properties\": {\n        \"dtype\": \"number\",\n        \"std\": 64873,\n        \"min\": 12300,\n        \"max\": 376700,\n        \"num_unique_values\": 89,\n        \"samples\": [\n          41100,\n          91200,\n          86200\n        ],\n        \"semantic_type\": \"\",\n        \"description\": \"\"\n      }\n    }\n  ]\n}"
            }
          },
          "metadata": {},
          "execution_count": 31
        }
      ]
    },
    {
      "cell_type": "markdown",
      "source": [
        "**DAY-6**"
      ],
      "metadata": {
        "id": "tZHWNTR6FKhB"
      }
    },
    {
      "cell_type": "markdown",
      "source": [
        "**CLS ON 17-05-2025 **"
      ],
      "metadata": {
        "id": "I4CfaNVLJZvf"
      }
    },
    {
      "cell_type": "markdown",
      "source": [
        "PYTHON CODE CONCEPTS APPLOIED TO INDUSTRY USE CASE"
      ],
      "metadata": {
        "id": "ARd_tBa8KYIt"
      }
    },
    {
      "cell_type": "markdown",
      "source": [
        "cerating and managing orders\n",
        "USE CASE: add new items when a customer updates their oreder"
      ],
      "metadata": {
        "id": "sFpaUKFoKod0"
      }
    },
    {
      "cell_type": "code",
      "source": [
        "Orders=[\"Laptop\",\"Smartphone\",\"Headphone\",\"Mouse\"]\n",
        "print(f'Orders before Update:{Orders}')\n",
        "Orders.append(\"keyboard\")\n",
        "print(f'Orders after Update:{Orders}')"
      ],
      "metadata": {
        "colab": {
          "base_uri": "https://localhost:8080/"
        },
        "id": "9tkoq_G6K6eJ",
        "outputId": "ef7f510e-25c5-4c46-9167-b48e2f570bf5"
      },
      "execution_count": null,
      "outputs": [
        {
          "output_type": "stream",
          "name": "stdout",
          "text": [
            "Orders before Update:['Laptop', 'Smartphone', 'Headphone', 'Mouse']\n",
            "Orders after Update:['Laptop', 'Smartphone', 'Headphone', 'Mouse', 'keyboard']\n"
          ]
        }
      ]
    },
    {
      "cell_type": "markdown",
      "source": [
        "2.Insertoing and removing items\n",
        "USE CASE: A product is discontinued or canceled froma n order"
      ],
      "metadata": {
        "id": "0-wgW1NgL2bE"
      }
    },
    {
      "cell_type": "code",
      "source": [
        "Orders.remove(\"Mouse\")\n",
        "print('Orders after rempval/Cancel',Orders)"
      ],
      "metadata": {
        "colab": {
          "base_uri": "https://localhost:8080/",
          "height": 158
        },
        "id": "V3zteEewMRBT",
        "outputId": "74017959-1760-43d5-95dc-1ef48545deaa"
      },
      "execution_count": null,
      "outputs": [
        {
          "output_type": "error",
          "ename": "NameError",
          "evalue": "name 'Orders' is not defined",
          "traceback": [
            "\u001b[0;31m---------------------------------------------------------------------------\u001b[0m",
            "\u001b[0;31mNameError\u001b[0m                                 Traceback (most recent call last)",
            "\u001b[0;32m<ipython-input-3-850faec42856>\u001b[0m in \u001b[0;36m<cell line: 0>\u001b[0;34m()\u001b[0m\n\u001b[0;32m----> 1\u001b[0;31m \u001b[0mOrders\u001b[0m\u001b[0;34m.\u001b[0m\u001b[0mremove\u001b[0m\u001b[0;34m(\u001b[0m\u001b[0;34m\"Mouse\"\u001b[0m\u001b[0;34m)\u001b[0m\u001b[0;34m\u001b[0m\u001b[0;34m\u001b[0m\u001b[0m\n\u001b[0m\u001b[1;32m      2\u001b[0m \u001b[0mprint\u001b[0m\u001b[0;34m(\u001b[0m\u001b[0;34m'Orders after rempval/Cancel'\u001b[0m\u001b[0;34m,\u001b[0m\u001b[0mOrders\u001b[0m\u001b[0;34m)\u001b[0m\u001b[0;34m\u001b[0m\u001b[0;34m\u001b[0m\u001b[0m\n",
            "\u001b[0;31mNameError\u001b[0m: name 'Orders' is not defined"
          ]
        }
      ]
    },
    {
      "cell_type": "markdown",
      "source": [],
      "metadata": {
        "id": "krQHCBpGMybx"
      }
    },
    {
      "cell_type": "code",
      "source": [
        "\n",
        "Orders.sort()\n",
        "print(\"Sorted Orders:\",Orders)"
      ],
      "metadata": {
        "colab": {
          "base_uri": "https://localhost:8080/",
          "height": 158
        },
        "id": "wwVMzMqYMvPu",
        "outputId": "2d90025a-10c3-4483-b31d-39430b6e7285"
      },
      "execution_count": null,
      "outputs": [
        {
          "output_type": "error",
          "ename": "NameError",
          "evalue": "name 'Orders' is not defined",
          "traceback": [
            "\u001b[0;31m---------------------------------------------------------------------------\u001b[0m",
            "\u001b[0;31mNameError\u001b[0m                                 Traceback (most recent call last)",
            "\u001b[0;32m<ipython-input-2-c8a1da067176>\u001b[0m in \u001b[0;36m<cell line: 0>\u001b[0;34m()\u001b[0m\n\u001b[0;32m----> 1\u001b[0;31m \u001b[0mOrders\u001b[0m\u001b[0;34m.\u001b[0m\u001b[0msort\u001b[0m\u001b[0;34m(\u001b[0m\u001b[0;34m)\u001b[0m\u001b[0;34m\u001b[0m\u001b[0;34m\u001b[0m\u001b[0m\n\u001b[0m\u001b[1;32m      2\u001b[0m \u001b[0mprint\u001b[0m\u001b[0;34m(\u001b[0m\u001b[0;34m\"Sorted Orders:\"\u001b[0m\u001b[0;34m,\u001b[0m\u001b[0mOrders\u001b[0m\u001b[0;34m)\u001b[0m\u001b[0;34m\u001b[0m\u001b[0;34m\u001b[0m\u001b[0m\n",
            "\u001b[0;31mNameError\u001b[0m: name 'Orders' is not defined"
          ]
        }
      ]
    },
    {
      "cell_type": "markdown",
      "source": [
        "4"
      ],
      "metadata": {
        "id": "s42yH-nZM1Oh"
      }
    },
    {
      "cell_type": "code",
      "source": [
        "print(\"First Order:\",Orders[0])"
      ],
      "metadata": {
        "colab": {
          "base_uri": "https://localhost:8080/"
        },
        "id": "VAZEV22HM1zr",
        "outputId": "4162d107-2317-4c15-fda0-4b4e663516c5"
      },
      "execution_count": null,
      "outputs": [
        {
          "output_type": "stream",
          "name": "stdout",
          "text": [
            "First Order: Laptop\n"
          ]
        }
      ]
    },
    {
      "cell_type": "code",
      "source": [
        "if \"Laptop\" in Orders:\n",
        "  print(\"Laptop is in the Order list\")\n",
        "else:\n",
        "  print(\"No serach is found\")"
      ],
      "metadata": {
        "colab": {
          "base_uri": "https://localhost:8080/"
        },
        "id": "zVSeLJOUNH_R",
        "outputId": "8dd67824-a2a4-48f2-c859-22f476b6531f"
      },
      "execution_count": null,
      "outputs": [
        {
          "output_type": "stream",
          "name": "stdout",
          "text": [
            "Laptop is in the Order list\n"
          ]
        }
      ]
    },
    {
      "cell_type": "code",
      "source": [
        "if \"Mouse\" in Orders:\n",
        "  print(\"Mouse is in the Order list\")\n",
        "else:\n",
        "  print(\"No serach is found\")"
      ],
      "metadata": {
        "colab": {
          "base_uri": "https://localhost:8080/"
        },
        "id": "tzLolA4PNsFS",
        "outputId": "775e7f6b-fb0c-4c65-9e9c-5c0124bebf1a"
      },
      "execution_count": null,
      "outputs": [
        {
          "output_type": "stream",
          "name": "stdout",
          "text": [
            "Mouse is in the Order list\n"
          ]
        }
      ]
    },
    {
      "cell_type": "code",
      "source": [
        "\n",
        "if \"Mobile\" in Orders:\n",
        "  print(\"Mobile is in orders\")\n",
        "else:\n",
        "  print('No search found')"
      ],
      "metadata": {
        "colab": {
          "base_uri": "https://localhost:8080/"
        },
        "id": "E6cSnVbYN3Ub",
        "outputId": "bae7591a-84ce-4e70-a278-ae33c7051331"
      },
      "execution_count": null,
      "outputs": [
        {
          "output_type": "stream",
          "name": "stdout",
          "text": [
            "No search found\n"
          ]
        }
      ]
    },
    {
      "cell_type": "code",
      "source": [
        "#product list from e-commerce platform\n",
        "products=[\"Laptop\",\"Smartphone\",\"Tablet\",\"Monitor\",\"Keyboard\",\"Mouse\"]\n",
        "\n",
        "#show to 3 trending products\n",
        "top_trending=products[0:3]\n",
        "print(\"Top 3 Trending Products:\",top_trending)\n",
        "\n",
        "#get products launched after a certain month(e.g, skuip first 2 products)\n",
        "recent_launches = products[2:]\n",
        "print(\"Products launched recently:\",recent_launches)\n",
        "\n",
        "#display featured products on homepage(e.g., first 4 products)\n",
        "featured_products = products[:4]\n",
        "print(\"Featured Products on Homepage:\",featured_products)\n",
        "\n",
        "#analyse recently added products (last 3 items)\n",
        "recently_added = products[-3:]\n",
        "print(\"Recently Added Products:\",recently_added)\n",
        "\n",
        "#cerate a promo excluding the last item(e.g.,item out of stocks)\n",
        "promo_list = products[:-1]\n",
        "print(\"Promo List (Excluding Out of Stocks):\",promo_list)\n",
        "\n",
        "#sample data for A/b testing (every 2nd product)\n",
        "ab_test_sample = products[::2]\n",
        "print(\"A/B Testing Sample:\", ab_test_sample)\n",
        "\n",
        "#Show most recent products in reverse chronological order\n",
        "reverse_products = products[::-1]\n",
        "print(\"reverse Chronological products:\", reverse_products)\n"
      ],
      "metadata": {
        "id": "EPNdQP50OOif"
      },
      "execution_count": null,
      "outputs": []
    },
    {
      "cell_type": "markdown",
      "source": [
        "**MY EXPO ON 19-05-2025**"
      ],
      "metadata": {
        "id": "1WAaF2so14Gn"
      }
    },
    {
      "cell_type": "code",
      "source": [
        "#products\n",
        "orders = [\"laptops\",\"Bluetooth\",\"Earpods\",\"Mobiles\",\"CP Plus\",\"Smart TV\",\"Remote\"]\n",
        "print(\"Orders:\",orders)\n",
        "\n",
        "\n",
        "#append\n",
        "orders.append(\"zebronics\")\n",
        "print(\"Oders after adding:\",orders)\n",
        "\n",
        "#remove\n",
        "orders.remove(\"Earpods\")\n",
        "print(\"Orders after removing:\",orders)\n",
        "\n",
        "#sort\n",
        "orders.sort()\n",
        "print(\"Orders after sorting:\",orders)\n",
        "\n",
        "#oders at 3\n",
        "print(f\"Our first order:{orders[3]}\")\n",
        "#products\n",
        "orders = [\"laptops\",\"Bluetooth\",\"Earpods\",\"Mobiles\",\"CP Plus\",\"Smart TV\",\"Remote\"]\n",
        "print(\"Orders:\",orders)\n",
        "\n",
        "\n",
        "#append\n",
        "orders.append(\"zebronics\")\n",
        "print(\"Oders after adding:\",orders)\n",
        "\n",
        "#remove\n",
        "orders.remove(\"Earpods\")\n",
        "print(\"Orders after removing:\",orders)\n",
        "\n",
        "#sort\n",
        "orders.sort()\n",
        "print(\"Orders after sorting:\",orders)\n",
        "\n",
        "#oders at 3\n",
        "print(f\"Our first order:{orders[3]}\")\n",
        "\n",
        "#if statement\n",
        "if \"ac\" not in orders:\n",
        "  print(\"True\")\n",
        "else:\n",
        "    print(\"False\")\n",
        "\n",
        "\n",
        "#bluetooth\n",
        "if \"Bluetooth\" in orders:\n",
        "  print(\"True\")\n",
        "else:\n",
        "  print(\"False\")\n",
        "\n",
        "  #"
      ],
      "metadata": {
        "id": "_6P_qLTVSD7W",
        "colab": {
          "base_uri": "https://localhost:8080/"
        },
        "outputId": "cd59d1ce-0ce4-460f-d73a-a99d49555d8c"
      },
      "execution_count": null,
      "outputs": [
        {
          "output_type": "stream",
          "name": "stdout",
          "text": [
            "Orders: ['laptops', 'Bluetooth', 'Earpods', 'Mobiles', 'CP Plus', 'Smart TV', 'Remote']\n",
            "Oders after adding: ['laptops', 'Bluetooth', 'Earpods', 'Mobiles', 'CP Plus', 'Smart TV', 'Remote', 'zebronics']\n",
            "Orders after removing: ['laptops', 'Bluetooth', 'Mobiles', 'CP Plus', 'Smart TV', 'Remote', 'zebronics']\n",
            "Orders after sorting: ['Bluetooth', 'CP Plus', 'Mobiles', 'Remote', 'Smart TV', 'laptops', 'zebronics']\n",
            "Our first order:Remote\n",
            "Orders: ['laptops', 'Bluetooth', 'Earpods', 'Mobiles', 'CP Plus', 'Smart TV', 'Remote']\n",
            "Oders after adding: ['laptops', 'Bluetooth', 'Earpods', 'Mobiles', 'CP Plus', 'Smart TV', 'Remote', 'zebronics']\n",
            "Orders after removing: ['laptops', 'Bluetooth', 'Mobiles', 'CP Plus', 'Smart TV', 'Remote', 'zebronics']\n",
            "Orders after sorting: ['Bluetooth', 'CP Plus', 'Mobiles', 'Remote', 'Smart TV', 'laptops', 'zebronics']\n",
            "Our first order:Remote\n",
            "True\n",
            "True\n"
          ]
        }
      ]
    },
    {
      "cell_type": "code",
      "source": [
        "#product list from e-commerce platform\n",
        "products=[\"laptops\",\"Bluetooth\",\"Earpods\",\"Mobiles\",\"CP Plus\",\"Smart TV\",\"Remote\"]\n",
        "\n",
        "#show to 3 trending products\n",
        "top_trending=products[0:3]\n",
        "print(\"Top 3 Trending Products:\",top_trending)\n",
        "\n",
        "#get products launched after a certain month(e.g, skip first 2 products)\n",
        "recent_launches = products[2:]\n",
        "print(\"Products launched recently:\",recent_launches)\n",
        "\n",
        "#display featured products on homepage(e.g., first 4 products)\n",
        "featured_products = products[:4]\n",
        "print(\"Featured Products on Homepage:\",featured_products)\n",
        "\n",
        "#analyse recently added products (last 3 items)\n",
        "recently_added = products[-3:]\n",
        "print(\"Recently Added Products:\",recently_added)\n",
        "\n",
        "#cerate a promo excluding the last item(e.g.,item out of stocks)\n",
        "promo_list = products[:-1]\n",
        "print(\"Promo List (Excluding Out of Stocks):\",promo_list)\n",
        "\n",
        "#sample data for A/b testing (every 2nd product)\n",
        "ab_test_sample = products[::2]\n",
        "print(\"A/B Testing Sample:\", ab_test_sample)\n",
        "\n",
        "#Show most recent products in reverse chronological order\n",
        "reverse_products = products[::-1]\n",
        "print(\"reverse Chronological products:\", reverse_products)\n"
      ],
      "metadata": {
        "colab": {
          "base_uri": "https://localhost:8080/"
        },
        "id": "cqN0clOg0C4Z",
        "outputId": "53704ebc-5147-4ff8-8c3e-6fce3eef5123"
      },
      "execution_count": null,
      "outputs": [
        {
          "output_type": "stream",
          "name": "stdout",
          "text": [
            "Top 3 Trending Products: ['laptops', 'Bluetooth', 'Earpods']\n",
            "Products launched recently: ['Earpods', 'Mobiles', 'CP Plus', 'Smart TV', 'Remote']\n",
            "Featured Products on Homepage: ['laptops', 'Bluetooth', 'Earpods', 'Mobiles']\n",
            "Recently Added Products: ['CP Plus', 'Smart TV', 'Remote']\n",
            "Promo List (Excluding Out of Stocks): ['laptops', 'Bluetooth', 'Earpods', 'Mobiles', 'CP Plus', 'Smart TV']\n",
            "A/B Testing Sample: ['laptops', 'Earpods', 'CP Plus', 'Remote']\n",
            "reverse Chronological products: ['Remote', 'Smart TV', 'CP Plus', 'Mobiles', 'Earpods', 'Bluetooth', 'laptops']\n"
          ]
        }
      ]
    },
    {
      "cell_type": "code",
      "source": [
        "#A/B Testing\n",
        "#products[::2]\n",
        "#List of products\n",
        "products = [\"Laptop\", \"Smartphone\", \"Tablet\", \"Monitor\", \"Keyboard\", \"Mouse\"]\n",
        "\n",
        "# Simulated user ratings for two different versions of the product page\n",
        "# Design A ratings (Group A sees new layout)\n",
        "ratings_a = [4.5, 4.0, 4.3, 3.9, 4.2, 4.1]\n",
        "\n",
        "# Design B ratings (Group B sees old layout)\n",
        "ratings_b = [4.2, 3.8, 4.0, 3.5, 4.0, 3.9]"
      ],
      "metadata": {
        "id": "n3noD6bt2Yhv"
      },
      "execution_count": null,
      "outputs": []
    },
    {
      "cell_type": "code",
      "source": [
        "#Step-1 A/B Testing splitting\n",
        "\n",
        "# Group A: Every 2nd product starting from index 0\n",
        "group_a_products = products[::2]\n",
        "group_a_ratings = ratings_a[::2]\n",
        "print(\"Group A Products:\", group_a_products)\n",
        "print(\"Group A Ratings:\", group_a_ratings)\n",
        "\n",
        "# Group B: Every 2nd product starting from index 1\n",
        "group_b_products = products[1::2]\n",
        "group_b_ratings = ratings_b[1::2]\n",
        "print(\"Group B Products:\", group_b_products)\n",
        "print(\"Group B Ratings:\", group_b_ratings)"
      ],
      "metadata": {
        "colab": {
          "base_uri": "https://localhost:8080/"
        },
        "id": "nRJc2DtQFfIe",
        "outputId": "404e7e6a-6d0c-427e-96e8-48560cb7f951"
      },
      "execution_count": null,
      "outputs": [
        {
          "output_type": "stream",
          "name": "stdout",
          "text": [
            "Group A Products: ['Laptop', 'Tablet', 'Keyboard']\n",
            "Group A Ratings: [4.5, 4.3, 4.2]\n",
            "Group B Products: ['Smartphone', 'Monitor', 'Mouse']\n",
            "Group B Ratings: [3.8, 3.5, 3.9]\n"
          ]
        }
      ]
    },
    {
      "cell_type": "code",
      "source": [
        "#Step-2 Calculate average rating\n",
        "\n",
        "# Calculate averages\n",
        "avg_rating_a = sum(group_a_ratings) / len(group_a_ratings)\n",
        "avg_rating_b = sum(group_b_ratings) / len(group_b_ratings)\n",
        "\n",
        "print(\"\\nAverage Rating - Group A (New Design):\", round(avg_rating_a, 2))\n",
        "print(\"Average Rating - Group B (Old Design):\", round(avg_rating_b, 2))"
      ],
      "metadata": {
        "colab": {
          "base_uri": "https://localhost:8080/"
        },
        "id": "HuzmGa_IFmM6",
        "outputId": "10dc092a-372c-4b1c-dbb5-61187d871115"
      },
      "execution_count": null,
      "outputs": [
        {
          "output_type": "stream",
          "name": "stdout",
          "text": [
            "\n",
            "Average Rating - Group A (New Design): 4.33\n",
            "Average Rating - Group B (Old Design): 3.73\n"
          ]
        }
      ]
    },
    {
      "cell_type": "code",
      "source": [
        "#interpret result\n",
        "\n",
        "if avg_rating_a > avg_rating_b:\n",
        "    print(\"✅ New design performs better. Consider rolling it out!\")\n",
        "elif avg_rating_a < avg_rating_b:\n",
        "    print(\"⚠️ Old design performs better. Investigate why the new one didn't work.\")\n",
        "else:\n",
        "    print(\"🔄 Both designs perform equally. Consider other metrics like time-on-page or click-through.\")\n"
      ],
      "metadata": {
        "colab": {
          "base_uri": "https://localhost:8080/"
        },
        "id": "zXDWgvTkFqN-",
        "outputId": "45e8ac79-4854-49d8-f65d-a4910abad2ee"
      },
      "execution_count": null,
      "outputs": [
        {
          "output_type": "stream",
          "name": "stdout",
          "text": [
            "✅ New design performs better. Consider rolling it out!\n"
          ]
        }
      ]
    },
    {
      "cell_type": "markdown",
      "source": [
        "**DAY-7**"
      ],
      "metadata": {
        "id": "_skJyg_2FEvF"
      }
    },
    {
      "cell_type": "code",
      "source": [
        "from math import dist\n",
        "\n",
        "# Tuple format: (Blood Pressure, Heart Rate, Temperature)\n",
        "known_patient_1 = (120, 80, 98.6)\n",
        "known_patient_2 = (130, 85, 99.1)\n",
        "new_patient      = (125, 82, 98.8)\n",
        "\n",
        "# Compare new patient with known ones\n",
        "distance1 = dist(new_patient, known_patient_1)\n",
        "distance2 = dist(new_patient, known_patient_2)\n",
        "\n",
        "# Decide closest match\n",
        "if distance1 < distance2:\n",
        "    print(\"New Patient is more similar to Known Patient 1\")\n",
        "else:\n",
        "    print(\"New Patient is more similar to Known Patient 2\")"
      ],
      "metadata": {
        "colab": {
          "base_uri": "https://localhost:8080/"
        },
        "id": "gZEjDYCZGwYP",
        "outputId": "b9293e2d-cd33-4ced-dbed-80b8a4edff74"
      },
      "execution_count": null,
      "outputs": [
        {
          "output_type": "stream",
          "name": "stdout",
          "text": [
            "New Patient is more similar to Known Patient 1\n"
          ]
        }
      ]
    },
    {
      "cell_type": "markdown",
      "source": [
        "**VARIOUS BASIC TUPLE Operations**"
      ],
      "metadata": {
        "id": "CStxXurdIWtm"
      }
    },
    {
      "cell_type": "code",
      "source": [
        "# Creating a tuple\n",
        "my_tuple = (10, 20, 30, 40, 50)\n",
        "print(\"Original Tuple:\", my_tuple)\n",
        "\n",
        "# Indexing\n",
        "print(\"Element at index 0:\", my_tuple[0])\n",
        "print(\"Element at index -1 (last):\", my_tuple[-1])\n",
        "\n",
        "# Slicing\n",
        "print(\"Sliced Tuple [1:4]:\", my_tuple[1:4])\n",
        "\n",
        "# Concatenation\n",
        "tuple2 = (60, 70)\n",
        "combined_tuple = my_tuple + tuple2\n",
        "print(\"Concatenated Tuple:\", combined_tuple)\n",
        "\n",
        "# Repetition\n",
        "repeated_tuple = my_tuple * 2\n",
        "print(\"Repeated Tuple:\", repeated_tuple)\n",
        "\n",
        "# Membership Test\n",
        "print(\"Is 30 in my_tuple?\", 30 in my_tuple)\n",
        "print(\"Is 100 in my_tuple?\", 100 in my_tuple)\n",
        "\n",
        "# Iterating through a tuple\n",
        "print(\"Iterating through my_tuple:\")\n",
        "for item in my_tuple:\n",
        "    print(item)\n",
        "\n",
        "# Built-in functions\n",
        "print(\"Length of tuple:\", len(my_tuple))\n",
        "print(\"Maximum element:\", max(my_tuple))\n",
        "print(\"Minimum element:\", min(my_tuple))\n",
        "print(\"Sum of elements:\", sum(my_tuple))"
      ],
      "metadata": {
        "colab": {
          "base_uri": "https://localhost:8080/"
        },
        "id": "CChjSw1AIU2l",
        "outputId": "4f50a344-63c7-4218-8fd6-c8a0e7413807"
      },
      "execution_count": null,
      "outputs": [
        {
          "output_type": "stream",
          "name": "stdout",
          "text": [
            "Original Tuple: (10, 20, 30, 40, 50)\n",
            "Element at index 0: 10\n",
            "Element at index -1 (last): 50\n",
            "Sliced Tuple [1:4]: (20, 30, 40)\n",
            "Concatenated Tuple: (10, 20, 30, 40, 50, 60, 70)\n",
            "Repeated Tuple: (10, 20, 30, 40, 50, 10, 20, 30, 40, 50)\n",
            "Is 30 in my_tuple? True\n",
            "Is 100 in my_tuple? False\n",
            "Iterating through my_tuple:\n",
            "10\n",
            "20\n",
            "30\n",
            "40\n",
            "50\n",
            "Length of tuple: 5\n",
            "Maximum element: 50\n",
            "Minimum element: 10\n",
            "Sum of elements: 150\n"
          ]
        }
      ]
    },
    {
      "cell_type": "code",
      "source": [
        "# Each ride is represented as a tuple:\n",
        "# Format: (rider_id, driver_id, start_location, end_location, fare)\n",
        "\n",
        "ride1 = ('R123', 'D456', 'Banjara Hills', 'Gachibowli', 240.50)\n",
        "ride2 = ('R124', 'D457', 'Madhapur', 'Kukatpally', 180.75)\n",
        "ride3 = ('R125', 'D456', 'Ameerpet', 'HiTech City', 310.00)\n",
        "\n",
        "\n",
        "# Store all rides in a list of tuples\n",
        "all_rides = [ride1, ride2, ride3]\n",
        "\n",
        "# 1. Print details of each ride\n",
        "for ride in all_rides:\n",
        "    print(\"Rider\", ride[0], \"took a ride from\", ride[2], \"to\", ride[3], \"and paid ₹\", ride[4])\n",
        "\n",
        "# 2. Calculate total earnings of driver D456\n",
        "total_earnings = 0\n",
        "for ride in all_rides:\n",
        "    if ride[1] == 'D456':\n",
        "        total_earnings = total_earnings+ride[4]\n",
        "\n",
        "print(\"\\nTotal earnings of driver D456: ₹\", total_earnings)"
      ],
      "metadata": {
        "colab": {
          "base_uri": "https://localhost:8080/"
        },
        "id": "gVTzXebTJBzF",
        "outputId": "fedeea1c-ea02-4cb5-f537-d85f3ebc45d4"
      },
      "execution_count": null,
      "outputs": [
        {
          "output_type": "stream",
          "name": "stdout",
          "text": [
            "Rider R123 took a ride from Banjara Hills to Gachibowli and paid ₹ 240.5\n",
            "Rider R124 took a ride from Madhapur to Kukatpally and paid ₹ 180.75\n",
            "Rider R125 took a ride from Ameerpet to HiTech City and paid ₹ 310.0\n",
            "\n",
            "Total earnings of driver D456: ₹ 550.5\n"
          ]
        }
      ]
    },
    {
      "cell_type": "markdown",
      "source": [
        "# Attempting to modify a tuple (will cause an error) and\n",
        "#**Unpacking a tuple**"
      ],
      "metadata": {
        "id": "CVVjsvW3JGUR"
      }
    },
    {
      "cell_type": "code",
      "source": [
        "# Defining a tuple for a product\n",
        "product = (\"Laptop\", 1200, \"Electronics\")\n",
        "\n",
        "# Accessing tuple elements\n",
        "print(\"Product Name:\", product[0])\n",
        "print(\"Price:\", product[1])\n",
        "print(\"Category:\", product[2])\n",
        "\n",
        "# Attempting to modify a tuple (will cause an error)\n",
        "try:\n",
        "    product[1] = 1300  # Tuples are immutable\n",
        "except TypeError as e:\n",
        "    print(\"Error:\", e)\n",
        "\n",
        "# Unpacking a tuple\n",
        "name, price, category = product\n",
        "print(name,price,category)\n"
      ],
      "metadata": {
        "colab": {
          "base_uri": "https://localhost:8080/"
        },
        "id": "SBdy6H0kJXgu",
        "outputId": "ce15fd52-fb34-498c-d083-bef6fd78d1b8"
      },
      "execution_count": null,
      "outputs": [
        {
          "output_type": "stream",
          "name": "stdout",
          "text": [
            "Product Name: Laptop\n",
            "Price: 1200\n",
            "Category: Electronics\n",
            "Error: 'tuple' object does not support item assignment\n",
            "Laptop 1200 Electronics\n"
          ]
        }
      ]
    },
    {
      "cell_type": "markdown",
      "source": [
        "# A Case study on 20-05-2025"
      ],
      "metadata": {
        "id": "1uGFCZjF0KhN"
      }
    },
    {
      "cell_type": "markdown",
      "source": [
        "the city weather tarcker\n",
        "store and retrive the weather information\n",
        "dict-city temp,humitdity-trends\n",
        "indian waether updates\n",
        "hyd pune mumbi,bengaluru,chennai,hdelhi-10 cities of country\n",
        "find\n",
        "tuple\n",
        "dict\n"
      ],
      "metadata": {
        "id": "JMbepwZi03HN"
      }
    },
    {
      "cell_type": "code",
      "source": [
        "#case study on weather\n",
        "weather={\"City\":['Hyderabad ','Pune','Delhi','Mumbai','Bengaluru','Chennai'],\n",
        "         \"Temperature\":[32,23,40,32,24,29],\n",
        "         \"Humidity\":[52,100,43,75,83,66]\n",
        "         }\n",
        "#print(weather)\n",
        "\n",
        "\n",
        "\n",
        "import pandas as pd\n",
        "df=pd.DataFrame(weather)\n",
        "print(df)\n",
        "\n",
        "max_humidity=max(weather['Humidity'])\n",
        "print(f\"Maximum Humidity {max_humidity}% at {weather['City'][weather['Humidity'].index(max_humidity)]}\")\n",
        "\n",
        "min_humidity=min(weather['Humidity'])\n",
        "print(f\"Minimum Humidity {min_humidity}% at {weather['City'][weather['Humidity'].index(min_humidity)]}\")\n",
        "\n",
        "max_temp=max(weather['Temperature'])\n",
        "print(f\"Maximum Temperature {max_temp}°C at {weather['City'][weather['Temperature'].index(max_temp)]}\")\n",
        "\n",
        "min_temp=min(weather['Temperature'])\n",
        "print(f\"Minimum Temperature {min_temp}°C at {weather['City'][weather['Temperature'].index(min_temp)]}\")\n",
        "#display temperature trends\n",
        "print(\"Temperature Trends:\")\n",
        "for i in range(len(weather[\"City\"])):\n",
        "  print(f'{weather[\"City\"][i]:<15}{weather[\"Temperature\"][i]:>15}')"
      ],
      "metadata": {
        "id": "mTvEAfhm0TFD",
        "colab": {
          "base_uri": "https://localhost:8080/"
        },
        "outputId": "d1d638c3-09ce-4198-9485-200c5bf94dae"
      },
      "execution_count": null,
      "outputs": [
        {
          "output_type": "stream",
          "name": "stdout",
          "text": [
            "         City  Temperature  Humidity\n",
            "0  Hyderabad            32        52\n",
            "1        Pune           23       100\n",
            "2       Delhi           40        43\n",
            "3      Mumbai           32        75\n",
            "4   Bengaluru           24        83\n",
            "5     Chennai           29        66\n",
            "Maximum Humidity 100% at Pune\n",
            "Minimum Humidity 43% at Delhi\n",
            "Maximum Temperature 40°C at Delhi\n",
            "Minimum Temperature 23°C at Pune\n",
            "Temperature Trends:\n",
            "Hyderabad                   32\n",
            "Pune                        23\n",
            "Delhi                       40\n",
            "Mumbai                      32\n",
            "Bengaluru                   24\n",
            "Chennai                     29\n"
          ]
        }
      ]
    },
    {
      "cell_type": "markdown",
      "source": [
        "DAY-9 ON CONTROL STRUCTURES on 22-05-2025"
      ],
      "metadata": {
        "id": "GLmDBPlg1tlC"
      }
    },
    {
      "cell_type": "code",
      "source": [
        "#contorl structure in python  # control the flow of execution\n",
        "#Branching\n",
        "#if statement\n",
        "\n",
        "age=20\n",
        "if age>=18:\n",
        "  print(\"You are eligible to vote\")\n",
        "print(\"I am after if\")\n",
        "\n"
      ],
      "metadata": {
        "id": "25bPje1Z3IWt",
        "colab": {
          "base_uri": "https://localhost:8080/"
        },
        "outputId": "973ddd37-d4c6-4b71-c720-8d705468ff68"
      },
      "execution_count": 2,
      "outputs": [
        {
          "output_type": "stream",
          "name": "stdout",
          "text": [
            "You are eligible to vote\n",
            "I am after if\n"
          ]
        }
      ]
    },
    {
      "cell_type": "code",
      "source": [
        "#if-else\n",
        "age=20\n",
        "if age>=18:\n",
        "  print(\"You are eligible to vote\")\n",
        "else:\n",
        "  print(\"You are not eligible to vote\")\n",
        "print(\"Thank you\")"
      ],
      "metadata": {
        "colab": {
          "base_uri": "https://localhost:8080/"
        },
        "id": "GofqIvCsRwd2",
        "outputId": "c88cda02-0707-44e1-c809-d5a0349e9656"
      },
      "execution_count": 5,
      "outputs": [
        {
          "output_type": "stream",
          "name": "stdout",
          "text": [
            "You are eligible to vote\n",
            "Thank you\n"
          ]
        }
      ]
    },
    {
      "cell_type": "code",
      "source": [
        "# if elif\n",
        "marks=60\n",
        "\n",
        "if marks>=90:\n",
        "  print(\"You got A grade\")\n",
        "elif marks>=80:\n",
        "  print(\"You got B grade\")\n",
        "elif marks>=70:\n",
        "  print(\"You got C grade\")\n",
        "elif marks>=60:\n",
        "  print(\"You got D grade\")\n",
        "else:\n",
        "  print(\"You are failed\")"
      ],
      "metadata": {
        "colab": {
          "base_uri": "https://localhost:8080/"
        },
        "id": "ZKdaemBKSGr9",
        "outputId": "2db916a5-8e00-4930-f5dd-00f55b98be44"
      },
      "execution_count": 6,
      "outputs": [
        {
          "output_type": "stream",
          "name": "stdout",
          "text": [
            "You got D grade\n"
          ]
        }
      ]
    },
    {
      "cell_type": "code",
      "source": [
        "#nested if\n",
        "# if within if\n",
        "\n",
        "a=10\n",
        "b=20\n",
        "c=30\n",
        "\n",
        "if a>b:\n",
        "  if a>c:\n",
        "    print(\"a is greater\")\n",
        "  elif b>c:\n",
        "    print(\"b is greater\")\n",
        "  else:\n",
        "    print(\"c is greater\")\n",
        "else:\n",
        "  if b>c:\n",
        "    print(\"b is greater\")\n",
        "  else:\n",
        "    print(\"c is greater\")"
      ],
      "metadata": {
        "colab": {
          "base_uri": "https://localhost:8080/"
        },
        "id": "omX-JKzFSg5u",
        "outputId": "3e7997cc-30bd-4a4c-a616-446d4c814292"
      },
      "execution_count": 7,
      "outputs": [
        {
          "output_type": "stream",
          "name": "stdout",
          "text": [
            "c is greater\n"
          ]
        }
      ]
    },
    {
      "cell_type": "code",
      "source": [
        "#looping\n",
        "#while loop\n",
        "i=12\n",
        "while i<=10:\n",
        "  print(f'i={i}') #print(i)\n",
        "  i=i+1\n",
        "else:\n",
        "  print(f'i={i} value is greater than 10')\n",
        "  print(\"Please check the condition\")\n",
        "\n",
        "print(\"*** \" *10)\n",
        "#while loop\n",
        "i=1\n",
        "while i<=10:\n",
        "  print(f'i={i}') #print(i)\n",
        "  i=i+1\n",
        "else:\n",
        "  print(f'i={i}\\nloop is terminated')"
      ],
      "metadata": {
        "colab": {
          "base_uri": "https://localhost:8080/"
        },
        "id": "QPh1z5sdT-P2",
        "outputId": "ce67a376-406e-463d-86ba-2a1f0115715f"
      },
      "execution_count": 17,
      "outputs": [
        {
          "output_type": "stream",
          "name": "stdout",
          "text": [
            "i=12 value is greater than 10\n",
            "Please check the condition\n",
            "*** *** *** *** *** *** *** *** *** *** \n",
            "i=1\n",
            "i=2\n",
            "i=3\n",
            "i=4\n",
            "i=5\n",
            "i=6\n",
            "i=7\n",
            "i=8\n",
            "i=9\n",
            "i=10\n",
            "i=11\n",
            "loop is terminated\n"
          ]
        }
      ]
    },
    {
      "cell_type": "code",
      "source": [
        "#for loop\n",
        "for i in range(1,11):\n",
        "  print(f'i={i}')\n",
        "\n",
        "print(\"-\" *30)\n",
        "print(\" \"*20)\n",
        "\n",
        "# another way to represent\n",
        "for i in [1,2,3,4,5,6,7,8,9,10]:\n",
        "  print(f'i={i}')\n",
        "print(\"-\"*30)\n"
      ],
      "metadata": {
        "colab": {
          "base_uri": "https://localhost:8080/"
        },
        "id": "EIZYgpO3VgiJ",
        "outputId": "cc7bd4d9-ca2c-4211-80b1-863c272e87d2"
      },
      "execution_count": 30,
      "outputs": [
        {
          "output_type": "stream",
          "name": "stdout",
          "text": [
            "i=1\n",
            "i=2\n",
            "i=3\n",
            "i=4\n",
            "i=5\n",
            "i=6\n",
            "i=7\n",
            "i=8\n",
            "i=9\n",
            "i=10\n",
            "------------------------------\n",
            "                    \n",
            "i=1\n",
            "i=2\n",
            "i=3\n",
            "i=4\n",
            "i=5\n",
            "i=6\n",
            "i=7\n",
            "i=8\n",
            "i=9\n",
            "i=10\n",
            "------------------------------\n"
          ]
        }
      ]
    },
    {
      "cell_type": "code",
      "source": [
        "#jumping statements\n",
        "#loop with continue stmt\n",
        "for i in range(1,11):\n",
        "  if(i==5):\n",
        "    continue\n",
        "  print(f'i={i}')\n",
        "print(\"-\"*30)\n",
        "#loop with break stmt\n",
        "for i in range(1,11):\n",
        "  if(i==5):\n",
        "    break\n",
        "  print(f'i={i}')\n",
        "print(\"-\"*30)\n",
        "#loop with pass stmt\n",
        "for i in range(1,11):\n",
        "  if(i==5):\n",
        "    pass #we want to implement it later #to do work\n",
        "  print(f'i={i}')\n",
        "print(\"-\"*30)"
      ],
      "metadata": {
        "colab": {
          "base_uri": "https://localhost:8080/"
        },
        "id": "TPCHRuAnW3Xq",
        "outputId": "a58884ed-6412-4136-f6ab-1108764118c8"
      },
      "execution_count": 31,
      "outputs": [
        {
          "output_type": "stream",
          "name": "stdout",
          "text": [
            "i=1\n",
            "i=2\n",
            "i=3\n",
            "i=4\n",
            "i=6\n",
            "i=7\n",
            "i=8\n",
            "i=9\n",
            "i=10\n",
            "------------------------------\n",
            "i=1\n",
            "i=2\n",
            "i=3\n",
            "i=4\n",
            "------------------------------\n",
            "i=1\n",
            "i=2\n",
            "i=3\n",
            "i=4\n",
            "i=5\n",
            "i=6\n",
            "i=7\n",
            "i=8\n",
            "i=9\n",
            "i=10\n",
            "------------------------------\n"
          ]
        }
      ]
    },
    {
      "cell_type": "code",
      "source": [
        "#functions #Methods\n",
        "# it is group statements(specific purpose) that can executed on the function call\n",
        "\n",
        "# define the function\n",
        "def greet():\n",
        "  print(\"Welcome to python functions\")\n",
        "  print(\"Thank you\")\n",
        "\n",
        "# call the  function\n",
        "print(\"i am before function call\")\n",
        "greet()\n",
        "print(\"I am after function call\")\n"
      ],
      "metadata": {
        "colab": {
          "base_uri": "https://localhost:8080/"
        },
        "id": "Wm1kdrYTXu1y",
        "outputId": "3f68bb33-41f9-4b13-f97d-85f5919a5a3a"
      },
      "execution_count": 32,
      "outputs": [
        {
          "output_type": "stream",
          "name": "stdout",
          "text": [
            "i am before function call\n",
            "Welcome to python functions\n",
            "Thank you\n",
            "I am after function call\n"
          ]
        }
      ]
    },
    {
      "cell_type": "code",
      "source": [
        "# addition of two numbers using function\n",
        "\n",
        "def add(a,b):\n",
        "  sum=a+b\n",
        "  return sum\n",
        "result=add(50,6)\n",
        "print(f'result = {result}')\n",
        "print(f'result of sum of numbers={add(70,30)}')\n",
        "\n"
      ],
      "metadata": {
        "colab": {
          "base_uri": "https://localhost:8080/"
        },
        "id": "Y18soArcZUeT",
        "outputId": "fc5ee804-c4a3-4d80-88f3-0b270e65ac87"
      },
      "execution_count": 40,
      "outputs": [
        {
          "output_type": "stream",
          "name": "stdout",
          "text": [
            "result = 56\n",
            "result of sum of numbers=100\n"
          ]
        }
      ]
    },
    {
      "cell_type": "code",
      "source": [
        "#lambda function\n",
        "# Using Normal function\n",
        "def square(x):\n",
        "  return x*x\n",
        "print(f'Value of square using normal function:{square(8)}')\n",
        "\n",
        "#chech if a number is even\n",
        "is_even=lambda x:x%2==0\n",
        "print(f'is_even={is_even(10)}')\n",
        "print(f'is_even={is_even(11)}')\n"
      ],
      "metadata": {
        "colab": {
          "base_uri": "https://localhost:8080/"
        },
        "id": "Q6FH-2Lsaag1",
        "outputId": "7b7eaf09-2897-4603-8ae2-9eb10c4a5998"
      },
      "execution_count": 42,
      "outputs": [
        {
          "output_type": "stream",
          "name": "stdout",
          "text": [
            "Value of square using normal function:64\n",
            "is_even=True\n",
            "is_even=False\n"
          ]
        }
      ]
    },
    {
      "cell_type": "code",
      "source": [
        "# lambda with map(), filter(),sorted()\n",
        "#map()\n",
        "num=[1,2,3,4,5,6]\n",
        "square=list(map(lambda x:x*x,num))\n",
        "print(f'square={square}')\n",
        "print(\"-\"*10,\"filter\",\"-\"*10)\n",
        "#filter\n",
        "num=[1,2,3,4,5,6]\n",
        "even=list(filter(lambda x:x%2==0,num))\n",
        "print(f'even={even}')\n",
        "\n",
        "##filter\n",
        "num=[1,2,3,4,5,6]\n",
        "odd=list(filter(lambda x:x%2!=0,num))\n",
        "print(f'odd={odd}')\n",
        "\n",
        "#sorted() #ascending order\n",
        "print(\"-\" *30)\n",
        "students=[(\"Arjun\",65),(\"Krishna\",300),(\"Balaram\",90),(\"Sahadev\",50),(\"Nakula\",60),(\"Yudistra\",70)]\n",
        "sorted_students=sorted(students,key=lambda x:x[1])\n",
        "print(f'sorted_students={sorted_students}')\n",
        "\n",
        "###\n",
        "students=[(\"Arjun\",65),(\"Krishna\",300),(\"Balaram\",90),(\"Sahadev\",50),(\"Nakula\",60),(\"Yudistra\",70)]\n",
        "sorted_students=sorted(students,key=lambda x:x[0])\n",
        "print(f'sorted_students={sorted_students}')\n",
        "\n",
        "#descending order\n",
        "students=[(\"Arjun\",65),(\"Krishna\",300),(\"Balaram\",90),(\"Sahadev\",50),(\"Nakula\",60),(\"Yudistra\",70)]\n",
        "sorted_students=sorted(students,key=lambda x:x[1],reverse=True)\n",
        "print(f'sorted_students={sorted_students}')"
      ],
      "metadata": {
        "colab": {
          "base_uri": "https://localhost:8080/"
        },
        "id": "QWtoFEWFaZ5o",
        "outputId": "f9bca28d-e85d-4d75-a95d-59a824a0cac5"
      },
      "execution_count": 51,
      "outputs": [
        {
          "output_type": "stream",
          "name": "stdout",
          "text": [
            "square=[1, 4, 9, 16, 25, 36]\n",
            "---------- filter ----------\n",
            "even=[2, 4, 6]\n",
            "odd=[1, 3, 5]\n",
            "------------------------------\n",
            "sorted_students=[('Sahadev', 50), ('Nakula', 60), ('Arjun', 65), ('Yudistra', 70), ('Balaram', 90), ('Krishna', 300)]\n",
            "sorted_students=[('Arjun', 65), ('Balaram', 90), ('Krishna', 300), ('Nakula', 60), ('Sahadev', 50), ('Yudistra', 70)]\n",
            "sorted_students=[('Krishna', 300), ('Balaram', 90), ('Yudistra', 70), ('Arjun', 65), ('Nakula', 60), ('Sahadev', 50)]\n"
          ]
        }
      ]
    },
    {
      "cell_type": "markdown",
      "source": [
        "DAY -10\n"
      ],
      "metadata": {
        "id": "9rwMAx9sEYpO"
      }
    },
    {
      "cell_type": "code",
      "source": [
        "# use case on lambda functions\n",
        "data=[{\"drone_id\":12, \"alt\":150},\n",
        "      {\"drone_id\":15, \"alt\":125},\n",
        "      {\"drone_id\":43,\"alt\":110},\n",
        "      {\"drone_id\":56, \"alt\":95},\n",
        "      {\"drone_id\":60, \"alt\":88}\n",
        "     ]\n",
        "flagged = list(filter(lambda x: x[\"alt\"] < 100, data))\n",
        "print(\"Drones need attention:\",flagged)\n"
      ],
      "metadata": {
        "colab": {
          "base_uri": "https://localhost:8080/"
        },
        "id": "e1kUInjKEbBW",
        "outputId": "1f15ec26-0481-45c8-8c69-6aa2fd382e91"
      },
      "execution_count": null,
      "outputs": [
        {
          "output_type": "stream",
          "name": "stdout",
          "text": [
            "Drones need attention: [{'drone_id': 56, 'alt': 95}, {'drone_id': 60, 'alt': 88}]\n"
          ]
        }
      ]
    },
    {
      "cell_type": "markdown",
      "source": [
        "# DAY-11 ON statistics\n"
      ],
      "metadata": {
        "id": "FH1iSeDMsqvM"
      }
    },
    {
      "cell_type": "markdown",
      "source": [
        "statistics is a collection of data,analysing,interpreting the data.\n",
        "1.STANDARD DEVIATION (measures of dispersion)\n",
        "problem statement"
      ],
      "metadata": {
        "id": "u08zo_8gs9DK"
      }
    },
    {
      "cell_type": "markdown",
      "source": [
        "# **Discussed on statistics (theory)**\n",
        "what is statistics\n",
        "types of statistics-\n",
        "1.descriptive statistics-summarise and organise data\n",
        "2.inferential satistics-make prediction or generaliztiion from a sample\n",
        "types of data-\n",
        "1.qualitative data-numerical values(income,test scores,temperature)\n",
        "2.quantitative data-categorial values(gender,colors,product type)\n",
        "*Measures of central tendency-\n",
        "`mean(avg)-sum of total values/no of values\n",
        "---avg salary of employee\n",
        "`median(middle value)\n",
        "===median house price\n",
        "`mode(most frequent)\n",
        "---most purchased product in a supermarkt\n",
        "*measures of Disperson\n",
        "range=max-min\n",
        "--differ of temp in some days\n",
        "deviation=max-min\n",
        "*variance=avg of sqaured deviations\n",
        "*standard deviation=square root of variance.\n",
        "std is low more the consistency\n",
        "std is more less the consistency(inconsistent)\n",
        "*reliability:\n",
        "*quality control:if the standart deviation is too high, it means the light bulb lifespan is inconsistent . you might need to investigate the manufacturing process to identify and fix the source of the variation.\n",
        "*probabilty distribution:\n",
        "*Hypothesis testing:\n",
        "to test assumption about the thing wherher yes/no for the given assumption.\n",
        "*correlation and regression\n",
        "*sampling techniques\n",
        "-random sampling\n",
        "-stratified sampling(sub-groups)\n",
        "-cluster sampling(entire groups)\n",
        "*Data visualization tools\n",
        "-histogram\n",
        "-box plot\n",
        "-scatter plot\n",
        "-bar chart\n",
        "\n",
        "\n",
        "\n"
      ],
      "metadata": {
        "id": "RigdnT6tpPo8"
      }
    }
  ],
  "metadata": {
    "colab": {
      "gpuType": "T4",
      "provenance": []
    },
    "kernelspec": {
      "display_name": "Python 3",
      "name": "python3"
    },
    "language_info": {
      "name": "python"
    }
  },
  "nbformat": 4,
  "nbformat_minor": 0
}